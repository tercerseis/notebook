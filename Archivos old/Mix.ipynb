{
 "cells": [
  {
   "cell_type": "code",
   "execution_count": 1,
   "metadata": {},
   "outputs": [],
   "source": [
    "import pandas as pd\n",
    "import numpy as np"
   ]
  },
  {
   "cell_type": "code",
   "execution_count": 2,
   "metadata": {},
   "outputs": [],
   "source": [
    "from sys import path\n",
    "import os\n",
    "path.append(os.path.realpath('../'))"
   ]
  },
  {
   "cell_type": "code",
   "execution_count": 3,
   "metadata": {},
   "outputs": [],
   "source": [
    "FILE_1 = 'Data/info_onnet_v4.csv'\n",
    "FILE_44 = 'Data/inf_detalle_recurso_onnet_20220822_0400_con tarjeta_v2.csv'\n",
    "#FILE_2 = 'Data/tarjetas.csv'\n",
    "#FILE_3 = 'Data/dataframe_3.csv'"
   ]
  },
  {
   "cell_type": "code",
   "execution_count": null,
   "metadata": {},
   "outputs": [],
   "source": [
    "uno = pd.read_csv('Data/relat_VWE_CABLE_SEG_ACC_POINT_c.csv', sep=',', low_memory=False)\n",
    "dos = pd.read_csv('Data/relat_VWE_CABLE_SEG_FIBER_cist_.csv', sep=',', low_memory=False)\n",
    "tres = pd.read_csv('Data/relat_VWE_INITIAL_SITE_EQPT_cis.csv', sep=',', low_memory=False)\n",
    "cuatro = pd.read_csv('Data/relat_VWE_INTERM_EQPT_cist_gpon.csv', sep=',', low_memory=False)\n",
    "cinco = pd.read_csv('Data/relat_VWE_LOGICAL_CIRCUIT_FTTX_.csv', sep=',', low_memory=False)\n",
    "seis = pd.read_csv('Data/relat_VWE_TERMINAL_SITE_EQPT_ci.csv', sep=',', low_memory=False)"
   ]
  },
  {
   "cell_type": "code",
   "execution_count": null,
   "metadata": {},
   "outputs": [
    {
     "name": "stdout",
     "output_type": "stream",
     "text": [
      "(2125, 19)\n",
      "(52376, 42)\n",
      "(7744, 63)\n",
      "(7928, 40)\n",
      "(3842, 123)\n",
      "(3840, 57)\n"
     ]
    }
   ],
   "source": [
    "print(uno.shape)\n",
    "print(dos.shape)\n",
    "print(tres.shape)\n",
    "print(cuatro.shape)\n",
    "print(cinco.shape)\n",
    "print(seis.shape)"
   ]
  },
  {
   "cell_type": "code",
   "execution_count": null,
   "metadata": {},
   "outputs": [],
   "source": [
    "\n",
    "dataframe_1 = pd.read_csv(FILE_1, sep=',', low_memory=False)\n",
    "\n",
    "dataframe_122 = pd.read_csv(FILE_44, sep=';', low_memory=False)\n",
    "#dataframe_2 = pd.read_csv(FILE_2, sep=';', encoding='latin-1', low_memory=False)\n",
    "#dataframe_3 = pd.read_csv(FILE_3, sep=',', encoding='utf-8', low_memory=False)"
   ]
  },
  {
   "cell_type": "code",
   "execution_count": null,
   "metadata": {},
   "outputs": [],
   "source": [
    "dataframe_1.dtypes"
   ]
  },
  {
   "cell_type": "code",
   "execution_count": null,
   "metadata": {},
   "outputs": [
    {
     "data": {
      "text/plain": [
       "(3131225, 35)"
      ]
     },
     "execution_count": 6,
     "metadata": {},
     "output_type": "execute_result"
    }
   ],
   "source": [
    "dataframe_1.shape"
   ]
  },
  {
   "cell_type": "code",
   "execution_count": null,
   "metadata": {},
   "outputs": [],
   "source": [
    "dataframe_122.dtypes"
   ]
  },
  {
   "cell_type": "code",
   "execution_count": null,
   "metadata": {},
   "outputs": [
    {
     "data": {
      "text/plain": [
       "<bound method Series.drop of 0              0\n",
       "1              1\n",
       "2              2\n",
       "3              3\n",
       "4              4\n",
       "           ...  \n",
       "3141973    10748\n",
       "3141974    10749\n",
       "3141975    10750\n",
       "3141976    10751\n",
       "3141977    10752\n",
       "Name: Unnamed: 0, Length: 3141978, dtype: int64>"
      ]
     },
     "execution_count": 20,
     "metadata": {},
     "output_type": "execute_result"
    }
   ],
   "source": [
    "dataframe_122[''inde].drop"
   ]
  },
  {
   "cell_type": "code",
   "execution_count": null,
   "metadata": {},
   "outputs": [
    {
     "data": {
      "text/html": [
       "<div>\n",
       "<style scoped>\n",
       "    .dataframe tbody tr th:only-of-type {\n",
       "        vertical-align: middle;\n",
       "    }\n",
       "\n",
       "    .dataframe tbody tr th {\n",
       "        vertical-align: top;\n",
       "    }\n",
       "\n",
       "    .dataframe thead th {\n",
       "        text-align: right;\n",
       "    }\n",
       "</style>\n",
       "<table border=\"1\" class=\"dataframe\">\n",
       "  <thead>\n",
       "    <tr style=\"text-align: right;\">\n",
       "      <th></th>\n",
       "      <th>Unnamed: 0</th>\n",
       "      <th>TELEFONO</th>\n",
       "      <th>AGENCIA</th>\n",
       "      <th>EMPLAZAMIENTO</th>\n",
       "      <th>FABRICANTE</th>\n",
       "      <th>MODELO</th>\n",
       "      <th>HOSTNAME</th>\n",
       "      <th>IPADDRESS</th>\n",
       "      <th>RACK</th>\n",
       "      <th>SHELF</th>\n",
       "      <th>...</th>\n",
       "      <th>AGREGADOR_RACK</th>\n",
       "      <th>AGREGADOR_SHELF</th>\n",
       "      <th>AGREGADOR_SLOT</th>\n",
       "      <th>AGREGADOR_SUBSLOT</th>\n",
       "      <th>AGREGADOR_PUERTO</th>\n",
       "      <th>ID_PUERTO</th>\n",
       "      <th>ACCESS_ID</th>\n",
       "      <th>CARD_NAME</th>\n",
       "      <th>TECHNOLOGY_TYPE</th>\n",
       "      <th>TYPE_OF_CARD</th>\n",
       "    </tr>\n",
       "  </thead>\n",
       "  <tbody>\n",
       "    <tr>\n",
       "      <th>0</th>\n",
       "      <td>0</td>\n",
       "      <td>NaN</td>\n",
       "      <td>LAS REJAS</td>\n",
       "      <td>CH_PUDA_PUDA</td>\n",
       "      <td>ALCATEL</td>\n",
       "      <td>ISAM7360FX</td>\n",
       "      <td>PUDA_OLT_1</td>\n",
       "      <td>10.104.133.2</td>\n",
       "      <td>1</td>\n",
       "      <td>1</td>\n",
       "      <td>...</td>\n",
       "      <td>NaN</td>\n",
       "      <td>NaN</td>\n",
       "      <td>1</td>\n",
       "      <td>0</td>\n",
       "      <td>1/</td>\n",
       "      <td>10775727</td>\n",
       "      <td>NaN</td>\n",
       "      <td>FGLT-B</td>\n",
       "      <td>GPON</td>\n",
       "      <td>16-PORT GPON LINE CARD</td>\n",
       "    </tr>\n",
       "    <tr>\n",
       "      <th>1</th>\n",
       "      <td>1</td>\n",
       "      <td>NaN</td>\n",
       "      <td>LAS REJAS</td>\n",
       "      <td>CH_PUDA_PUDA</td>\n",
       "      <td>ALCATEL</td>\n",
       "      <td>ISAM7360FX</td>\n",
       "      <td>PUDA_OLT_1</td>\n",
       "      <td>10.104.133.2</td>\n",
       "      <td>1</td>\n",
       "      <td>1</td>\n",
       "      <td>...</td>\n",
       "      <td>NaN</td>\n",
       "      <td>NaN</td>\n",
       "      <td>1</td>\n",
       "      <td>0</td>\n",
       "      <td>1/</td>\n",
       "      <td>10775725</td>\n",
       "      <td>NaN</td>\n",
       "      <td>FGLT-B</td>\n",
       "      <td>GPON</td>\n",
       "      <td>16-PORT GPON LINE CARD</td>\n",
       "    </tr>\n",
       "    <tr>\n",
       "      <th>2</th>\n",
       "      <td>2</td>\n",
       "      <td>NaN</td>\n",
       "      <td>LAS REJAS</td>\n",
       "      <td>CH_PUDA_PUDA</td>\n",
       "      <td>ALCATEL</td>\n",
       "      <td>ISAM7360FX</td>\n",
       "      <td>PUDA_OLT_1</td>\n",
       "      <td>10.104.133.2</td>\n",
       "      <td>1</td>\n",
       "      <td>1</td>\n",
       "      <td>...</td>\n",
       "      <td>NaN</td>\n",
       "      <td>NaN</td>\n",
       "      <td>1</td>\n",
       "      <td>0</td>\n",
       "      <td>1/</td>\n",
       "      <td>10775710</td>\n",
       "      <td>NaN</td>\n",
       "      <td>FGLT-B</td>\n",
       "      <td>GPON</td>\n",
       "      <td>16-PORT GPON LINE CARD</td>\n",
       "    </tr>\n",
       "    <tr>\n",
       "      <th>3</th>\n",
       "      <td>3</td>\n",
       "      <td>NaN</td>\n",
       "      <td>LAS REJAS</td>\n",
       "      <td>CH_PUDA_PUDA</td>\n",
       "      <td>ALCATEL</td>\n",
       "      <td>ISAM7360FX</td>\n",
       "      <td>PUDA_OLT_1</td>\n",
       "      <td>10.104.133.2</td>\n",
       "      <td>1</td>\n",
       "      <td>1</td>\n",
       "      <td>...</td>\n",
       "      <td>NaN</td>\n",
       "      <td>NaN</td>\n",
       "      <td>1</td>\n",
       "      <td>0</td>\n",
       "      <td>1/</td>\n",
       "      <td>10775734</td>\n",
       "      <td>NaN</td>\n",
       "      <td>FGLT-B</td>\n",
       "      <td>GPON</td>\n",
       "      <td>16-PORT GPON LINE CARD</td>\n",
       "    </tr>\n",
       "    <tr>\n",
       "      <th>4</th>\n",
       "      <td>4</td>\n",
       "      <td>NaN</td>\n",
       "      <td>LAS REJAS</td>\n",
       "      <td>CH_PUDA_PUDA</td>\n",
       "      <td>ALCATEL</td>\n",
       "      <td>ISAM7360FX</td>\n",
       "      <td>PUDA_OLT_1</td>\n",
       "      <td>10.104.133.2</td>\n",
       "      <td>1</td>\n",
       "      <td>1</td>\n",
       "      <td>...</td>\n",
       "      <td>NaN</td>\n",
       "      <td>NaN</td>\n",
       "      <td>1</td>\n",
       "      <td>0</td>\n",
       "      <td>1/</td>\n",
       "      <td>10775734</td>\n",
       "      <td>NaN</td>\n",
       "      <td>FGLT-B</td>\n",
       "      <td>GPON</td>\n",
       "      <td>16-PORT GPON LINE CARD</td>\n",
       "    </tr>\n",
       "  </tbody>\n",
       "</table>\n",
       "<p>5 rows × 36 columns</p>\n",
       "</div>"
      ],
      "text/plain": [
       "   Unnamed: 0 TELEFONO    AGENCIA EMPLAZAMIENTO FABRICANTE      MODELO  \\\n",
       "0           0      NaN  LAS REJAS  CH_PUDA_PUDA    ALCATEL  ISAM7360FX   \n",
       "1           1      NaN  LAS REJAS  CH_PUDA_PUDA    ALCATEL  ISAM7360FX   \n",
       "2           2      NaN  LAS REJAS  CH_PUDA_PUDA    ALCATEL  ISAM7360FX   \n",
       "3           3      NaN  LAS REJAS  CH_PUDA_PUDA    ALCATEL  ISAM7360FX   \n",
       "4           4      NaN  LAS REJAS  CH_PUDA_PUDA    ALCATEL  ISAM7360FX   \n",
       "\n",
       "     HOSTNAME     IPADDRESS  RACK  SHELF  ...  AGREGADOR_RACK  \\\n",
       "0  PUDA_OLT_1  10.104.133.2     1      1  ...             NaN   \n",
       "1  PUDA_OLT_1  10.104.133.2     1      1  ...             NaN   \n",
       "2  PUDA_OLT_1  10.104.133.2     1      1  ...             NaN   \n",
       "3  PUDA_OLT_1  10.104.133.2     1      1  ...             NaN   \n",
       "4  PUDA_OLT_1  10.104.133.2     1      1  ...             NaN   \n",
       "\n",
       "   AGREGADOR_SHELF  AGREGADOR_SLOT AGREGADOR_SUBSLOT  AGREGADOR_PUERTO  \\\n",
       "0              NaN               1                 0                1/   \n",
       "1              NaN               1                 0                1/   \n",
       "2              NaN               1                 0                1/   \n",
       "3              NaN               1                 0                1/   \n",
       "4              NaN               1                 0                1/   \n",
       "\n",
       "  ID_PUERTO ACCESS_ID CARD_NAME TECHNOLOGY_TYPE            TYPE_OF_CARD  \n",
       "0  10775727       NaN    FGLT-B            GPON  16-PORT GPON LINE CARD  \n",
       "1  10775725       NaN    FGLT-B            GPON  16-PORT GPON LINE CARD  \n",
       "2  10775710       NaN    FGLT-B            GPON  16-PORT GPON LINE CARD  \n",
       "3  10775734       NaN    FGLT-B            GPON  16-PORT GPON LINE CARD  \n",
       "4  10775734       NaN    FGLT-B            GPON  16-PORT GPON LINE CARD  \n",
       "\n",
       "[5 rows x 36 columns]"
      ]
     },
     "execution_count": 21,
     "metadata": {},
     "output_type": "execute_result"
    }
   ],
   "source": [
    "dataframe_122.head()"
   ]
  },
  {
   "cell_type": "code",
   "execution_count": null,
   "metadata": {},
   "outputs": [
    {
     "data": {
      "text/html": [
       "<div>\n",
       "<style scoped>\n",
       "    .dataframe tbody tr th:only-of-type {\n",
       "        vertical-align: middle;\n",
       "    }\n",
       "\n",
       "    .dataframe tbody tr th {\n",
       "        vertical-align: top;\n",
       "    }\n",
       "\n",
       "    .dataframe thead th {\n",
       "        text-align: right;\n",
       "    }\n",
       "</style>\n",
       "<table border=\"1\" class=\"dataframe\">\n",
       "  <thead>\n",
       "    <tr style=\"text-align: right;\">\n",
       "      <th></th>\n",
       "      <th>TELEFONO</th>\n",
       "      <th>AGENCIA</th>\n",
       "      <th>EMPLAZAMIENTO</th>\n",
       "      <th>FABRICANTE</th>\n",
       "      <th>MODELO</th>\n",
       "      <th>HOSTNAME</th>\n",
       "      <th>IPADDRESS</th>\n",
       "      <th>RACK</th>\n",
       "      <th>SHELF</th>\n",
       "      <th>SLOT</th>\n",
       "      <th>...</th>\n",
       "      <th>AGREGADOR_RACK</th>\n",
       "      <th>AGREGADOR_SHELF</th>\n",
       "      <th>AGREGADOR_SLOT</th>\n",
       "      <th>AGREGADOR_SUBSLOT</th>\n",
       "      <th>AGREGADOR_PUERTO</th>\n",
       "      <th>ID_PUERTO</th>\n",
       "      <th>ACCESS_ID</th>\n",
       "      <th>CARD_NAME</th>\n",
       "      <th>TECHNOLOGY_TYPE</th>\n",
       "      <th>TYPE_OF_CARD</th>\n",
       "    </tr>\n",
       "  </thead>\n",
       "  <tbody>\n",
       "    <tr>\n",
       "      <th>0</th>\n",
       "      <td>NaN</td>\n",
       "      <td>LAS REJAS</td>\n",
       "      <td>CH_PUDA_PUDA</td>\n",
       "      <td>ALCATEL</td>\n",
       "      <td>ISAM7360FX</td>\n",
       "      <td>PUDA_OLT_1</td>\n",
       "      <td>10.104.133.2</td>\n",
       "      <td>1</td>\n",
       "      <td>1</td>\n",
       "      <td>2</td>\n",
       "      <td>...</td>\n",
       "      <td>NaN</td>\n",
       "      <td>NaN</td>\n",
       "      <td>1</td>\n",
       "      <td>0</td>\n",
       "      <td>1/</td>\n",
       "      <td>10775727</td>\n",
       "      <td>NaN</td>\n",
       "      <td>FGLT-B</td>\n",
       "      <td>GPON</td>\n",
       "      <td>16-PORT GPON LINE CARD</td>\n",
       "    </tr>\n",
       "    <tr>\n",
       "      <th>1</th>\n",
       "      <td>NaN</td>\n",
       "      <td>LAS REJAS</td>\n",
       "      <td>CH_PUDA_PUDA</td>\n",
       "      <td>ALCATEL</td>\n",
       "      <td>ISAM7360FX</td>\n",
       "      <td>PUDA_OLT_1</td>\n",
       "      <td>10.104.133.2</td>\n",
       "      <td>1</td>\n",
       "      <td>1</td>\n",
       "      <td>2</td>\n",
       "      <td>...</td>\n",
       "      <td>NaN</td>\n",
       "      <td>NaN</td>\n",
       "      <td>1</td>\n",
       "      <td>0</td>\n",
       "      <td>1/</td>\n",
       "      <td>10775725</td>\n",
       "      <td>NaN</td>\n",
       "      <td>FGLT-B</td>\n",
       "      <td>GPON</td>\n",
       "      <td>16-PORT GPON LINE CARD</td>\n",
       "    </tr>\n",
       "    <tr>\n",
       "      <th>2</th>\n",
       "      <td>NaN</td>\n",
       "      <td>LAS REJAS</td>\n",
       "      <td>CH_PUDA_PUDA</td>\n",
       "      <td>ALCATEL</td>\n",
       "      <td>ISAM7360FX</td>\n",
       "      <td>PUDA_OLT_1</td>\n",
       "      <td>10.104.133.2</td>\n",
       "      <td>1</td>\n",
       "      <td>1</td>\n",
       "      <td>1</td>\n",
       "      <td>...</td>\n",
       "      <td>NaN</td>\n",
       "      <td>NaN</td>\n",
       "      <td>1</td>\n",
       "      <td>0</td>\n",
       "      <td>1/</td>\n",
       "      <td>10775710</td>\n",
       "      <td>NaN</td>\n",
       "      <td>FGLT-B</td>\n",
       "      <td>GPON</td>\n",
       "      <td>16-PORT GPON LINE CARD</td>\n",
       "    </tr>\n",
       "  </tbody>\n",
       "</table>\n",
       "<p>3 rows × 35 columns</p>\n",
       "</div>"
      ],
      "text/plain": [
       "  TELEFONO    AGENCIA EMPLAZAMIENTO FABRICANTE      MODELO    HOSTNAME  \\\n",
       "0      NaN  LAS REJAS  CH_PUDA_PUDA    ALCATEL  ISAM7360FX  PUDA_OLT_1   \n",
       "1      NaN  LAS REJAS  CH_PUDA_PUDA    ALCATEL  ISAM7360FX  PUDA_OLT_1   \n",
       "2      NaN  LAS REJAS  CH_PUDA_PUDA    ALCATEL  ISAM7360FX  PUDA_OLT_1   \n",
       "\n",
       "      IPADDRESS  RACK  SHELF  SLOT  ...  AGREGADOR_RACK  AGREGADOR_SHELF  \\\n",
       "0  10.104.133.2     1      1     2  ...             NaN              NaN   \n",
       "1  10.104.133.2     1      1     2  ...             NaN              NaN   \n",
       "2  10.104.133.2     1      1     1  ...             NaN              NaN   \n",
       "\n",
       "  AGREGADOR_SLOT  AGREGADOR_SUBSLOT AGREGADOR_PUERTO ID_PUERTO ACCESS_ID  \\\n",
       "0              1                  0               1/  10775727       NaN   \n",
       "1              1                  0               1/  10775725       NaN   \n",
       "2              1                  0               1/  10775710       NaN   \n",
       "\n",
       "  CARD_NAME TECHNOLOGY_TYPE            TYPE_OF_CARD  \n",
       "0    FGLT-B            GPON  16-PORT GPON LINE CARD  \n",
       "1    FGLT-B            GPON  16-PORT GPON LINE CARD  \n",
       "2    FGLT-B            GPON  16-PORT GPON LINE CARD  \n",
       "\n",
       "[3 rows x 35 columns]"
      ]
     },
     "execution_count": 7,
     "metadata": {},
     "output_type": "execute_result"
    }
   ],
   "source": [
    "dataframe_1.head(3)"
   ]
  },
  {
   "cell_type": "code",
   "execution_count": null,
   "metadata": {},
   "outputs": [
    {
     "data": {
      "text/plain": [
       "(4191, 7)"
      ]
     },
     "execution_count": 7,
     "metadata": {},
     "output_type": "execute_result"
    }
   ],
   "source": [
    "dataframe_2.shape"
   ]
  },
  {
   "cell_type": "code",
   "execution_count": null,
   "metadata": {},
   "outputs": [
    {
     "data": {
      "text/plain": [
       "Index(['FECHA', 'MODELO', 'HOSTNAME', 'SLOT', 'CARD_NAME', 'TECHNOLOGY_TYPE',\n",
       "       'TYPE_OF_CARD'],\n",
       "      dtype='object')"
      ]
     },
     "execution_count": 8,
     "metadata": {},
     "output_type": "execute_result"
    }
   ],
   "source": [
    "dataframe_2.columns"
   ]
  },
  {
   "cell_type": "code",
   "execution_count": null,
   "metadata": {},
   "outputs": [
    {
     "data": {
      "text/plain": [
       "TELEFONO                  object\n",
       "AGENCIA                   object\n",
       "EMPLAZAMIENTO             object\n",
       "FABRICANTE                object\n",
       "MODELO                    object\n",
       "HOSTNAME                  object\n",
       "IPADDRESS                 object\n",
       "RACK                       int64\n",
       "SHELF                      int64\n",
       "SLOT                       int64\n",
       "SUBSLOT                  float64\n",
       "PORT                       int64\n",
       "PORT_TYPE                 object\n",
       "ID_FIBRA                 float64\n",
       "ESTADO_OPERACIONAL        object\n",
       "ESTADO_ADMINISTRATIVO     object\n",
       "ESTADO_USO                object\n",
       "ESTADO_GENERAL            object\n",
       "GESTIONADO                object\n",
       "ZONA_COBERTURA            object\n",
       "INF_ADICIONAL             object\n",
       "INF_COMERCIAL             object\n",
       "AGREGADOR_HOSTNAME        object\n",
       "AGREGADOR_MODELO          object\n",
       "AGREGADOR_IPADDRESS       object\n",
       "AGREGADOR_RACK           float64\n",
       "AGREGADOR_SHELF          float64\n",
       "AGREGADOR_SLOT             int64\n",
       "AGREGADOR_SUBSLOT          int64\n",
       "AGREGADOR_PUERTO          object\n",
       "ID_PUERTO                  int64\n",
       "ACCESS_ID                 object\n",
       "CARD_NAME                 object\n",
       "TECHNOLOGY_TYPE           object\n",
       "TYPE_OF_CARD              object\n",
       "dtype: object"
      ]
     },
     "execution_count": 9,
     "metadata": {},
     "output_type": "execute_result"
    }
   ],
   "source": [
    "dataframe_1.dtypes"
   ]
  },
  {
   "cell_type": "code",
   "execution_count": null,
   "metadata": {},
   "outputs": [],
   "source": [
    "df2 = dataframe_2.loc[dataframe_2['SLOT'] != 'NTA']\n",
    "df2"
   ]
  },
  {
   "cell_type": "code",
   "execution_count": null,
   "metadata": {},
   "outputs": [],
   "source": [
    "df2_2 = df2.loc[df2['SLOT'] != 'NTB']\n",
    "df2_2"
   ]
  },
  {
   "cell_type": "code",
   "execution_count": null,
   "metadata": {},
   "outputs": [],
   "source": [
    "removerDatosArroba = dataframe_1.loc[dataframe_1['TELEFONO'].str.contains('@', case=False, na=False)]\n"
   ]
  },
  {
   "cell_type": "code",
   "execution_count": null,
   "metadata": {},
   "outputs": [
    {
     "data": {
      "text/html": [
       "<div>\n",
       "<style scoped>\n",
       "    .dataframe tbody tr th:only-of-type {\n",
       "        vertical-align: middle;\n",
       "    }\n",
       "\n",
       "    .dataframe tbody tr th {\n",
       "        vertical-align: top;\n",
       "    }\n",
       "\n",
       "    .dataframe thead th {\n",
       "        text-align: right;\n",
       "    }\n",
       "</style>\n",
       "<table border=\"1\" class=\"dataframe\">\n",
       "  <thead>\n",
       "    <tr style=\"text-align: right;\">\n",
       "      <th></th>\n",
       "      <th>TELEFONO</th>\n",
       "      <th>AGENCIA</th>\n",
       "      <th>EMPLAZAMIENTO</th>\n",
       "      <th>FABRICANTE</th>\n",
       "      <th>MODELO</th>\n",
       "      <th>HOSTNAME</th>\n",
       "      <th>IPADDRESS</th>\n",
       "      <th>RACK</th>\n",
       "      <th>SHELF</th>\n",
       "      <th>SLOT</th>\n",
       "      <th>...</th>\n",
       "      <th>AGREGADOR_RACK</th>\n",
       "      <th>AGREGADOR_SHELF</th>\n",
       "      <th>AGREGADOR_SLOT</th>\n",
       "      <th>AGREGADOR_SUBSLOT</th>\n",
       "      <th>AGREGADOR_PUERTO</th>\n",
       "      <th>ID_PUERTO</th>\n",
       "      <th>ACCESS_ID</th>\n",
       "      <th>CARD_NAME</th>\n",
       "      <th>TECHNOLOGY_TYPE</th>\n",
       "      <th>TYPE_OF_CARD</th>\n",
       "    </tr>\n",
       "  </thead>\n",
       "  <tbody>\n",
       "    <tr>\n",
       "      <th>122</th>\n",
       "      <td>0990000125713@PSXTIE26713</td>\n",
       "      <td>LAS REJAS</td>\n",
       "      <td>CH_PUDA_PUDA</td>\n",
       "      <td>ALCATEL</td>\n",
       "      <td>ISAM7360FX</td>\n",
       "      <td>PUDA_OLT_1</td>\n",
       "      <td>10.104.133.2</td>\n",
       "      <td>1</td>\n",
       "      <td>1</td>\n",
       "      <td>2</td>\n",
       "      <td>...</td>\n",
       "      <td>NaN</td>\n",
       "      <td>NaN</td>\n",
       "      <td>1</td>\n",
       "      <td>0</td>\n",
       "      <td>1/</td>\n",
       "      <td>10775726</td>\n",
       "      <td>NaN</td>\n",
       "      <td>FGLT-B</td>\n",
       "      <td>GPON</td>\n",
       "      <td>16-PORT GPON LINE CARD</td>\n",
       "    </tr>\n",
       "    <tr>\n",
       "      <th>132</th>\n",
       "      <td>0990000108483@VPX1773252</td>\n",
       "      <td>LAS REJAS</td>\n",
       "      <td>CH_PUDA_PUDA</td>\n",
       "      <td>ALCATEL</td>\n",
       "      <td>ISAM7360FX</td>\n",
       "      <td>PUDA_OLT_1</td>\n",
       "      <td>10.104.133.2</td>\n",
       "      <td>1</td>\n",
       "      <td>1</td>\n",
       "      <td>1</td>\n",
       "      <td>...</td>\n",
       "      <td>NaN</td>\n",
       "      <td>NaN</td>\n",
       "      <td>1</td>\n",
       "      <td>0</td>\n",
       "      <td>1/</td>\n",
       "      <td>10775710</td>\n",
       "      <td>NaN</td>\n",
       "      <td>FGLT-B</td>\n",
       "      <td>GPON</td>\n",
       "      <td>16-PORT GPON LINE CARD</td>\n",
       "    </tr>\n",
       "    <tr>\n",
       "      <th>162</th>\n",
       "      <td>0990000118015@PSXTIE24781</td>\n",
       "      <td>LAS REJAS</td>\n",
       "      <td>CH_PUDA_PUDA</td>\n",
       "      <td>ALCATEL</td>\n",
       "      <td>ISAM7360FX</td>\n",
       "      <td>PUDA_OLT_1</td>\n",
       "      <td>10.104.133.2</td>\n",
       "      <td>1</td>\n",
       "      <td>1</td>\n",
       "      <td>2</td>\n",
       "      <td>...</td>\n",
       "      <td>NaN</td>\n",
       "      <td>NaN</td>\n",
       "      <td>1</td>\n",
       "      <td>0</td>\n",
       "      <td>1/</td>\n",
       "      <td>10775732</td>\n",
       "      <td>NaN</td>\n",
       "      <td>FGLT-B</td>\n",
       "      <td>GPON</td>\n",
       "      <td>16-PORT GPON LINE CARD</td>\n",
       "    </tr>\n",
       "    <tr>\n",
       "      <th>176</th>\n",
       "      <td>0990000108486@VPX1773254</td>\n",
       "      <td>LAS REJAS</td>\n",
       "      <td>CH_PUDA_PUDA</td>\n",
       "      <td>ALCATEL</td>\n",
       "      <td>ISAM7360FX</td>\n",
       "      <td>PUDA_OLT_1</td>\n",
       "      <td>10.104.133.2</td>\n",
       "      <td>1</td>\n",
       "      <td>1</td>\n",
       "      <td>1</td>\n",
       "      <td>...</td>\n",
       "      <td>NaN</td>\n",
       "      <td>NaN</td>\n",
       "      <td>1</td>\n",
       "      <td>0</td>\n",
       "      <td>1/</td>\n",
       "      <td>10775710</td>\n",
       "      <td>NaN</td>\n",
       "      <td>FGLT-B</td>\n",
       "      <td>GPON</td>\n",
       "      <td>16-PORT GPON LINE CARD</td>\n",
       "    </tr>\n",
       "    <tr>\n",
       "      <th>209</th>\n",
       "      <td>0990000108456@VPX1773232</td>\n",
       "      <td>LAS REJAS</td>\n",
       "      <td>CH_PUDA_PUDA</td>\n",
       "      <td>ALCATEL</td>\n",
       "      <td>ISAM7360FX</td>\n",
       "      <td>PUDA_OLT_1</td>\n",
       "      <td>10.104.133.2</td>\n",
       "      <td>1</td>\n",
       "      <td>1</td>\n",
       "      <td>1</td>\n",
       "      <td>...</td>\n",
       "      <td>NaN</td>\n",
       "      <td>NaN</td>\n",
       "      <td>1</td>\n",
       "      <td>0</td>\n",
       "      <td>1/</td>\n",
       "      <td>10775722</td>\n",
       "      <td>NaN</td>\n",
       "      <td>FGLT-B</td>\n",
       "      <td>GPON</td>\n",
       "      <td>16-PORT GPON LINE CARD</td>\n",
       "    </tr>\n",
       "  </tbody>\n",
       "</table>\n",
       "<p>5 rows × 35 columns</p>\n",
       "</div>"
      ],
      "text/plain": [
       "                      TELEFONO    AGENCIA EMPLAZAMIENTO FABRICANTE  \\\n",
       "122  0990000125713@PSXTIE26713  LAS REJAS  CH_PUDA_PUDA    ALCATEL   \n",
       "132   0990000108483@VPX1773252  LAS REJAS  CH_PUDA_PUDA    ALCATEL   \n",
       "162  0990000118015@PSXTIE24781  LAS REJAS  CH_PUDA_PUDA    ALCATEL   \n",
       "176   0990000108486@VPX1773254  LAS REJAS  CH_PUDA_PUDA    ALCATEL   \n",
       "209   0990000108456@VPX1773232  LAS REJAS  CH_PUDA_PUDA    ALCATEL   \n",
       "\n",
       "         MODELO    HOSTNAME     IPADDRESS  RACK  SHELF  SLOT  ...  \\\n",
       "122  ISAM7360FX  PUDA_OLT_1  10.104.133.2     1      1     2  ...   \n",
       "132  ISAM7360FX  PUDA_OLT_1  10.104.133.2     1      1     1  ...   \n",
       "162  ISAM7360FX  PUDA_OLT_1  10.104.133.2     1      1     2  ...   \n",
       "176  ISAM7360FX  PUDA_OLT_1  10.104.133.2     1      1     1  ...   \n",
       "209  ISAM7360FX  PUDA_OLT_1  10.104.133.2     1      1     1  ...   \n",
       "\n",
       "     AGREGADOR_RACK  AGREGADOR_SHELF AGREGADOR_SLOT  AGREGADOR_SUBSLOT  \\\n",
       "122             NaN              NaN              1                  0   \n",
       "132             NaN              NaN              1                  0   \n",
       "162             NaN              NaN              1                  0   \n",
       "176             NaN              NaN              1                  0   \n",
       "209             NaN              NaN              1                  0   \n",
       "\n",
       "    AGREGADOR_PUERTO ID_PUERTO ACCESS_ID CARD_NAME TECHNOLOGY_TYPE  \\\n",
       "122               1/  10775726       NaN    FGLT-B            GPON   \n",
       "132               1/  10775710       NaN    FGLT-B            GPON   \n",
       "162               1/  10775732       NaN    FGLT-B            GPON   \n",
       "176               1/  10775710       NaN    FGLT-B            GPON   \n",
       "209               1/  10775722       NaN    FGLT-B            GPON   \n",
       "\n",
       "               TYPE_OF_CARD  \n",
       "122  16-PORT GPON LINE CARD  \n",
       "132  16-PORT GPON LINE CARD  \n",
       "162  16-PORT GPON LINE CARD  \n",
       "176  16-PORT GPON LINE CARD  \n",
       "209  16-PORT GPON LINE CARD  \n",
       "\n",
       "[5 rows x 35 columns]"
      ]
     },
     "execution_count": 30,
     "metadata": {},
     "output_type": "execute_result"
    }
   ],
   "source": [
    "removerDatosArroba.head()"
   ]
  },
  {
   "cell_type": "code",
   "execution_count": null,
   "metadata": {},
   "outputs": [],
   "source": [
    "removerDatosArroba.to_csv('Data/Arrobas.csv',sep=';', encoding='latin-1')"
   ]
  },
  {
   "cell_type": "code",
   "execution_count": null,
   "metadata": {},
   "outputs": [
    {
     "data": {
      "text/html": [
       "<div>\n",
       "<style scoped>\n",
       "    .dataframe tbody tr th:only-of-type {\n",
       "        vertical-align: middle;\n",
       "    }\n",
       "\n",
       "    .dataframe tbody tr th {\n",
       "        vertical-align: top;\n",
       "    }\n",
       "\n",
       "    .dataframe thead th {\n",
       "        text-align: right;\n",
       "    }\n",
       "</style>\n",
       "<table border=\"1\" class=\"dataframe\">\n",
       "  <thead>\n",
       "    <tr style=\"text-align: right;\">\n",
       "      <th></th>\n",
       "      <th>TELEFONO</th>\n",
       "      <th>AGENCIA</th>\n",
       "      <th>EMPLAZAMIENTO</th>\n",
       "      <th>FABRICANTE</th>\n",
       "      <th>MODELO</th>\n",
       "      <th>HOSTNAME</th>\n",
       "      <th>IPADDRESS</th>\n",
       "      <th>RACK</th>\n",
       "      <th>SHELF</th>\n",
       "      <th>SLOT</th>\n",
       "      <th>...</th>\n",
       "      <th>AGREGADOR_RACK</th>\n",
       "      <th>AGREGADOR_SHELF</th>\n",
       "      <th>AGREGADOR_SLOT</th>\n",
       "      <th>AGREGADOR_SUBSLOT</th>\n",
       "      <th>AGREGADOR_PUERTO</th>\n",
       "      <th>ID_PUERTO</th>\n",
       "      <th>ACCESS_ID</th>\n",
       "      <th>CARD_NAME</th>\n",
       "      <th>TECHNOLOGY_TYPE</th>\n",
       "      <th>TYPE_OF_CARD</th>\n",
       "    </tr>\n",
       "  </thead>\n",
       "  <tbody>\n",
       "    <tr>\n",
       "      <th>0</th>\n",
       "      <td>NaN</td>\n",
       "      <td>VINA DEL MAR</td>\n",
       "      <td>CH_VDMA_LIBE</td>\n",
       "      <td>HUAWEI TECHNOLOGIES</td>\n",
       "      <td>MA5800</td>\n",
       "      <td>LIBE_OLT_5</td>\n",
       "      <td>10.104.42.146</td>\n",
       "      <td>1</td>\n",
       "      <td>1</td>\n",
       "      <td>15</td>\n",
       "      <td>...</td>\n",
       "      <td>NaN</td>\n",
       "      <td>NaN</td>\n",
       "      <td>5</td>\n",
       "      <td>1</td>\n",
       "      <td>1/</td>\n",
       "      <td>18269935</td>\n",
       "      <td>NaN</td>\n",
       "      <td>H902FLHF</td>\n",
       "      <td>GPON-XGSPON</td>\n",
       "      <td>FLEX-PON 16-PORT LINE CARD</td>\n",
       "    </tr>\n",
       "    <tr>\n",
       "      <th>1</th>\n",
       "      <td>NaN</td>\n",
       "      <td>VINA DEL MAR</td>\n",
       "      <td>CH_VDMA_LIBE</td>\n",
       "      <td>HUAWEI TECHNOLOGIES</td>\n",
       "      <td>MA5800</td>\n",
       "      <td>LIBE_OLT_5</td>\n",
       "      <td>10.104.42.146</td>\n",
       "      <td>1</td>\n",
       "      <td>1</td>\n",
       "      <td>15</td>\n",
       "      <td>...</td>\n",
       "      <td>NaN</td>\n",
       "      <td>NaN</td>\n",
       "      <td>5</td>\n",
       "      <td>1</td>\n",
       "      <td>1/</td>\n",
       "      <td>18269936</td>\n",
       "      <td>NaN</td>\n",
       "      <td>H902FLHF</td>\n",
       "      <td>GPON-XGSPON</td>\n",
       "      <td>FLEX-PON 16-PORT LINE CARD</td>\n",
       "    </tr>\n",
       "    <tr>\n",
       "      <th>2</th>\n",
       "      <td>NaN</td>\n",
       "      <td>VINA DEL MAR</td>\n",
       "      <td>CH_VDMA_LIBE</td>\n",
       "      <td>HUAWEI TECHNOLOGIES</td>\n",
       "      <td>MA5800</td>\n",
       "      <td>LIBE_OLT_5</td>\n",
       "      <td>10.104.42.146</td>\n",
       "      <td>1</td>\n",
       "      <td>1</td>\n",
       "      <td>15</td>\n",
       "      <td>...</td>\n",
       "      <td>NaN</td>\n",
       "      <td>NaN</td>\n",
       "      <td>5</td>\n",
       "      <td>1</td>\n",
       "      <td>1/</td>\n",
       "      <td>18269939</td>\n",
       "      <td>NaN</td>\n",
       "      <td>H902FLHF</td>\n",
       "      <td>GPON-XGSPON</td>\n",
       "      <td>FLEX-PON 16-PORT LINE CARD</td>\n",
       "    </tr>\n",
       "    <tr>\n",
       "      <th>3</th>\n",
       "      <td>NaN</td>\n",
       "      <td>VINA DEL MAR</td>\n",
       "      <td>CH_VDMA_LIBE</td>\n",
       "      <td>HUAWEI TECHNOLOGIES</td>\n",
       "      <td>MA5800</td>\n",
       "      <td>LIBE_OLT_5</td>\n",
       "      <td>10.104.42.146</td>\n",
       "      <td>1</td>\n",
       "      <td>1</td>\n",
       "      <td>15</td>\n",
       "      <td>...</td>\n",
       "      <td>NaN</td>\n",
       "      <td>NaN</td>\n",
       "      <td>5</td>\n",
       "      <td>1</td>\n",
       "      <td>1/</td>\n",
       "      <td>18269937</td>\n",
       "      <td>NaN</td>\n",
       "      <td>H902FLHF</td>\n",
       "      <td>GPON-XGSPON</td>\n",
       "      <td>FLEX-PON 16-PORT LINE CARD</td>\n",
       "    </tr>\n",
       "  </tbody>\n",
       "</table>\n",
       "<p>4 rows × 35 columns</p>\n",
       "</div>"
      ],
      "text/plain": [
       "  TELEFONO       AGENCIA EMPLAZAMIENTO           FABRICANTE  MODELO  \\\n",
       "0      NaN  VINA DEL MAR  CH_VDMA_LIBE  HUAWEI TECHNOLOGIES  MA5800   \n",
       "1      NaN  VINA DEL MAR  CH_VDMA_LIBE  HUAWEI TECHNOLOGIES  MA5800   \n",
       "2      NaN  VINA DEL MAR  CH_VDMA_LIBE  HUAWEI TECHNOLOGIES  MA5800   \n",
       "3      NaN  VINA DEL MAR  CH_VDMA_LIBE  HUAWEI TECHNOLOGIES  MA5800   \n",
       "\n",
       "     HOSTNAME      IPADDRESS  RACK  SHELF  SLOT  ...  AGREGADOR_RACK  \\\n",
       "0  LIBE_OLT_5  10.104.42.146     1      1    15  ...             NaN   \n",
       "1  LIBE_OLT_5  10.104.42.146     1      1    15  ...             NaN   \n",
       "2  LIBE_OLT_5  10.104.42.146     1      1    15  ...             NaN   \n",
       "3  LIBE_OLT_5  10.104.42.146     1      1    15  ...             NaN   \n",
       "\n",
       "   AGREGADOR_SHELF AGREGADOR_SLOT  AGREGADOR_SUBSLOT AGREGADOR_PUERTO  \\\n",
       "0              NaN              5                  1               1/   \n",
       "1              NaN              5                  1               1/   \n",
       "2              NaN              5                  1               1/   \n",
       "3              NaN              5                  1               1/   \n",
       "\n",
       "  ID_PUERTO ACCESS_ID CARD_NAME TECHNOLOGY_TYPE                TYPE_OF_CARD  \n",
       "0  18269935       NaN  H902FLHF     GPON-XGSPON  FLEX-PON 16-PORT LINE CARD  \n",
       "1  18269936       NaN  H902FLHF     GPON-XGSPON  FLEX-PON 16-PORT LINE CARD  \n",
       "2  18269939       NaN  H902FLHF     GPON-XGSPON  FLEX-PON 16-PORT LINE CARD  \n",
       "3  18269937       NaN  H902FLHF     GPON-XGSPON  FLEX-PON 16-PORT LINE CARD  \n",
       "\n",
       "[4 rows x 35 columns]"
      ]
     },
     "execution_count": 37,
     "metadata": {},
     "output_type": "execute_result"
    }
   ],
   "source": [
    "dataframe_3.head(4)"
   ]
  },
  {
   "cell_type": "code",
   "execution_count": null,
   "metadata": {},
   "outputs": [
    {
     "data": {
      "text/plain": [
       "(10753, 35)"
      ]
     },
     "execution_count": 38,
     "metadata": {},
     "output_type": "execute_result"
    }
   ],
   "source": [
    "dataframe_3.shape"
   ]
  },
  {
   "cell_type": "code",
   "execution_count": null,
   "metadata": {},
   "outputs": [],
   "source": [
    "df_1_aux = dataframe_1\n",
    "df_3_aux = dataframe_3"
   ]
  },
  {
   "cell_type": "code",
   "execution_count": null,
   "metadata": {},
   "outputs": [
    {
     "data": {
      "text/plain": [
       "(3131225, 35)"
      ]
     },
     "execution_count": 43,
     "metadata": {},
     "output_type": "execute_result"
    }
   ],
   "source": [
    "df_1_aux.shape"
   ]
  },
  {
   "cell_type": "code",
   "execution_count": null,
   "metadata": {},
   "outputs": [
    {
     "data": {
      "text/plain": [
       "(10753, 35)"
      ]
     },
     "execution_count": 44,
     "metadata": {},
     "output_type": "execute_result"
    }
   ],
   "source": [
    "df_3_aux.shape"
   ]
  },
  {
   "cell_type": "code",
   "execution_count": null,
   "metadata": {},
   "outputs": [
    {
     "data": {
      "text/plain": [
       "3141978"
      ]
     },
     "execution_count": 45,
     "metadata": {},
     "output_type": "execute_result"
    }
   ],
   "source": [
    "3131225+10753"
   ]
  },
  {
   "cell_type": "code",
   "execution_count": null,
   "metadata": {},
   "outputs": [],
   "source": [
    "df_final = df_1_aux + df_3_aux"
   ]
  },
  {
   "cell_type": "code",
   "execution_count": null,
   "metadata": {},
   "outputs": [
    {
     "name": "stderr",
     "output_type": "stream",
     "text": [
      "C:\\Users\\navar\\AppData\\Local\\Temp\\ipykernel_6440\\3992214450.py:1: FutureWarning: The frame.append method is deprecated and will be removed from pandas in a future version. Use pandas.concat instead.\n",
      "  df_final = df_1_aux.append(df_3_aux, ignore_index=False)\n"
     ]
    }
   ],
   "source": [
    "df_final = df_1_aux.append(df_3_aux, ignore_index=False)\n"
   ]
  },
  {
   "cell_type": "code",
   "execution_count": null,
   "metadata": {},
   "outputs": [
    {
     "data": {
      "text/plain": [
       "(3141978, 35)"
      ]
     },
     "execution_count": 42,
     "metadata": {},
     "output_type": "execute_result"
    }
   ],
   "source": [
    "df_final.shape"
   ]
  },
  {
   "cell_type": "code",
   "execution_count": null,
   "metadata": {},
   "outputs": [],
   "source": [
    "df_final.to_csv('Data/Info_ONNET_V2.csv',sep=';', encoding='latin-1')"
   ]
  },
  {
   "cell_type": "code",
   "execution_count": null,
   "metadata": {},
   "outputs": [
    {
     "data": {
      "text/html": [
       "<div>\n",
       "<style scoped>\n",
       "    .dataframe tbody tr th:only-of-type {\n",
       "        vertical-align: middle;\n",
       "    }\n",
       "\n",
       "    .dataframe tbody tr th {\n",
       "        vertical-align: top;\n",
       "    }\n",
       "\n",
       "    .dataframe thead th {\n",
       "        text-align: right;\n",
       "    }\n",
       "</style>\n",
       "<table border=\"1\" class=\"dataframe\">\n",
       "  <thead>\n",
       "    <tr style=\"text-align: right;\">\n",
       "      <th></th>\n",
       "      <th>TELEFONO</th>\n",
       "      <th>AGENCIA</th>\n",
       "      <th>EMPLAZAMIENTO</th>\n",
       "      <th>FABRICANTE</th>\n",
       "      <th>MODELO</th>\n",
       "      <th>HOSTNAME</th>\n",
       "      <th>IPADDRESS</th>\n",
       "      <th>RACK</th>\n",
       "      <th>SHELF</th>\n",
       "      <th>SLOT</th>\n",
       "      <th>...</th>\n",
       "      <th>AGREGADOR_RACK</th>\n",
       "      <th>AGREGADOR_SHELF</th>\n",
       "      <th>AGREGADOR_SLOT</th>\n",
       "      <th>AGREGADOR_SUBSLOT</th>\n",
       "      <th>AGREGADOR_PUERTO</th>\n",
       "      <th>ID_PUERTO</th>\n",
       "      <th>ACCESS_ID</th>\n",
       "      <th>CARD_NAME</th>\n",
       "      <th>TECHNOLOGY_TYPE</th>\n",
       "      <th>TYPE_OF_CARD</th>\n",
       "    </tr>\n",
       "  </thead>\n",
       "  <tbody>\n",
       "    <tr>\n",
       "      <th>0</th>\n",
       "      <td>NaN</td>\n",
       "      <td>LAS REJAS</td>\n",
       "      <td>CH_PUDA_PUDA</td>\n",
       "      <td>ALCATEL</td>\n",
       "      <td>ISAM7360FX</td>\n",
       "      <td>PUDA_OLT_1</td>\n",
       "      <td>10.104.133.2</td>\n",
       "      <td>1</td>\n",
       "      <td>1</td>\n",
       "      <td>2</td>\n",
       "      <td>...</td>\n",
       "      <td>NaN</td>\n",
       "      <td>NaN</td>\n",
       "      <td>1</td>\n",
       "      <td>0</td>\n",
       "      <td>1/</td>\n",
       "      <td>10775727</td>\n",
       "      <td>NaN</td>\n",
       "      <td>FGLT-B</td>\n",
       "      <td>GPON</td>\n",
       "      <td>16-PORT GPON LINE CARD</td>\n",
       "    </tr>\n",
       "    <tr>\n",
       "      <th>1</th>\n",
       "      <td>NaN</td>\n",
       "      <td>LAS REJAS</td>\n",
       "      <td>CH_PUDA_PUDA</td>\n",
       "      <td>ALCATEL</td>\n",
       "      <td>ISAM7360FX</td>\n",
       "      <td>PUDA_OLT_1</td>\n",
       "      <td>10.104.133.2</td>\n",
       "      <td>1</td>\n",
       "      <td>1</td>\n",
       "      <td>2</td>\n",
       "      <td>...</td>\n",
       "      <td>NaN</td>\n",
       "      <td>NaN</td>\n",
       "      <td>1</td>\n",
       "      <td>0</td>\n",
       "      <td>1/</td>\n",
       "      <td>10775725</td>\n",
       "      <td>NaN</td>\n",
       "      <td>FGLT-B</td>\n",
       "      <td>GPON</td>\n",
       "      <td>16-PORT GPON LINE CARD</td>\n",
       "    </tr>\n",
       "    <tr>\n",
       "      <th>2</th>\n",
       "      <td>NaN</td>\n",
       "      <td>LAS REJAS</td>\n",
       "      <td>CH_PUDA_PUDA</td>\n",
       "      <td>ALCATEL</td>\n",
       "      <td>ISAM7360FX</td>\n",
       "      <td>PUDA_OLT_1</td>\n",
       "      <td>10.104.133.2</td>\n",
       "      <td>1</td>\n",
       "      <td>1</td>\n",
       "      <td>1</td>\n",
       "      <td>...</td>\n",
       "      <td>NaN</td>\n",
       "      <td>NaN</td>\n",
       "      <td>1</td>\n",
       "      <td>0</td>\n",
       "      <td>1/</td>\n",
       "      <td>10775710</td>\n",
       "      <td>NaN</td>\n",
       "      <td>FGLT-B</td>\n",
       "      <td>GPON</td>\n",
       "      <td>16-PORT GPON LINE CARD</td>\n",
       "    </tr>\n",
       "    <tr>\n",
       "      <th>3</th>\n",
       "      <td>NaN</td>\n",
       "      <td>LAS REJAS</td>\n",
       "      <td>CH_PUDA_PUDA</td>\n",
       "      <td>ALCATEL</td>\n",
       "      <td>ISAM7360FX</td>\n",
       "      <td>PUDA_OLT_1</td>\n",
       "      <td>10.104.133.2</td>\n",
       "      <td>1</td>\n",
       "      <td>1</td>\n",
       "      <td>2</td>\n",
       "      <td>...</td>\n",
       "      <td>NaN</td>\n",
       "      <td>NaN</td>\n",
       "      <td>1</td>\n",
       "      <td>0</td>\n",
       "      <td>1/</td>\n",
       "      <td>10775734</td>\n",
       "      <td>NaN</td>\n",
       "      <td>FGLT-B</td>\n",
       "      <td>GPON</td>\n",
       "      <td>16-PORT GPON LINE CARD</td>\n",
       "    </tr>\n",
       "  </tbody>\n",
       "</table>\n",
       "<p>4 rows × 35 columns</p>\n",
       "</div>"
      ],
      "text/plain": [
       "  TELEFONO    AGENCIA EMPLAZAMIENTO FABRICANTE      MODELO    HOSTNAME  \\\n",
       "0      NaN  LAS REJAS  CH_PUDA_PUDA    ALCATEL  ISAM7360FX  PUDA_OLT_1   \n",
       "1      NaN  LAS REJAS  CH_PUDA_PUDA    ALCATEL  ISAM7360FX  PUDA_OLT_1   \n",
       "2      NaN  LAS REJAS  CH_PUDA_PUDA    ALCATEL  ISAM7360FX  PUDA_OLT_1   \n",
       "3      NaN  LAS REJAS  CH_PUDA_PUDA    ALCATEL  ISAM7360FX  PUDA_OLT_1   \n",
       "\n",
       "      IPADDRESS  RACK  SHELF  SLOT  ...  AGREGADOR_RACK  AGREGADOR_SHELF  \\\n",
       "0  10.104.133.2     1      1     2  ...             NaN              NaN   \n",
       "1  10.104.133.2     1      1     2  ...             NaN              NaN   \n",
       "2  10.104.133.2     1      1     1  ...             NaN              NaN   \n",
       "3  10.104.133.2     1      1     2  ...             NaN              NaN   \n",
       "\n",
       "  AGREGADOR_SLOT  AGREGADOR_SUBSLOT AGREGADOR_PUERTO ID_PUERTO ACCESS_ID  \\\n",
       "0              1                  0               1/  10775727       NaN   \n",
       "1              1                  0               1/  10775725       NaN   \n",
       "2              1                  0               1/  10775710       NaN   \n",
       "3              1                  0               1/  10775734       NaN   \n",
       "\n",
       "  CARD_NAME TECHNOLOGY_TYPE            TYPE_OF_CARD  \n",
       "0    FGLT-B            GPON  16-PORT GPON LINE CARD  \n",
       "1    FGLT-B            GPON  16-PORT GPON LINE CARD  \n",
       "2    FGLT-B            GPON  16-PORT GPON LINE CARD  \n",
       "3    FGLT-B            GPON  16-PORT GPON LINE CARD  \n",
       "\n",
       "[4 rows x 35 columns]"
      ]
     },
     "execution_count": 47,
     "metadata": {},
     "output_type": "execute_result"
    }
   ],
   "source": [
    "df_final.head(4)"
   ]
  },
  {
   "cell_type": "code",
   "execution_count": null,
   "metadata": {},
   "outputs": [
    {
     "data": {
      "text/plain": [
       "TELEFONO                  object\n",
       "AGENCIA                   object\n",
       "EMPLAZAMIENTO             object\n",
       "FABRICANTE                object\n",
       "MODELO                    object\n",
       "HOSTNAME                  object\n",
       "IPADDRESS                 object\n",
       "RACK                       int64\n",
       "SHELF                      int64\n",
       "SLOT                       int64\n",
       "SUBSLOT                  float64\n",
       "PORT                       int64\n",
       "PORT_TYPE                 object\n",
       "ID_FIBRA                 float64\n",
       "ESTADO_OPERACIONAL        object\n",
       "ESTADO_ADMINISTRATIVO     object\n",
       "ESTADO_USO                object\n",
       "ESTADO_GENERAL            object\n",
       "GESTIONADO                object\n",
       "ZONA_COBERTURA            object\n",
       "INF_ADICIONAL             object\n",
       "INF_COMERCIAL             object\n",
       "AGREGADOR_HOSTNAME        object\n",
       "AGREGADOR_MODELO          object\n",
       "AGREGADOR_IPADDRESS       object\n",
       "AGREGADOR_RACK           float64\n",
       "AGREGADOR_SHELF          float64\n",
       "AGREGADOR_SLOT             int64\n",
       "AGREGADOR_SUBSLOT          int64\n",
       "AGREGADOR_PUERTO          object\n",
       "ID_PUERTO                  int64\n",
       "ACCESS_ID                 object\n",
       "CARD_NAME                 object\n",
       "TECHNOLOGY_TYPE           object\n",
       "TYPE_OF_CARD              object\n",
       "dtype: object"
      ]
     },
     "execution_count": 48,
     "metadata": {},
     "output_type": "execute_result"
    }
   ],
   "source": [
    "df_final.dtypes"
   ]
  },
  {
   "cell_type": "markdown",
   "metadata": {},
   "source": [
    "# Consultas por OLT =>\n",
    "HOSTNAME = 'PITA_OLT_4' SLOT = 1\n",
    "\n",
    "HOSTNAME = 'PITA_OLT_4' SLOT = 4\n",
    "\n",
    "HOSTNAME = 'PITA_OLT_4' SLOT = 6"
   ]
  },
  {
   "cell_type": "code",
   "execution_count": null,
   "metadata": {},
   "outputs": [],
   "source": [
    "query_1 = df_final.query(\"`HOSTNAME` == 'PITA_OLT_4' and `SLOT` == 1\")"
   ]
  },
  {
   "cell_type": "code",
   "execution_count": null,
   "metadata": {},
   "outputs": [],
   "source": [
    "query_2 = df_final.query(\"`HOSTNAME` == 'PITA_OLT_4' and `SLOT` == 4\")"
   ]
  },
  {
   "cell_type": "code",
   "execution_count": null,
   "metadata": {},
   "outputs": [],
   "source": [
    "query_3 = df_final.query(\"`HOSTNAME` == 'PITA_OLT_4' and `SLOT` == 6\")"
   ]
  },
  {
   "cell_type": "code",
   "execution_count": null,
   "metadata": {},
   "outputs": [],
   "source": [
    "query_1.to_csv('Data/Info_PITA_4_SLOT_1.csv',sep=';', encoding='latin-1')\n",
    "query_2.to_csv('Data/Info_PITA_4_SLOT_4.csv',sep=';', encoding='latin-1')\n",
    "query_3.to_csv('Data/Info_PITA_4_SLOT_6.csv',sep=';', encoding='latin-1')"
   ]
  },
  {
   "cell_type": "markdown",
   "metadata": {},
   "source": [
    "### Iterar sobre JSON"
   ]
  },
  {
   "cell_type": "code",
   "execution_count": null,
   "metadata": {},
   "outputs": [],
   "source": [
    "import json"
   ]
  },
  {
   "cell_type": "code",
   "execution_count": null,
   "metadata": {},
   "outputs": [],
   "source": [
    "fileJson = {\n",
    "    \"fullname\": \"Tom\",\n",
    "    \"languages\": [\"English\", \"German\"],\n",
    "    \"Json #1\": {\n",
    "        \"uuid:vo\": 1,\n",
    "        \"B\": \"Dentro\",\n",
    "        \"C\": \"del\",\n",
    "        \"D\": \"Json\",\n",
    "        \"E\": \"# 1\"\n",
    "            },\n",
    "    \"Json #2\": {\n",
    "        \"A\": 2,\n",
    "        \"B\": \"Dentro\",\n",
    "        \"C\": \"del\",\n",
    "        \"D\": \"Json\",\n",
    "        \"E\": \"# 2\"\n",
    "            }\n",
    "            }\n"
   ]
  },
  {
   "cell_type": "code",
   "execution_count": null,
   "metadata": {},
   "outputs": [
    {
     "data": {
      "text/plain": [
       "4"
      ]
     },
     "execution_count": 25,
     "metadata": {},
     "output_type": "execute_result"
    }
   ],
   "source": [
    "len(fileJson)"
   ]
  },
  {
   "cell_type": "code",
   "execution_count": null,
   "metadata": {},
   "outputs": [
    {
     "name": "stdout",
     "output_type": "stream",
     "text": [
      "fullname : Tom\n",
      "languages : ['English', 'German']\n"
     ]
    }
   ],
   "source": [
    "#Loop along dictionary keys\n",
    "contador = 0\n",
    "datos = {}\n",
    "for key in fileJson:\n",
    "    largo = len(fileJson)\n",
    "    if contador < 2:\n",
    "        print(key, \":\", fileJson[key])\n",
    "        a = fileJson[key]\n",
    "        \n",
    "        # guardar en un archivo_{contador}.json\n",
    "        contador +=1\n"
   ]
  }
 ],
 "metadata": {
  "kernelspec": {
   "display_name": "Python 3.9.12 ('base')",
   "language": "python",
   "name": "python3"
  },
  "language_info": {
   "codemirror_mode": {
    "name": "ipython",
    "version": 3
   },
   "file_extension": ".py",
   "mimetype": "text/x-python",
   "name": "python",
   "nbconvert_exporter": "python",
   "pygments_lexer": "ipython3",
   "version": "3.9.12"
  },
  "orig_nbformat": 4,
  "vscode": {
   "interpreter": {
    "hash": "d928c9380d2d7535665705a50d87447ecd761547b2065cc2c2098903ea6fa649"
   }
  }
 },
 "nbformat": 4,
 "nbformat_minor": 2
}
