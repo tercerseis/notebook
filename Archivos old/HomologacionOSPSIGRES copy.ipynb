{
 "cells": [
  {
   "cell_type": "code",
   "execution_count": 1,
   "metadata": {},
   "outputs": [],
   "source": [
    "import pandas as pd"
   ]
  },
  {
   "cell_type": "code",
   "execution_count": 2,
   "metadata": {},
   "outputs": [],
   "source": [
    "OSP_FILE = 'osp_3.csv'\n",
    "SIG_FILE = 'sig_3.csv'\n",
    "\n",
    "#Dataframes para DataLoader y tablas auxiliares\n",
    "dataLoader = pd.DataFrame()\n",
    "osp_aux = pd.DataFrame()\n",
    "sig_aux = pd.DataFrame()"
   ]
  },
  {
   "cell_type": "code",
   "execution_count": 3,
   "metadata": {},
   "outputs": [],
   "source": [
    "file_osp = pd.read_csv(OSP_FILE, delimiter=';', encoding='UTF-8', low_memory=False)\n",
    "file_sig = pd.read_csv(SIG_FILE, delimiter=';', encoding='UTF-8', low_memory=False)\n",
    "\n",
    "#Tablas auxiliares\n",
    "file_osp_aux = pd.read_csv(OSP_FILE, delimiter=';', encoding='UTF-8', low_memory=False, on_bad_lines='skip')\n",
    "file_sig_aux = pd.read_csv(SIG_FILE, delimiter=';', encoding='UTF-8', low_memory=False, on_bad_lines='skip')"
   ]
  },
  {
   "cell_type": "code",
   "execution_count": 4,
   "metadata": {},
   "outputs": [],
   "source": [
    "array_osp = file_osp[['FTTH', 'ID']]\n",
    "array_sig = file_sig[['FTTH', 'ID']]\n",
    "dataLoader = pd.DataFrame(columns=['NS_FTTH', 'ID'])\n",
    "\n",
    "#Seleccion de puertos \n",
    "#array_osp = file_osp[['FTTH', 'PUERTO', 'ID']]\n",
    "#array_sig = file_osp[['FTTH', 'PUERTO', 'ID']]"
   ]
  },
  {
   "cell_type": "code",
   "execution_count": 19,
   "metadata": {},
   "outputs": [
    {
     "name": "stdout",
     "output_type": "stream",
     "text": [
      "Verdadero => 10 = 10\n",
      "FALSO => 30 != 10\n",
      "Verdadero => 30 = 30\n"
     ]
    }
   ],
   "source": [
    "for i, fila_i in df_final.iterrows():\n",
    "\n",
    "    for j, fila_j in df_test.iterrows():\n",
    "\n",
    "        if (fila_i[\"ID\"] == fila_j[\"ID\"]):\n",
    "\n",
    "            print('Verdadero => {} = {}'.format(fila_i[\"ID\"], fila_j[\"ID\"]))\n",
    "\n",
    "            fila_aux = pd.DataFrame({'NS_FTTH': [fila_i[\"NS_FTTH\"]], 'ID' : [fila_i[\"ID\"]], 'EXISTE': ['Verdadero'] })\n",
    "            df_test_final = pd.concat([df_test_final, fila_aux])\n",
    "\n",
    "            break\n",
    "        else:\n",
    "            print('FALSO => {} != {}'.format(fila_i[\"ID\"], fila_j[\"ID\"]))\n",
    "\n",
    "            fila_aux = pd.DataFrame({'NS_FTTH': [fila_i[\"NS_FTTH\"]], 'ID' : [fila_i[\"ID\"]], 'EXISTE': ['Falso'] })\n",
    "            df_test_final = pd.concat([df_test_final, fila_aux])\n",
    "    "
   ]
  },
  {
   "cell_type": "code",
   "execution_count": 41,
   "metadata": {},
   "outputs": [],
   "source": [
    "p = 0\n",
    "i = 0\n",
    "j = 0\n",
    "o = 0\n",
    "pivote = 0\n",
    "\n",
    "for i, sig in array_sig.iterrows():\n",
    "    for j, osp in array_osp.iterrows():\n",
    "\n",
    "        #Caso 1: Ambas tablas coinciden\n",
    "        if(sig['FTTH'] == osp['FTTH'] and sig['ID'] == osp['ID']):\n",
    "            i+=1\n",
    "            break\n",
    "        \n",
    "        #Caso 2: El valor de SIGRES no está en OSP\n",
    "        elif sig['ID'] in array_osp.iterrows():\n",
    "            dataLoader['NS_FTTH'] = file_sig['FTTH']\n",
    "            dataLoader['OSP'] = file_sig['ID']\n",
    "            i+=1\n",
    "            break\n",
    "\n",
    "        #Caso 3: El valor de SIGRES si está en OSP\n",
    "        else:\n",
    "            for o, file_osp in array_osp.iterrows():\n",
    "                if(pivote in array_osp.iterrows()):\n",
    "                    pivote = file_osp[o]\n",
    "                    dataLoader['NS_FTTH'] = file_osp['FTTH']\n",
    "                    dataLoader['OSP'] = pivote\n",
    "                    p+=1\n",
    "                    i+=1\n",
    "                    break\n",
    "                else:\n",
    "                    p+=1\n",
    "                    break\n",
    "        \n",
    "\n",
    "        \n",
    "        "
   ]
  },
  {
   "cell_type": "code",
   "execution_count": 42,
   "metadata": {},
   "outputs": [
    {
     "data": {
      "text/html": [
       "<div>\n",
       "<style scoped>\n",
       "    .dataframe tbody tr th:only-of-type {\n",
       "        vertical-align: middle;\n",
       "    }\n",
       "\n",
       "    .dataframe tbody tr th {\n",
       "        vertical-align: top;\n",
       "    }\n",
       "\n",
       "    .dataframe thead th {\n",
       "        text-align: right;\n",
       "    }\n",
       "</style>\n",
       "<table border=\"1\" class=\"dataframe\">\n",
       "  <thead>\n",
       "    <tr style=\"text-align: right;\">\n",
       "      <th></th>\n",
       "      <th>NS_FTTH</th>\n",
       "      <th>ID</th>\n",
       "    </tr>\n",
       "  </thead>\n",
       "  <tbody>\n",
       "  </tbody>\n",
       "</table>\n",
       "</div>"
      ],
      "text/plain": [
       "Empty DataFrame\n",
       "Columns: [NS_FTTH, ID]\n",
       "Index: []"
      ]
     },
     "execution_count": 42,
     "metadata": {},
     "output_type": "execute_result"
    }
   ],
   "source": [
    "dataLoader"
   ]
  },
  {
   "cell_type": "code",
   "execution_count": null,
   "metadata": {},
   "outputs": [],
   "source": [
    "i = 0\n",
    "j = 0\n",
    "#i = len(array_sig)\n",
    "#j = len(array_osp)\n",
    "\n",
    "#se parte con valor a8 de sigres \n",
    "while i < len(array_sig):\n",
    "    pivote=0\n",
    "    liberado=0\n",
    "    while j < len(array_osp):\n",
    "\n",
    "        #busco la A en osp y se compara el ID de OSP (A1) con el A8 de SIGRES\n",
    "        if(file_sig['FTTH'] == file_osp['FTTH']):\n",
    "            if(file_sig['ID'] == file_sig['ID']):\n",
    "                dataLoader['NS_FTTH'] = file_osp['FTTH']\n",
    "                print(dataLoader)\n",
    "                dataLoader['OSP'] = file_osp['ID']\n",
    "                i+=1\n",
    "                break\n",
    "\n",
    "            #si el ID es distinto se busca el valor del ID 8 de sigres en la columna ID de OSP\n",
    "            elif(file_sig['ID'] != file_osp['ID']):\n",
    "                ##recorrer OSP en busca de ID 8\n",
    "                \n",
    "                # si se encuentra se debe aplicar un pivote y se genera el registro (OSP: A0) en dataloader\n",
    "                dataLoader['NS_FTTH'] = file_osp['FTTH']\n",
    "                dataLoader['OSP'] = file_osp['ID']\n",
    "                dataLoader['Liberado'] = pivote\n",
    "\n",
    "                # actualizar csv de sigres y el de auxiliar para marcar que se pivoteo la fila\n",
    "                file_sig['ID'] = pivote\n",
    "                file_sig_aux['ID'] = pivote \n",
    "\n",
    "\n",
    "                # ademas se modifica tabla auxiliar dejando en liberado el ID de OSP y en ID de OSP el ID pivote\n",
    "                file_osp_aux['ID'] = pivote\n",
    "\n",
    "                #almacenar en variable ID de sigres el valor del liberado (1) y realizar busqueda del valor en sigres\n",
    "                file_sig['ID'] = liberado\n",
    "\n",
    "                #volver al archivo de sigres con ID 1 y buscar ftth correspondiente al ID (H)\n",
    "                if(file_sig['FTTH'] == file_osp['FTTH']):\n",
    "\n",
    "                    #busco la H en osp y se compara el ID de OSP (H8) con el H1 de SIGRES\n",
    "                    if(file_sig['ID'] == file_osp['ID']):\n",
    "                        i+=1\n",
    "                        break\n",
    "                    #si el ID es distinto se busca el valor ID 1 de sigres en la columna ID de OSP\n",
    "                    #si no se encuentra se genera registro OSP H1 y se guarda en dataloader, ademas se modifica tabla auxiliar dejando en liberado el ID de OSP y en ID de OSP el de sigres, actualizar csv de sigres y el de auxiliar para marcar que el registro queda OK\n",
    "\n",
    "\n",
    "                    i+=1\n",
    "                    break\n",
    "                \n",
    "                elif(file_sig['ID'] != file_osp['ID']):\n",
    "\n",
    "                    #si el ID es distinto se busca el valor ID 1 de sigres en la columna ID de OSP\n",
    "                    i+=1\n",
    "                    break\n",
    "\n",
    "                else:\n",
    "\n",
    "                    #si no se encuentra se genera registro OSP H1 y se guarda en dataloader\n",
    "                    dataLoader['NS_FTTH'] = file_osp['NS_FTTH']\n",
    "                    dataLoader['OSP'] = file_osp['ID']\n",
    "                    dataLoader['Liberado'] = liberado\n",
    "\n",
    "                    # ademas se modifica tabla auxiliar dejando en liberado el ID de OSP y en ID de OSP el de sigres\n",
    "\n",
    "\n",
    "                    # actualizar csv de sigres y el de auxiliar para marcar que el registro queda OK\n",
    "\n",
    "                    i+=1\n",
    "                    break\n",
    "\n",
    "            #si no se encuentra se genera registro (OSP: A8) y se guarda en dataloader, \n",
    "            # ademas se modifica tabla auxiliar dejando en liberado el ID de OSP y en ID de OSP el de sigres\n",
    "            # actualizar csv de sigres y el de auxiliar para marcar que el registro queda OK\n",
    "            else:\n",
    "\n",
    "                #si no se encuentra se genera registro (OSP: A8) y se guarda en dataloader, \n",
    "                dataLoader['NS_FTTH'] = file_osp['FTTH']\n",
    "                dataLoader['OSP'] = file_sig['ID']\n",
    "                dataLoader['Liberado'] = liberado\n",
    "\n",
    "                #ademas se modifica tabla auxiliar dejando en liberado el ID de OSP y en ID de OSP el de sigres\n",
    "                file_osp_aux['ID'] = file_sig['ID']\n",
    "                #osp_aux['Estado'] = 'Liberado'\n",
    "\n",
    "                i+=1\n",
    "                break\n",
    "        i+=1\n",
    "        break\n",
    "    i+=1\n",
    "    break\n",
    "        "
   ]
  },
  {
   "cell_type": "code",
   "execution_count": null,
   "metadata": {},
   "outputs": [],
   "source": [
    "#reemplazar for por while y verificar estado de la fila\n",
    "#primero busqueda y luego pivoteo\n",
    "#probar empezando por sig y luego por osp\n",
    "for i, file_osp in array_osp.iterrows():\n",
    "    for j, file_sig in array_sig.iterrows():\n",
    "\n",
    "        #Pivote y Liberdo inicializados en cero\n",
    "        pivote = 0\n",
    "        liberado = 0\n",
    "\n",
    "        #Verifica que filas FTTH sean iguales en ambos archivos\n",
    "        if(file_osp['FTTH'] == file_sig['FTTH']):\n",
    "\n",
    "            #Verifica que nos encontremos en el mismo puerto\n",
    "            #if(file_osp['PUERTO'] == file_sig['PUERTO']):\n",
    "\n",
    "            #Asigna los valores de ID al Dataloader de forma inmediata si es que ambos tienen mismo valor\n",
    "            if(file_osp['ID'] == file_sig['ID']):\n",
    "\n",
    "                break\n",
    "\n",
    "                ##campo X se encuentra OK\n",
    "\n",
    "                #Dataloader.csv\n",
    "                dataLoader['NS_FTTH'] = file_osp['FTTH']\n",
    "                dataLoader['OSP'] = file_osp['ID']\n",
    "                dataLoader['Liberado'] = liberado\n",
    "\n",
    "            elif (file_osp['ID'] != file_sig['ID']):\n",
    "\n",
    "\n",
    "                    #recorrer columna OSP en busqueda de valor SIGRES en OSP antes de empezar esto\n",
    "                    #probar con otro for\n",
    "                   \n",
    "\n",
    "                    #Se crea un primer pivoteo y se guarda en registro\n",
    "                    liberado = file_osp['ID']\n",
    "                    file_osp['ID'] = pivote\n",
    "\n",
    "                    #Se guardan en registro\n",
    "                    dataLoader['NS_FTTH'] = file_osp['FTTH']\n",
    "                    dataLoader['OSP'] = file_osp['ID']\n",
    "                    dataLoader['Liberado'] = liberado\n",
    "            \n",
    "            else: \n",
    "                break\n",
    "\n",
    "        #for o map\n",
    "        if(file_osp['ID'] == file_sig['ID']):\n",
    "            \n",
    "            #Se asigna valor de ID en OSP y se guarda pivote en SIGRES\n",
    "            file_osp['ID'] = file_sig['ID']\n",
    "            file_sig['ID'] = pivote\n",
    "\n",
    "            #Se guardan en registro\n",
    "            dataLoader['NS_FTTH'] = file_osp['FTTH']\n",
    "            dataLoader['OSP'] = file_osp['ID']\n",
    "            dataLoader['Liberado'] = liberado\n",
    "            break\n",
    "\n",
    "        else:\n",
    "            break"
   ]
  },
  {
   "cell_type": "code",
   "execution_count": null,
   "metadata": {},
   "outputs": [],
   "source": [
    "#Crea archivo DataLoader\n",
    "dataLoader.to_csv('DataLoader.csv', index=False)"
   ]
  },
  {
   "cell_type": "code",
   "execution_count": null,
   "metadata": {},
   "outputs": [],
   "source": [
    "array_3 = np.zeros(8)\n"
   ]
  },
  {
   "cell_type": "code",
   "execution_count": null,
   "metadata": {},
   "outputs": [
    {
     "data": {
      "text/plain": [
       "array([0., 0., 0., 0., 0., 0., 0., 0.])"
      ]
     },
     "execution_count": 48,
     "metadata": {},
     "output_type": "execute_result"
    }
   ],
   "source": [
    "array_3"
   ]
  },
  {
   "cell_type": "markdown",
   "metadata": {},
   "source": [
    "1\n",
    "2\n",
    "3\n",
    "4\n",
    "6\n",
    "7\n",
    "8\n"
   ]
  },
  {
   "cell_type": "code",
   "execution_count": null,
   "metadata": {},
   "outputs": [],
   "source": [
    "array_4 = [1,2,3,4,6,7,8]"
   ]
  },
  {
   "cell_type": "code",
   "execution_count": null,
   "metadata": {},
   "outputs": [
    {
     "data": {
      "text/plain": [
       "[1, 2, 3, 4, 6, 7, 8]"
      ]
     },
     "execution_count": 50,
     "metadata": {},
     "output_type": "execute_result"
    }
   ],
   "source": [
    "array_4"
   ]
  },
  {
   "cell_type": "code",
   "execution_count": null,
   "metadata": {},
   "outputs": [],
   "source": [
    "for i in len(array_3):\n",
    "    if(array_4[i] == array_3.index(i)):\n",
    "        print('Hola')"
   ]
  }
 ],
 "metadata": {
  "kernelspec": {
   "display_name": "Python 3.9.12 ('base')",
   "language": "python",
   "name": "python3"
  },
  "language_info": {
   "codemirror_mode": {
    "name": "ipython",
    "version": 3
   },
   "file_extension": ".py",
   "mimetype": "text/x-python",
   "name": "python",
   "nbconvert_exporter": "python",
   "pygments_lexer": "ipython3",
   "version": "3.9.12"
  },
  "orig_nbformat": 4,
  "vscode": {
   "interpreter": {
    "hash": "d928c9380d2d7535665705a50d87447ecd761547b2065cc2c2098903ea6fa649"
   }
  }
 },
 "nbformat": 4,
 "nbformat_minor": 2
}
