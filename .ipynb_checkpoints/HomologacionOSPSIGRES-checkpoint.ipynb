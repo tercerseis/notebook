{
 "cells": [
  {
   "cell_type": "code",
   "execution_count": 1,
   "metadata": {},
   "outputs": [],
   "source": [
    "import pandas as pd"
   ]
  },
  {
   "cell_type": "code",
   "execution_count": 2,
   "metadata": {},
   "outputs": [],
   "source": [
    "OSP_FILE = 'osp_3.csv'\n",
    "SIG_FILE = 'sig_3.csv'\n",
    "\n",
    "#Dataframes para DataLoader y tablas auxiliares\n",
    "dataLoader = pd.DataFrame()\n",
    "osp_aux = pd.DataFrame()\n",
    "sig_aux = pd.DataFrame()"
   ]
  },
  {
   "cell_type": "code",
   "execution_count": 3,
   "metadata": {},
   "outputs": [],
   "source": [
    "file_osp = pd.read_csv(OSP_FILE, delimiter=';', encoding='UTF-8', low_memory=False)\n",
    "file_sig = pd.read_csv(SIG_FILE, delimiter=';', encoding='UTF-8', low_memory=False)\n",
    "\n",
    "#Tablas auxiliares\n",
    "file_osp_aux = pd.read_csv(OSP_FILE, delimiter=';', encoding='UTF-8', low_memory=False, on_bad_lines='skip')\n",
    "file_sig_aux = pd.read_csv(SIG_FILE, delimiter=';', encoding='UTF-8', low_memory=False, on_bad_lines='skip')"
   ]
  },
  {
   "cell_type": "code",
   "execution_count": 4,
   "metadata": {},
   "outputs": [],
   "source": [
    "array_osp = file_osp[['FTTH', 'ID']]\n",
    "array_sig = file_sig[['FTTH', 'ID']]\n",
    "dataLoader = pd.DataFrame(columns=['NS_FTTH', 'ID'])\n",
    "\n",
    "#Seleccion de puertos \n",
    "#array_osp = file_osp[['FTTH', 'PUERTO', 'ID']]\n",
    "#array_sig = file_osp[['FTTH', 'PUERTO', 'ID']]"
   ]
  },
  {
   "cell_type": "code",
   "execution_count": 5,
   "metadata": {},
   "outputs": [
    {
     "name": "stdout",
     "output_type": "stream",
     "text": [
      "OSP_ID:  2\n",
      "OSP_FTTH:  1000014007\n"
     ]
    },
    {
     "ename": "KeyError",
     "evalue": "0",
     "output_type": "error",
     "traceback": [
      "\u001b[1;31m---------------------------------------------------------------------------\u001b[0m",
      "\u001b[1;31mKeyError\u001b[0m                                  Traceback (most recent call last)",
      "File \u001b[1;32m~\\anaconda3\\envs\\comparadorcsv\\lib\\site-packages\\pandas\\core\\indexes\\base.py:3629\u001b[0m, in \u001b[0;36mIndex.get_loc\u001b[1;34m(self, key, method, tolerance)\u001b[0m\n\u001b[0;32m   3628\u001b[0m \u001b[38;5;28;01mtry\u001b[39;00m:\n\u001b[1;32m-> 3629\u001b[0m     \u001b[38;5;28;01mreturn\u001b[39;00m \u001b[38;5;28;43mself\u001b[39;49m\u001b[38;5;241;43m.\u001b[39;49m\u001b[43m_engine\u001b[49m\u001b[38;5;241;43m.\u001b[39;49m\u001b[43mget_loc\u001b[49m\u001b[43m(\u001b[49m\u001b[43mcasted_key\u001b[49m\u001b[43m)\u001b[49m\n\u001b[0;32m   3630\u001b[0m \u001b[38;5;28;01mexcept\u001b[39;00m \u001b[38;5;167;01mKeyError\u001b[39;00m \u001b[38;5;28;01mas\u001b[39;00m err:\n",
      "File \u001b[1;32m~\\anaconda3\\envs\\comparadorcsv\\lib\\site-packages\\pandas\\_libs\\index.pyx:136\u001b[0m, in \u001b[0;36mpandas._libs.index.IndexEngine.get_loc\u001b[1;34m()\u001b[0m\n",
      "File \u001b[1;32m~\\anaconda3\\envs\\comparadorcsv\\lib\\site-packages\\pandas\\_libs\\index.pyx:163\u001b[0m, in \u001b[0;36mpandas._libs.index.IndexEngine.get_loc\u001b[1;34m()\u001b[0m\n",
      "File \u001b[1;32mpandas\\_libs\\hashtable_class_helper.pxi:5198\u001b[0m, in \u001b[0;36mpandas._libs.hashtable.PyObjectHashTable.get_item\u001b[1;34m()\u001b[0m\n",
      "File \u001b[1;32mpandas\\_libs\\hashtable_class_helper.pxi:5206\u001b[0m, in \u001b[0;36mpandas._libs.hashtable.PyObjectHashTable.get_item\u001b[1;34m()\u001b[0m\n",
      "\u001b[1;31mKeyError\u001b[0m: 0",
      "\nThe above exception was the direct cause of the following exception:\n",
      "\u001b[1;31mKeyError\u001b[0m                                  Traceback (most recent call last)",
      "Input \u001b[1;32mIn [5]\u001b[0m, in \u001b[0;36m<cell line: 6>\u001b[1;34m()\u001b[0m\n\u001b[0;32m     14\u001b[0m     \u001b[38;5;28;01mbreak\u001b[39;00m\n\u001b[0;32m     16\u001b[0m \u001b[38;5;66;03m#Caso 2: El valor de SIGRES no está en OSP\u001b[39;00m\n\u001b[1;32m---> 17\u001b[0m \u001b[38;5;28;01melif\u001b[39;00m \u001b[43marray_sig\u001b[49m\u001b[43m[\u001b[49m\u001b[43mi\u001b[49m\u001b[43m]\u001b[49m \u001b[38;5;129;01min\u001b[39;00m array_osp\u001b[38;5;241m.\u001b[39miterrows():\n\u001b[0;32m     18\u001b[0m     dataLoader[\u001b[38;5;124m'\u001b[39m\u001b[38;5;124mNS_FTTH\u001b[39m\u001b[38;5;124m'\u001b[39m] \u001b[38;5;241m=\u001b[39m file_sig[\u001b[38;5;124m'\u001b[39m\u001b[38;5;124mFTTH\u001b[39m\u001b[38;5;124m'\u001b[39m]\n\u001b[0;32m     19\u001b[0m     dataLoader[\u001b[38;5;124m'\u001b[39m\u001b[38;5;124mOSP\u001b[39m\u001b[38;5;124m'\u001b[39m] \u001b[38;5;241m=\u001b[39m file_sig[\u001b[38;5;124m'\u001b[39m\u001b[38;5;124mID\u001b[39m\u001b[38;5;124m'\u001b[39m]\n",
      "File \u001b[1;32m~\\anaconda3\\envs\\comparadorcsv\\lib\\site-packages\\pandas\\core\\frame.py:3505\u001b[0m, in \u001b[0;36mDataFrame.__getitem__\u001b[1;34m(self, key)\u001b[0m\n\u001b[0;32m   3503\u001b[0m \u001b[38;5;28;01mif\u001b[39;00m \u001b[38;5;28mself\u001b[39m\u001b[38;5;241m.\u001b[39mcolumns\u001b[38;5;241m.\u001b[39mnlevels \u001b[38;5;241m>\u001b[39m \u001b[38;5;241m1\u001b[39m:\n\u001b[0;32m   3504\u001b[0m     \u001b[38;5;28;01mreturn\u001b[39;00m \u001b[38;5;28mself\u001b[39m\u001b[38;5;241m.\u001b[39m_getitem_multilevel(key)\n\u001b[1;32m-> 3505\u001b[0m indexer \u001b[38;5;241m=\u001b[39m \u001b[38;5;28;43mself\u001b[39;49m\u001b[38;5;241;43m.\u001b[39;49m\u001b[43mcolumns\u001b[49m\u001b[38;5;241;43m.\u001b[39;49m\u001b[43mget_loc\u001b[49m\u001b[43m(\u001b[49m\u001b[43mkey\u001b[49m\u001b[43m)\u001b[49m\n\u001b[0;32m   3506\u001b[0m \u001b[38;5;28;01mif\u001b[39;00m is_integer(indexer):\n\u001b[0;32m   3507\u001b[0m     indexer \u001b[38;5;241m=\u001b[39m [indexer]\n",
      "File \u001b[1;32m~\\anaconda3\\envs\\comparadorcsv\\lib\\site-packages\\pandas\\core\\indexes\\base.py:3631\u001b[0m, in \u001b[0;36mIndex.get_loc\u001b[1;34m(self, key, method, tolerance)\u001b[0m\n\u001b[0;32m   3629\u001b[0m     \u001b[38;5;28;01mreturn\u001b[39;00m \u001b[38;5;28mself\u001b[39m\u001b[38;5;241m.\u001b[39m_engine\u001b[38;5;241m.\u001b[39mget_loc(casted_key)\n\u001b[0;32m   3630\u001b[0m \u001b[38;5;28;01mexcept\u001b[39;00m \u001b[38;5;167;01mKeyError\u001b[39;00m \u001b[38;5;28;01mas\u001b[39;00m err:\n\u001b[1;32m-> 3631\u001b[0m     \u001b[38;5;28;01mraise\u001b[39;00m \u001b[38;5;167;01mKeyError\u001b[39;00m(key) \u001b[38;5;28;01mfrom\u001b[39;00m \u001b[38;5;21;01merr\u001b[39;00m\n\u001b[0;32m   3632\u001b[0m \u001b[38;5;28;01mexcept\u001b[39;00m \u001b[38;5;167;01mTypeError\u001b[39;00m:\n\u001b[0;32m   3633\u001b[0m     \u001b[38;5;66;03m# If we have a listlike key, _check_indexing_error will raise\u001b[39;00m\n\u001b[0;32m   3634\u001b[0m     \u001b[38;5;66;03m#  InvalidIndexError. Otherwise we fall through and re-raise\u001b[39;00m\n\u001b[0;32m   3635\u001b[0m     \u001b[38;5;66;03m#  the TypeError.\u001b[39;00m\n\u001b[0;32m   3636\u001b[0m     \u001b[38;5;28mself\u001b[39m\u001b[38;5;241m.\u001b[39m_check_indexing_error(key)\n",
      "\u001b[1;31mKeyError\u001b[0m: 0"
     ]
    }
   ],
   "source": [
    "p = 0\n",
    "i = 0\n",
    "j = 0\n",
    "o = 0\n",
    "\n",
    "for i, sig in array_sig.iterrows():\n",
    "    for j, osp in array_osp.iterrows():\n",
    "        print('OSP_ID: ',osp['ID'])\n",
    "        print('OSP_FTTH: ',osp['FTTH'])\n",
    "\n",
    "        #Caso 1: Ambas tablas coinciden\n",
    "        if(sig['FTTH'] == osp['FTTH'] and sig['ID'] == osp['ID']):\n",
    "            i+=1\n",
    "            break\n",
    "        \n",
    "        #Caso 2: El valor de SIGRES no está en OSP\n",
    "        elif array_sig[i] in array_osp.iterrows():\n",
    "            dataLoader['NS_FTTH'] = file_sig['FTTH']\n",
    "            dataLoader['OSP'] = file_sig['ID']\n",
    "            i+=1\n",
    "            break\n",
    "\n",
    "        #Caso 3: El valor de SIGRES si está en OSP\n",
    "        else:\n",
    "            for o, file_osp in array_osp.iterrows():\n",
    "                if(pivote in array_osp[p]):\n",
    "                    pivote = array_osp[p]\n",
    "                    dataLoader['NS_FTTH'] = file_osp['FTTH']\n",
    "                    dataLoader['OSP'] = pivote\n",
    "                    p+=1\n",
    "                    break\n",
    "                else:\n",
    "                    p+=1\n",
    "                    break\n",
    "        \n",
    "\n",
    "        \n",
    "        "
   ]
  },
  {
   "cell_type": "code",
   "execution_count": null,
   "metadata": {},
   "outputs": [],
   "source": [
    "for i in len(array_osp):\n",
    "    print(i['ID'])\n"
   ]
  },
  {
   "cell_type": "code",
   "execution_count": null,
   "metadata": {},
   "outputs": [],
   "source": [
    "i = 0\n",
    "j = 0\n",
    "#i = len(array_sig)\n",
    "#j = len(array_osp)\n",
    "\n",
    "#se parte con valor a8 de sigres \n",
    "while i < len(array_sig):\n",
    "    pivote=0\n",
    "    liberado=0\n",
    "    while j < len(array_osp):\n",
    "\n",
    "        #busco la A en osp y se compara el ID de OSP (A1) con el A8 de SIGRES\n",
    "        if(file_sig['FTTH'] == file_osp['FTTH']):\n",
    "            if(file_sig['ID'] == file_sig['ID']):\n",
    "                dataLoader['NS_FTTH'] = file_osp['FTTH']\n",
    "                print(dataLoader)\n",
    "                dataLoader['OSP'] = file_osp['ID']\n",
    "                i+=1\n",
    "                break\n",
    "\n",
    "            #si el ID es distinto se busca el valor del ID 8 de sigres en la columna ID de OSP\n",
    "            elif(file_sig['ID'] != file_osp['ID']):\n",
    "                ##recorrer OSP en busca de ID 8\n",
    "                \n",
    "                # si se encuentra se debe aplicar un pivote y se genera el registro (OSP: A0) en dataloader\n",
    "                dataLoader['NS_FTTH'] = file_osp['FTTH']\n",
    "                dataLoader['OSP'] = file_osp['ID']\n",
    "                dataLoader['Liberado'] = pivote\n",
    "\n",
    "                # actualizar csv de sigres y el de auxiliar para marcar que se pivoteo la fila\n",
    "                file_sig['ID'] = pivote\n",
    "                file_sig_aux['ID'] = pivote \n",
    "\n",
    "\n",
    "                # ademas se modifica tabla auxiliar dejando en liberado el ID de OSP y en ID de OSP el ID pivote\n",
    "                file_osp_aux['ID'] = pivote\n",
    "\n",
    "                #almacenar en variable ID de sigres el valor del liberado (1) y realizar busqueda del valor en sigres\n",
    "                file_sig['ID'] = liberado\n",
    "\n",
    "                #volver al archivo de sigres con ID 1 y buscar ftth correspondiente al ID (H)\n",
    "                if(file_sig['FTTH'] == file_osp['FTTH']):\n",
    "\n",
    "                    #busco la H en osp y se compara el ID de OSP (H8) con el H1 de SIGRES\n",
    "                    if(file_sig['ID'] == file_osp['ID']):\n",
    "                        i+=1\n",
    "                        break\n",
    "                    #si el ID es distinto se busca el valor ID 1 de sigres en la columna ID de OSP\n",
    "                    #si no se encuentra se genera registro OSP H1 y se guarda en dataloader, ademas se modifica tabla auxiliar dejando en liberado el ID de OSP y en ID de OSP el de sigres, actualizar csv de sigres y el de auxiliar para marcar que el registro queda OK\n",
    "\n",
    "\n",
    "                    i+=1\n",
    "                    break\n",
    "                \n",
    "                elif(file_sig['ID'] != file_osp['ID']):\n",
    "\n",
    "                    #si el ID es distinto se busca el valor ID 1 de sigres en la columna ID de OSP\n",
    "                    i+=1\n",
    "                    break\n",
    "\n",
    "                else:\n",
    "\n",
    "                    #si no se encuentra se genera registro OSP H1 y se guarda en dataloader\n",
    "                    dataLoader['NS_FTTH'] = file_osp['NS_FTTH']\n",
    "                    dataLoader['OSP'] = file_osp['ID']\n",
    "                    dataLoader['Liberado'] = liberado\n",
    "\n",
    "                    # ademas se modifica tabla auxiliar dejando en liberado el ID de OSP y en ID de OSP el de sigres\n",
    "\n",
    "\n",
    "                    # actualizar csv de sigres y el de auxiliar para marcar que el registro queda OK\n",
    "\n",
    "                    i+=1\n",
    "                    break\n",
    "\n",
    "            #si no se encuentra se genera registro (OSP: A8) y se guarda en dataloader, \n",
    "            # ademas se modifica tabla auxiliar dejando en liberado el ID de OSP y en ID de OSP el de sigres\n",
    "            # actualizar csv de sigres y el de auxiliar para marcar que el registro queda OK\n",
    "            else:\n",
    "\n",
    "                #si no se encuentra se genera registro (OSP: A8) y se guarda en dataloader, \n",
    "                dataLoader['NS_FTTH'] = file_osp['FTTH']\n",
    "                dataLoader['OSP'] = file_sig['ID']\n",
    "                dataLoader['Liberado'] = liberado\n",
    "\n",
    "                #ademas se modifica tabla auxiliar dejando en liberado el ID de OSP y en ID de OSP el de sigres\n",
    "                file_osp_aux['ID'] = file_sig['ID']\n",
    "                #osp_aux['Estado'] = 'Liberado'\n",
    "\n",
    "                i+=1\n",
    "                break\n",
    "        i+=1\n",
    "        break\n",
    "    i+=1\n",
    "    break\n",
    "        "
   ]
  },
  {
   "cell_type": "code",
   "execution_count": null,
   "metadata": {},
   "outputs": [],
   "source": [
    "#reemplazar for por while y verificar estado de la fila\n",
    "#primero busqueda y luego pivoteo\n",
    "#probar empezando por sig y luego por osp\n",
    "for i, file_osp in array_osp.iterrows():\n",
    "    for j, file_sig in array_sig.iterrows():\n",
    "\n",
    "        #Pivote y Liberdo inicializados en cero\n",
    "        pivote = 0\n",
    "        liberado = 0\n",
    "\n",
    "        #Verifica que filas FTTH sean iguales en ambos archivos\n",
    "        if(file_osp['FTTH'] == file_sig['FTTH']):\n",
    "\n",
    "            #Verifica que nos encontremos en el mismo puerto\n",
    "            #if(file_osp['PUERTO'] == file_sig['PUERTO']):\n",
    "\n",
    "            #Asigna los valores de ID al Dataloader de forma inmediata si es que ambos tienen mismo valor\n",
    "            if(file_osp['ID'] == file_sig['ID']):\n",
    "\n",
    "                break\n",
    "\n",
    "                ##campo X se encuentra OK\n",
    "\n",
    "                #Dataloader.csv\n",
    "                dataLoader['NS_FTTH'] = file_osp['FTTH']\n",
    "                dataLoader['OSP'] = file_osp['ID']\n",
    "                dataLoader['Liberado'] = liberado\n",
    "\n",
    "            elif (file_osp['ID'] != file_sig['ID']):\n",
    "\n",
    "\n",
    "                    #recorrer columna OSP en busqueda de valor SIGRES en OSP antes de empezar esto\n",
    "                    #probar con otro for\n",
    "                   \n",
    "\n",
    "                    #Se crea un primer pivoteo y se guarda en registro\n",
    "                    liberado = file_osp['ID']\n",
    "                    file_osp['ID'] = pivote\n",
    "\n",
    "                    #Se guardan en registro\n",
    "                    dataLoader['NS_FTTH'] = file_osp['FTTH']\n",
    "                    dataLoader['OSP'] = file_osp['ID']\n",
    "                    dataLoader['Liberado'] = liberado\n",
    "            \n",
    "            else: \n",
    "                break\n",
    "\n",
    "        #for o map\n",
    "        if(file_osp['ID'] == file_sig['ID']):\n",
    "            \n",
    "            #Se asigna valor de ID en OSP y se guarda pivote en SIGRES\n",
    "            file_osp['ID'] = file_sig['ID']\n",
    "            file_sig['ID'] = pivote\n",
    "\n",
    "            #Se guardan en registro\n",
    "            dataLoader['NS_FTTH'] = file_osp['FTTH']\n",
    "            dataLoader['OSP'] = file_osp['ID']\n",
    "            dataLoader['Liberado'] = liberado\n",
    "            break\n",
    "\n",
    "        else:\n",
    "            break"
   ]
  },
  {
   "cell_type": "code",
   "execution_count": null,
   "metadata": {},
   "outputs": [],
   "source": [
    "#Crea archivo DataLoader\n",
    "dataLoader.to_csv('DataLoader.csv', index=False)"
   ]
  },
  {
   "cell_type": "code",
   "execution_count": null,
   "metadata": {},
   "outputs": [],
   "source": [
    "array_3 = np.zeros(8)\n"
   ]
  },
  {
   "cell_type": "code",
   "execution_count": null,
   "metadata": {},
   "outputs": [
    {
     "data": {
      "text/plain": [
       "array([0., 0., 0., 0., 0., 0., 0., 0.])"
      ]
     },
     "execution_count": 48,
     "metadata": {},
     "output_type": "execute_result"
    }
   ],
   "source": [
    "array_3"
   ]
  },
  {
   "cell_type": "markdown",
   "metadata": {},
   "source": [
    "1\n",
    "2\n",
    "3\n",
    "4\n",
    "6\n",
    "7\n",
    "8\n"
   ]
  },
  {
   "cell_type": "code",
   "execution_count": null,
   "metadata": {},
   "outputs": [],
   "source": [
    "array_4 = [1,2,3,4,6,7,8]"
   ]
  },
  {
   "cell_type": "code",
   "execution_count": null,
   "metadata": {},
   "outputs": [
    {
     "data": {
      "text/plain": [
       "[1, 2, 3, 4, 6, 7, 8]"
      ]
     },
     "execution_count": 50,
     "metadata": {},
     "output_type": "execute_result"
    }
   ],
   "source": [
    "array_4"
   ]
  },
  {
   "cell_type": "code",
   "execution_count": null,
   "metadata": {},
   "outputs": [],
   "source": [
    "for i in len(array_3):\n",
    "    if(array_4[i] == array_3.index(i)):\n",
    "        print('Hola')"
   ]
  }
 ],
 "metadata": {
  "kernelspec": {
   "display_name": "Python 3 (ipykernel)",
   "language": "python",
   "name": "python3"
  },
  "language_info": {
   "codemirror_mode": {
    "name": "ipython",
    "version": 3
   },
   "file_extension": ".py",
   "mimetype": "text/x-python",
   "name": "python",
   "nbconvert_exporter": "python",
   "pygments_lexer": "ipython3",
   "version": "3.10.4"
  },
  "vscode": {
   "interpreter": {
    "hash": "d928c9380d2d7535665705a50d87447ecd761547b2065cc2c2098903ea6fa649"
   }
  }
 },
 "nbformat": 4,
 "nbformat_minor": 2
}
