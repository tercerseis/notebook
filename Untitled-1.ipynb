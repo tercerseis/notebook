{
 "cells": [
  {
   "cell_type": "code",
   "execution_count": 84,
   "metadata": {},
   "outputs": [],
   "source": [
    "import pandas as pd\n",
    "import numpy as np"
   ]
  },
  {
   "cell_type": "code",
   "execution_count": 112,
   "metadata": {},
   "outputs": [],
   "source": [
    "OSP_FILE = 'osp_3.csv'\n",
    "SIG_FILE = 'sig_3.csv'\n",
    "dataLoader = pd.DataFrame()"
   ]
  },
  {
   "cell_type": "code",
   "execution_count": 113,
   "metadata": {},
   "outputs": [],
   "source": [
    "file_osp = pd.read_csv(OSP_FILE, delimiter=';', encoding='UTF-8', low_memory=False, on_bad_lines='skip')\n",
    "file_sig = pd.read_csv(SIG_FILE, delimiter=';', encoding='UTF-8', low_memory=False, on_bad_lines='skip')"
   ]
  },
  {
   "cell_type": "code",
   "execution_count": 114,
   "metadata": {},
   "outputs": [],
   "source": [
    "array_osp = file_osp[['FTTH', 'ID']]\n",
    "array_sig = file_sig[['FTTH', 'ID']]\n",
    "\n",
    "#Seleccion de puertos \n",
    "#array_osp = file_osp[['FTTH', 'PUERTO', 'ID']]\n",
    "#array_sig = file_osp[['FTTH', 'PUERTO', 'ID']]"
   ]
  },
  {
   "cell_type": "code",
   "execution_count": 143,
   "metadata": {},
   "outputs": [
    {
     "data": {
      "text/html": [
       "<div>\n",
       "<style scoped>\n",
       "    .dataframe tbody tr th:only-of-type {\n",
       "        vertical-align: middle;\n",
       "    }\n",
       "\n",
       "    .dataframe tbody tr th {\n",
       "        vertical-align: top;\n",
       "    }\n",
       "\n",
       "    .dataframe thead th {\n",
       "        text-align: right;\n",
       "    }\n",
       "</style>\n",
       "<table border=\"1\" class=\"dataframe\">\n",
       "  <thead>\n",
       "    <tr style=\"text-align: right;\">\n",
       "      <th></th>\n",
       "      <th>FTTH</th>\n",
       "      <th>ID</th>\n",
       "    </tr>\n",
       "  </thead>\n",
       "  <tbody>\n",
       "    <tr>\n",
       "      <th>0</th>\n",
       "      <td>1000014007</td>\n",
       "      <td>2</td>\n",
       "    </tr>\n",
       "    <tr>\n",
       "      <th>1</th>\n",
       "      <td>1000088891</td>\n",
       "      <td>3</td>\n",
       "    </tr>\n",
       "    <tr>\n",
       "      <th>2</th>\n",
       "      <td>1000014064</td>\n",
       "      <td>25</td>\n",
       "    </tr>\n",
       "    <tr>\n",
       "      <th>3</th>\n",
       "      <td>1000014004</td>\n",
       "      <td>29</td>\n",
       "    </tr>\n",
       "    <tr>\n",
       "      <th>4</th>\n",
       "      <td>1000014005</td>\n",
       "      <td>30</td>\n",
       "    </tr>\n",
       "  </tbody>\n",
       "</table>\n",
       "</div>"
      ],
      "text/plain": [
       "         FTTH  ID\n",
       "0  1000014007   2\n",
       "1  1000088891   3\n",
       "2  1000014064  25\n",
       "3  1000014004  29\n",
       "4  1000014005  30"
      ]
     },
     "execution_count": 143,
     "metadata": {},
     "output_type": "execute_result"
    }
   ],
   "source": [
    "array_osp.head()"
   ]
  },
  {
   "cell_type": "code",
   "execution_count": 132,
   "metadata": {},
   "outputs": [
    {
     "data": {
      "text/html": [
       "<div>\n",
       "<style scoped>\n",
       "    .dataframe tbody tr th:only-of-type {\n",
       "        vertical-align: middle;\n",
       "    }\n",
       "\n",
       "    .dataframe tbody tr th {\n",
       "        vertical-align: top;\n",
       "    }\n",
       "\n",
       "    .dataframe thead th {\n",
       "        text-align: right;\n",
       "    }\n",
       "</style>\n",
       "<table border=\"1\" class=\"dataframe\">\n",
       "  <thead>\n",
       "    <tr style=\"text-align: right;\">\n",
       "      <th></th>\n",
       "      <th>FTTH</th>\n",
       "      <th>ID</th>\n",
       "    </tr>\n",
       "  </thead>\n",
       "  <tbody>\n",
       "    <tr>\n",
       "      <th>0</th>\n",
       "      <td>1000014007</td>\n",
       "      <td>55</td>\n",
       "    </tr>\n",
       "    <tr>\n",
       "      <th>1</th>\n",
       "      <td>1000088891</td>\n",
       "      <td>52</td>\n",
       "    </tr>\n",
       "    <tr>\n",
       "      <th>2</th>\n",
       "      <td>1000014064</td>\n",
       "      <td>37</td>\n",
       "    </tr>\n",
       "    <tr>\n",
       "      <th>3</th>\n",
       "      <td>1000014004</td>\n",
       "      <td>23</td>\n",
       "    </tr>\n",
       "    <tr>\n",
       "      <th>4</th>\n",
       "      <td>1000014005</td>\n",
       "      <td>8</td>\n",
       "    </tr>\n",
       "  </tbody>\n",
       "</table>\n",
       "</div>"
      ],
      "text/plain": [
       "         FTTH  ID\n",
       "0  1000014007  55\n",
       "1  1000088891  52\n",
       "2  1000014064  37\n",
       "3  1000014004  23\n",
       "4  1000014005   8"
      ]
     },
     "execution_count": 132,
     "metadata": {},
     "output_type": "execute_result"
    }
   ],
   "source": [
    "array_sig.head()"
   ]
  },
  {
   "cell_type": "code",
   "execution_count": 139,
   "metadata": {},
   "outputs": [],
   "source": [
    "#reemplazar for por while y verificar estado de la fila\n",
    "#primero busqueda y luego pivoteo\n",
    "#probar empezando por sig y luego por osp\n",
    "for i, file_osp in array_osp.iterrows():\n",
    "    for j, file_sig in array_sig.iterrows():\n",
    "\n",
    "        #Pivote y Liberdo inicializados en cero\n",
    "        pivote = 0\n",
    "        liberado = 0\n",
    "\n",
    "        #Verifica que filas FTTH sean iguales en ambos archivos\n",
    "        if(file_osp['FTTH'] == file_sig['FTTH']):\n",
    "\n",
    "            #Verifica que nos encontremos en el mismo puerto\n",
    "            #if(file_osp['PUERTO'] == file_sig['PUERTO']):\n",
    "\n",
    "            #Asigna los valores de ID al Dataloader de forma inmediata si es que ambos tienen mismo valor\n",
    "            if(file_osp['ID'] == file_sig['ID']):\n",
    "\n",
    "                break\n",
    "\n",
    "                ##campo X se encuentra OK\n",
    "\n",
    "                #Dataloader.csv\n",
    "                dataLoader['NS_FTTH'] = file_osp['FTTH']\n",
    "                dataLoader['OSP'] = file_osp['ID']\n",
    "                dataLoader['Liberado'] = liberado\n",
    "\n",
    "            elif (file_osp['ID'] != file_sig['ID']):\n",
    "\n",
    "\n",
    "                    #recorrer columna OSP en busqueda de valor SIGRES en OSP antes de empezar esto\n",
    "                    #probar con otro for\n",
    "                   \n",
    "\n",
    "                    #Se crea un primer pivoteo y se guarda en registro\n",
    "                    liberado = file_osp['ID']\n",
    "                    file_osp['ID'] = pivote\n",
    "\n",
    "                    #Se guardan en registro\n",
    "                    dataLoader['NS_FTTH'] = file_osp['FTTH']\n",
    "                    dataLoader['OSP'] = file_osp['ID']\n",
    "                    dataLoader['Liberado'] = liberado\n",
    "            \n",
    "            else: \n",
    "                break\n",
    "\n",
    "        #for o map\n",
    "        if(file_osp['ID'] == file_sig['ID']):\n",
    "            \n",
    "            #Se asigna valor de ID en OSP y se guarda pivote en SIGRES\n",
    "            file_osp['ID'] = file_sig['ID']\n",
    "            file_sig['ID'] = pivote\n",
    "\n",
    "            #Se guardan en registro\n",
    "            dataLoader['NS_FTTH'] = file_osp['FTTH']\n",
    "            dataLoader['OSP'] = file_osp['ID']\n",
    "            dataLoader['Liberado'] = liberado\n",
    "            break\n",
    "\n",
    "        else:\n",
    "            break"
   ]
  },
  {
   "cell_type": "code",
   "execution_count": 144,
   "metadata": {},
   "outputs": [
    {
     "data": {
      "text/html": [
       "<div>\n",
       "<style scoped>\n",
       "    .dataframe tbody tr th:only-of-type {\n",
       "        vertical-align: middle;\n",
       "    }\n",
       "\n",
       "    .dataframe tbody tr th {\n",
       "        vertical-align: top;\n",
       "    }\n",
       "\n",
       "    .dataframe thead th {\n",
       "        text-align: right;\n",
       "    }\n",
       "</style>\n",
       "<table border=\"1\" class=\"dataframe\">\n",
       "  <thead>\n",
       "    <tr style=\"text-align: right;\">\n",
       "      <th></th>\n",
       "      <th>NS_FTTH</th>\n",
       "      <th>OSP</th>\n",
       "      <th>Liberado</th>\n",
       "    </tr>\n",
       "  </thead>\n",
       "  <tbody>\n",
       "  </tbody>\n",
       "</table>\n",
       "</div>"
      ],
      "text/plain": [
       "Empty DataFrame\n",
       "Columns: [NS_FTTH, OSP, Liberado]\n",
       "Index: []"
      ]
     },
     "execution_count": 144,
     "metadata": {},
     "output_type": "execute_result"
    }
   ],
   "source": [
    "dataLoader"
   ]
  },
  {
   "cell_type": "code",
   "execution_count": 123,
   "metadata": {},
   "outputs": [],
   "source": [
    "#Crea archivo DataLoader\n",
    "dataLoader.to_csv('DataLoader.csv', index=False)"
   ]
  }
 ],
 "metadata": {
  "kernelspec": {
   "display_name": "Python 3.9.12 ('base')",
   "language": "python",
   "name": "python3"
  },
  "language_info": {
   "codemirror_mode": {
    "name": "ipython",
    "version": 3
   },
   "file_extension": ".py",
   "mimetype": "text/x-python",
   "name": "python",
   "nbconvert_exporter": "python",
   "pygments_lexer": "ipython3",
   "version": "3.9.12"
  },
  "orig_nbformat": 4,
  "vscode": {
   "interpreter": {
    "hash": "d928c9380d2d7535665705a50d87447ecd761547b2065cc2c2098903ea6fa649"
   }
  }
 },
 "nbformat": 4,
 "nbformat_minor": 2
}
