{
 "cells": [
  {
   "cell_type": "code",
   "execution_count": 1,
   "metadata": {},
   "outputs": [],
   "source": [
    "#Version 15-11-22\n",
    "#probar dejar en archivo o lista\n",
    "#buscar mejor manera romper ciclo\n",
    "\n",
    "\n",
    "import pandas as pd\n",
    "import numpy as np\n",
    "from numpy import dtype\n"
   ]
  },
  {
   "cell_type": "code",
   "execution_count": 2,
   "metadata": {},
   "outputs": [],
   "source": [
    "OSP_FILE = 'OSP 0211.csv'\n",
    "SIG_FILE = 'SIG 0211.csv'\n",
    "\n",
    "OSP_FILE_1a8 = 'OSPSIG 1a8.csv'\n",
    "SIG_FILE_1a8 = 'OSPSIG 1a8.csv'\n",
    "\n",
    "OSP_FILE_711 = 'OSPSIG 0711.csv'\n",
    "SIG_FILE_711 = 'OSPSIG 0711.csv'"
   ]
  },
  {
   "cell_type": "code",
   "execution_count": 3,
   "metadata": {},
   "outputs": [],
   "source": [
    "file_osp = pd.read_csv(OSP_FILE, delimiter=';', encoding='UTF-8', low_memory=False)\n",
    "file_sig = pd.read_csv(SIG_FILE, delimiter=';', encoding='UTF-8', low_memory=False)\n",
    "\n",
    "file_osp_1a8 = pd.read_csv(OSP_FILE_1a8, delimiter=';', encoding='UTF-8', low_memory=False)\n",
    "file_sig_1a8 = pd.read_csv(SIG_FILE_1a8, delimiter=';', encoding='UTF-8', low_memory=False)\n",
    "\n",
    "file_osp_711 = pd.read_csv(OSP_FILE_711, delimiter=';', encoding='UTF-8', low_memory=False)\n",
    "file_sig_711 = pd.read_csv(SIG_FILE_711, delimiter=';', encoding='UTF-8', low_memory=False)"
   ]
  },
  {
   "cell_type": "code",
   "execution_count": 4,
   "metadata": {},
   "outputs": [],
   "source": [
    "array_osp = file_osp[['FTTH', 'ID']]\n",
    "array_sig = file_sig[['FTTH', 'ID']]\n",
    "\n",
    "array_osp_1a8 = file_osp_1a8[['FTTH', 'OSP']]\n",
    "array_sig_1a8 = file_sig_1a8[['FTTH', 'SIG']]\n",
    "\n",
    "array_osp_711 = file_osp_711[['FTTH', 'OSP']]\n",
    "array_sig_711 = file_sig_711[['FTTH', 'SIG']]\n",
    "\n"
   ]
  },
  {
   "cell_type": "code",
   "execution_count": 5,
   "metadata": {},
   "outputs": [],
   "source": [
    "#Cambiar NaN por 0\n",
    "array_sig = array_sig.fillna(0)\n",
    "array_osp = array_osp.fillna(0)\n",
    "\n",
    "#Cambiar floats a int\n",
    "array_sig['ID'] = array_sig['ID'].astype('int')\n",
    "array_osp['ID'] = array_osp['ID'].astype('int')"
   ]
  },
  {
   "cell_type": "code",
   "execution_count": 6,
   "metadata": {},
   "outputs": [],
   "source": [
    "p = 0\n",
    "i = 0\n",
    "j = 0\n",
    "o = 0\n",
    "a = 0\n",
    "b = 0"
   ]
  },
  {
   "cell_type": "code",
   "execution_count": 7,
   "metadata": {},
   "outputs": [],
   "source": [
    "listaPivote = np.arange(100, 200)"
   ]
  },
  {
   "cell_type": "code",
   "execution_count": 28,
   "metadata": {},
   "outputs": [],
   "source": [
    "dataLoader = pd.DataFrame(columns=['FTTH', 'ID'])\n",
    "fila = pd.DataFrame()"
   ]
  },
  {
   "cell_type": "code",
   "execution_count": 29,
   "metadata": {},
   "outputs": [
    {
     "data": {
      "text/html": [
       "<div>\n",
       "<style scoped>\n",
       "    .dataframe tbody tr th:only-of-type {\n",
       "        vertical-align: middle;\n",
       "    }\n",
       "\n",
       "    .dataframe tbody tr th {\n",
       "        vertical-align: top;\n",
       "    }\n",
       "\n",
       "    .dataframe thead th {\n",
       "        text-align: right;\n",
       "    }\n",
       "</style>\n",
       "<table border=\"1\" class=\"dataframe\">\n",
       "  <thead>\n",
       "    <tr style=\"text-align: right;\">\n",
       "      <th></th>\n",
       "      <th>FTTH</th>\n",
       "      <th>ID</th>\n",
       "    </tr>\n",
       "  </thead>\n",
       "  <tbody>\n",
       "  </tbody>\n",
       "</table>\n",
       "</div>"
      ],
      "text/plain": [
       "Empty DataFrame\n",
       "Columns: [FTTH, ID]\n",
       "Index: []"
      ]
     },
     "execution_count": 29,
     "metadata": {},
     "output_type": "execute_result"
    }
   ],
   "source": [
    "dataLoader"
   ]
  },
  {
   "cell_type": "code",
   "execution_count": 8,
   "metadata": {},
   "outputs": [],
   "source": [
    "def valorIgual(array_osp, array_sig):\n",
    "    if(sig['ID'] == osp['ID']):\n",
    "        print('Valores correctos entre OSP y SIGRES | FTTH: ', sig['FTTH'], '| ID: ', sig['ID'])"
   ]
  },
  {
   "cell_type": "code",
   "execution_count": 9,
   "metadata": {},
   "outputs": [],
   "source": [
    "def valorVacio(array_osp, array_sig):\n",
    "    if(sig['ID'] == '#N/A' or sig['ID'] == 'NaN' or sig['ID'] == '' or sig['ID'] == 0):\n",
    "        return print('Valor ID vacio en FTTH: ', sig['FTTH'], '| ID #', osp['ID'],' se mantiene')"
   ]
  },
  {
   "cell_type": "code",
   "execution_count": 26,
   "metadata": {},
   "outputs": [],
   "source": [
    "def valorReemplazo(ftth_osp, ftth_sig, valor_sig, valor_osp, dataLoader):\n",
    "    print('Estoy en valor blanco')\n",
    "    fila = pd.DataFrame({\"FTTH\":[ftth_osp],\n",
    "                        \"ID\":[valor_sig]})\n",
    "    dataLoader = pd.concat([dataLoader, fila])\n",
    "    # dataLoader.append(dataLoader, fila)\n",
    "    print('Valor de dataloader = ', dataLoader)\n",
    "    print('Valor ID OSP ', valor_osp,  ' en FTTH: ', ftth_osp, 'cambiado por ID SIGRES ', valor_sig)\n",
    "    return dataLoader"
   ]
  },
  {
   "cell_type": "code",
   "execution_count": 27,
   "metadata": {},
   "outputs": [],
   "source": [
    "def valorPivoteo(ftth_osp, ftth_sig, valor_sig, valor_osp, pivote, dataLoader):\n",
    "    print('Estoy en valor azul')\n",
    "    # for a, sig in array_sig.iterrows():\n",
    "    #     for b, sig in array_osp.iterrows():\n",
    "    fila = pd.DataFrame({\"FTTH\": [ftth_osp], \n",
    "                        \"ID\": pivote})\n",
    "    dataLoader = pd.concat([dataLoader, fila])\n",
    "    # dataLoader.append(dataLoader, fila)\n",
    "    print('Valor de dataloader = ', dataLoader)\n",
    "    print('Valor ID OSP ', valor_osp,  ' en FTTH: ', ftth_osp, 'cambiado por valor ', pivote)\n",
    "    return dataLoader"
   ]
  },
  {
   "cell_type": "code",
   "execution_count": 12,
   "metadata": {},
   "outputs": [],
   "source": [
    "def pivotearSIG(ftth_osp, ftth_sig, valor_sig, valor_osp):\n",
    "    if(valor_osp >= 100 and valor_osp <= 200):\n",
    "        fila = pd.DataFrame({'FTTH': [ftth_osp], 'ID': [valor_sig]})\n",
    "        dataLoader = pd.concat(dataLoader, fila)\n",
    "        print('Valor ID OSP ', valor_osp,  ' en FTTH: ', ftth_osp, ' pivoteado por valor ', valor_sig)\n",
    "        return dataLoader"
   ]
  },
  {
   "cell_type": "code",
   "execution_count": 13,
   "metadata": {},
   "outputs": [],
   "source": [
    "#Version nueva\n",
    "\n",
    "def buscarID(valor_sig, array_osp):\n",
    "    if(valor_sig in array_osp['ID']):\n",
    "        return True\n",
    "    else:\n",
    "        return False"
   ]
  },
  {
   "cell_type": "code",
   "execution_count": 25,
   "metadata": {},
   "outputs": [
    {
     "name": "stdout",
     "output_type": "stream",
     "text": [
      "for i =  0\n",
      "for j =  0\n",
      "----------------------------------------------------------------------------------------------------------------------------------------------------\n",
      "Fila # 0\n",
      "SIG | FTTH:  1000009228  ID:  0\n",
      "OSP | FTTH:  1000009228  ID:  1\n",
      "Valor ID vacio en FTTH:  1000009228 | ID # 1  se mantiene\n",
      "None\n",
      "for i =  1\n",
      "for j =  0\n",
      "for j =  1\n",
      "----------------------------------------------------------------------------------------------------------------------------------------------------\n",
      "Fila # 1\n",
      "SIG | FTTH:  1000014406  ID:  11\n",
      "OSP | FTTH:  1000014406  ID:  2\n",
      "Estoy en valor azul\n"
     ]
    },
    {
     "name": "stderr",
     "output_type": "stream",
     "text": [
      "C:\\Users\\mabar\\AppData\\Local\\Temp\\ipykernel_8300\\1153829997.py:8: FutureWarning: The frame.append method is deprecated and will be removed from pandas in a future version. Use pandas.concat instead.\n",
      "  dataLoader.append(dataLoader, fila)\n"
     ]
    },
    {
     "ename": "ValueError",
     "evalue": "The truth value of a DataFrame is ambiguous. Use a.empty, a.bool(), a.item(), a.any() or a.all().",
     "output_type": "error",
     "traceback": [
      "\u001b[1;31m---------------------------------------------------------------------------\u001b[0m",
      "\u001b[1;31mValueError\u001b[0m                                Traceback (most recent call last)",
      "\u001b[1;32mc:\\Users\\mabar\\anaconda3\\envs\\onnet\\notebook\\HomologacionOSPSIGRES.ipynb Celda 15\u001b[0m in \u001b[0;36m<cell line: 3>\u001b[1;34m()\u001b[0m\n\u001b[0;32m     <a href='vscode-notebook-cell:/c%3A/Users/mabar/anaconda3/envs/onnet/notebook/HomologacionOSPSIGRES.ipynb#X45sZmlsZQ%3D%3D?line=35'>36</a>\u001b[0m     \u001b[39mbreak\u001b[39;00m\n\u001b[0;32m     <a href='vscode-notebook-cell:/c%3A/Users/mabar/anaconda3/envs/onnet/notebook/HomologacionOSPSIGRES.ipynb#X45sZmlsZQ%3D%3D?line=36'>37</a>\u001b[0m \u001b[39melif\u001b[39;00m(buscarIDOSP \u001b[39m==\u001b[39m \u001b[39mTrue\u001b[39;00m):\n\u001b[1;32m---> <a href='vscode-notebook-cell:/c%3A/Users/mabar/anaconda3/envs/onnet/notebook/HomologacionOSPSIGRES.ipynb#X45sZmlsZQ%3D%3D?line=37'>38</a>\u001b[0m     y \u001b[39m=\u001b[39m valorPivoteo(ftth_osp, ftth_sig, valor_sig, valor_osp, pivote, dataLoader)\n\u001b[0;32m     <a href='vscode-notebook-cell:/c%3A/Users/mabar/anaconda3/envs/onnet/notebook/HomologacionOSPSIGRES.ipynb#X45sZmlsZQ%3D%3D?line=38'>39</a>\u001b[0m     dataLoader \u001b[39m=\u001b[39m pd\u001b[39m.\u001b[39mconcat([dataLoader, y], ignore_index\u001b[39m=\u001b[39m\u001b[39mTrue\u001b[39;00m)\n\u001b[0;32m     <a href='vscode-notebook-cell:/c%3A/Users/mabar/anaconda3/envs/onnet/notebook/HomologacionOSPSIGRES.ipynb#X45sZmlsZQ%3D%3D?line=39'>40</a>\u001b[0m     pivote\u001b[39m+\u001b[39m\u001b[39m=\u001b[39m\u001b[39m1\u001b[39m\n",
      "\u001b[1;32mc:\\Users\\mabar\\anaconda3\\envs\\onnet\\notebook\\HomologacionOSPSIGRES.ipynb Celda 15\u001b[0m in \u001b[0;36mvalorPivoteo\u001b[1;34m(ftth_osp, ftth_sig, valor_sig, valor_osp, pivote, dataLoader)\u001b[0m\n\u001b[0;32m      <a href='vscode-notebook-cell:/c%3A/Users/mabar/anaconda3/envs/onnet/notebook/HomologacionOSPSIGRES.ipynb#X45sZmlsZQ%3D%3D?line=4'>5</a>\u001b[0m fila \u001b[39m=\u001b[39m pd\u001b[39m.\u001b[39mDataFrame({\u001b[39m\"\u001b[39m\u001b[39mFTTH\u001b[39m\u001b[39m\"\u001b[39m: [ftth_osp], \n\u001b[0;32m      <a href='vscode-notebook-cell:/c%3A/Users/mabar/anaconda3/envs/onnet/notebook/HomologacionOSPSIGRES.ipynb#X45sZmlsZQ%3D%3D?line=5'>6</a>\u001b[0m                     \u001b[39m\"\u001b[39m\u001b[39mID\u001b[39m\u001b[39m\"\u001b[39m: pivote})\n\u001b[0;32m      <a href='vscode-notebook-cell:/c%3A/Users/mabar/anaconda3/envs/onnet/notebook/HomologacionOSPSIGRES.ipynb#X45sZmlsZQ%3D%3D?line=6'>7</a>\u001b[0m \u001b[39m# dataLoader = pd.concat([dataLoader, fila])\u001b[39;00m\n\u001b[1;32m----> <a href='vscode-notebook-cell:/c%3A/Users/mabar/anaconda3/envs/onnet/notebook/HomologacionOSPSIGRES.ipynb#X45sZmlsZQ%3D%3D?line=7'>8</a>\u001b[0m dataLoader\u001b[39m.\u001b[39;49mappend(dataLoader, fila)\n\u001b[0;32m      <a href='vscode-notebook-cell:/c%3A/Users/mabar/anaconda3/envs/onnet/notebook/HomologacionOSPSIGRES.ipynb#X45sZmlsZQ%3D%3D?line=8'>9</a>\u001b[0m \u001b[39mprint\u001b[39m(\u001b[39m'\u001b[39m\u001b[39mValor de dataloader = \u001b[39m\u001b[39m'\u001b[39m, dataLoader)\n\u001b[0;32m     <a href='vscode-notebook-cell:/c%3A/Users/mabar/anaconda3/envs/onnet/notebook/HomologacionOSPSIGRES.ipynb#X45sZmlsZQ%3D%3D?line=9'>10</a>\u001b[0m \u001b[39mprint\u001b[39m(\u001b[39m'\u001b[39m\u001b[39mValor ID OSP \u001b[39m\u001b[39m'\u001b[39m, valor_osp,  \u001b[39m'\u001b[39m\u001b[39m en FTTH: \u001b[39m\u001b[39m'\u001b[39m, ftth_osp, \u001b[39m'\u001b[39m\u001b[39mcambiado por valor \u001b[39m\u001b[39m'\u001b[39m, pivote)\n",
      "File \u001b[1;32mc:\\Users\\mabar\\anaconda3\\envs\\onnet\\lib\\site-packages\\pandas\\core\\frame.py:9048\u001b[0m, in \u001b[0;36mDataFrame.append\u001b[1;34m(self, other, ignore_index, verify_integrity, sort)\u001b[0m\n\u001b[0;32m   8945\u001b[0m \u001b[39m\"\"\"\u001b[39;00m\n\u001b[0;32m   8946\u001b[0m \u001b[39mAppend rows of `other` to the end of caller, returning a new object.\u001b[39;00m\n\u001b[0;32m   8947\u001b[0m \n\u001b[1;32m   (...)\u001b[0m\n\u001b[0;32m   9038\u001b[0m \u001b[39m4  4\u001b[39;00m\n\u001b[0;32m   9039\u001b[0m \u001b[39m\"\"\"\u001b[39;00m\n\u001b[0;32m   9040\u001b[0m warnings\u001b[39m.\u001b[39mwarn(\n\u001b[0;32m   9041\u001b[0m     \u001b[39m\"\u001b[39m\u001b[39mThe frame.append method is deprecated \u001b[39m\u001b[39m\"\u001b[39m\n\u001b[0;32m   9042\u001b[0m     \u001b[39m\"\u001b[39m\u001b[39mand will be removed from pandas in a future version. \u001b[39m\u001b[39m\"\u001b[39m\n\u001b[1;32m   (...)\u001b[0m\n\u001b[0;32m   9045\u001b[0m     stacklevel\u001b[39m=\u001b[39mfind_stack_level(),\n\u001b[0;32m   9046\u001b[0m )\n\u001b[1;32m-> 9048\u001b[0m \u001b[39mreturn\u001b[39;00m \u001b[39mself\u001b[39;49m\u001b[39m.\u001b[39;49m_append(other, ignore_index, verify_integrity, sort)\n",
      "File \u001b[1;32mc:\\Users\\mabar\\anaconda3\\envs\\onnet\\lib\\site-packages\\pandas\\core\\frame.py:9091\u001b[0m, in \u001b[0;36mDataFrame._append\u001b[1;34m(self, other, ignore_index, verify_integrity, sort)\u001b[0m\n\u001b[0;32m   9088\u001b[0m \u001b[39melse\u001b[39;00m:\n\u001b[0;32m   9089\u001b[0m     to_concat \u001b[39m=\u001b[39m [\u001b[39mself\u001b[39m, other]\n\u001b[1;32m-> 9091\u001b[0m result \u001b[39m=\u001b[39m concat(\n\u001b[0;32m   9092\u001b[0m     to_concat,\n\u001b[0;32m   9093\u001b[0m     ignore_index\u001b[39m=\u001b[39;49mignore_index,\n\u001b[0;32m   9094\u001b[0m     verify_integrity\u001b[39m=\u001b[39;49mverify_integrity,\n\u001b[0;32m   9095\u001b[0m     sort\u001b[39m=\u001b[39;49msort,\n\u001b[0;32m   9096\u001b[0m )\n\u001b[0;32m   9097\u001b[0m \u001b[39mif\u001b[39;00m (\n\u001b[0;32m   9098\u001b[0m     combined_columns \u001b[39mis\u001b[39;00m \u001b[39mnot\u001b[39;00m \u001b[39mNone\u001b[39;00m\n\u001b[0;32m   9099\u001b[0m     \u001b[39mand\u001b[39;00m \u001b[39mnot\u001b[39;00m sort\n\u001b[1;32m   (...)\u001b[0m\n\u001b[0;32m   9104\u001b[0m     \u001b[39m# combined_columns.equals check is necessary for preserving dtype\u001b[39;00m\n\u001b[0;32m   9105\u001b[0m     \u001b[39m#  in test_crosstab_normalize\u001b[39;00m\n\u001b[0;32m   9106\u001b[0m     result \u001b[39m=\u001b[39m result\u001b[39m.\u001b[39mreindex(combined_columns, axis\u001b[39m=\u001b[39m\u001b[39m1\u001b[39m)\n",
      "File \u001b[1;32mc:\\Users\\mabar\\anaconda3\\envs\\onnet\\lib\\site-packages\\pandas\\util\\_decorators.py:311\u001b[0m, in \u001b[0;36mdeprecate_nonkeyword_arguments.<locals>.decorate.<locals>.wrapper\u001b[1;34m(*args, **kwargs)\u001b[0m\n\u001b[0;32m    305\u001b[0m \u001b[39mif\u001b[39;00m \u001b[39mlen\u001b[39m(args) \u001b[39m>\u001b[39m num_allow_args:\n\u001b[0;32m    306\u001b[0m     warnings\u001b[39m.\u001b[39mwarn(\n\u001b[0;32m    307\u001b[0m         msg\u001b[39m.\u001b[39mformat(arguments\u001b[39m=\u001b[39marguments),\n\u001b[0;32m    308\u001b[0m         \u001b[39mFutureWarning\u001b[39;00m,\n\u001b[0;32m    309\u001b[0m         stacklevel\u001b[39m=\u001b[39mstacklevel,\n\u001b[0;32m    310\u001b[0m     )\n\u001b[1;32m--> 311\u001b[0m \u001b[39mreturn\u001b[39;00m func(\u001b[39m*\u001b[39margs, \u001b[39m*\u001b[39m\u001b[39m*\u001b[39mkwargs)\n",
      "File \u001b[1;32mc:\\Users\\mabar\\anaconda3\\envs\\onnet\\lib\\site-packages\\pandas\\core\\reshape\\concat.py:347\u001b[0m, in \u001b[0;36mconcat\u001b[1;34m(objs, axis, join, ignore_index, keys, levels, names, verify_integrity, sort, copy)\u001b[0m\n\u001b[0;32m    143\u001b[0m \u001b[39m@deprecate_nonkeyword_arguments\u001b[39m(version\u001b[39m=\u001b[39m\u001b[39mNone\u001b[39;00m, allowed_args\u001b[39m=\u001b[39m[\u001b[39m\"\u001b[39m\u001b[39mobjs\u001b[39m\u001b[39m\"\u001b[39m])\n\u001b[0;32m    144\u001b[0m \u001b[39mdef\u001b[39;00m \u001b[39mconcat\u001b[39m(\n\u001b[0;32m    145\u001b[0m     objs: Iterable[NDFrame] \u001b[39m|\u001b[39m Mapping[Hashable, NDFrame],\n\u001b[1;32m   (...)\u001b[0m\n\u001b[0;32m    154\u001b[0m     copy: \u001b[39mbool\u001b[39m \u001b[39m=\u001b[39m \u001b[39mTrue\u001b[39;00m,\n\u001b[0;32m    155\u001b[0m ) \u001b[39m-\u001b[39m\u001b[39m>\u001b[39m DataFrame \u001b[39m|\u001b[39m Series:\n\u001b[0;32m    156\u001b[0m     \u001b[39m\"\"\"\u001b[39;00m\n\u001b[0;32m    157\u001b[0m \u001b[39m    Concatenate pandas objects along a particular axis with optional set logic\u001b[39;00m\n\u001b[0;32m    158\u001b[0m \u001b[39m    along the other axes.\u001b[39;00m\n\u001b[1;32m   (...)\u001b[0m\n\u001b[0;32m    345\u001b[0m \u001b[39m    ValueError: Indexes have overlapping values: ['a']\u001b[39;00m\n\u001b[0;32m    346\u001b[0m \u001b[39m    \"\"\"\u001b[39;00m\n\u001b[1;32m--> 347\u001b[0m     op \u001b[39m=\u001b[39m _Concatenator(\n\u001b[0;32m    348\u001b[0m         objs,\n\u001b[0;32m    349\u001b[0m         axis\u001b[39m=\u001b[39;49maxis,\n\u001b[0;32m    350\u001b[0m         ignore_index\u001b[39m=\u001b[39;49mignore_index,\n\u001b[0;32m    351\u001b[0m         join\u001b[39m=\u001b[39;49mjoin,\n\u001b[0;32m    352\u001b[0m         keys\u001b[39m=\u001b[39;49mkeys,\n\u001b[0;32m    353\u001b[0m         levels\u001b[39m=\u001b[39;49mlevels,\n\u001b[0;32m    354\u001b[0m         names\u001b[39m=\u001b[39;49mnames,\n\u001b[0;32m    355\u001b[0m         verify_integrity\u001b[39m=\u001b[39;49mverify_integrity,\n\u001b[0;32m    356\u001b[0m         copy\u001b[39m=\u001b[39;49mcopy,\n\u001b[0;32m    357\u001b[0m         sort\u001b[39m=\u001b[39;49msort,\n\u001b[0;32m    358\u001b[0m     )\n\u001b[0;32m    360\u001b[0m     \u001b[39mreturn\u001b[39;00m op\u001b[39m.\u001b[39mget_result()\n",
      "File \u001b[1;32mc:\\Users\\mabar\\anaconda3\\envs\\onnet\\lib\\site-packages\\pandas\\core\\reshape\\concat.py:542\u001b[0m, in \u001b[0;36m_Concatenator.__init__\u001b[1;34m(self, objs, axis, join, keys, levels, names, ignore_index, verify_integrity, copy, sort)\u001b[0m\n\u001b[0;32m    539\u001b[0m \u001b[39mself\u001b[39m\u001b[39m.\u001b[39mverify_integrity \u001b[39m=\u001b[39m verify_integrity\n\u001b[0;32m    540\u001b[0m \u001b[39mself\u001b[39m\u001b[39m.\u001b[39mcopy \u001b[39m=\u001b[39m copy\n\u001b[1;32m--> 542\u001b[0m \u001b[39mself\u001b[39m\u001b[39m.\u001b[39mnew_axes \u001b[39m=\u001b[39m \u001b[39mself\u001b[39;49m\u001b[39m.\u001b[39;49m_get_new_axes()\n",
      "File \u001b[1;32mc:\\Users\\mabar\\anaconda3\\envs\\onnet\\lib\\site-packages\\pandas\\core\\reshape\\concat.py:612\u001b[0m, in \u001b[0;36m_Concatenator._get_new_axes\u001b[1;34m(self)\u001b[0m\n\u001b[0;32m    610\u001b[0m \u001b[39mdef\u001b[39;00m \u001b[39m_get_new_axes\u001b[39m(\u001b[39mself\u001b[39m) \u001b[39m-\u001b[39m\u001b[39m>\u001b[39m \u001b[39mlist\u001b[39m[Index]:\n\u001b[0;32m    611\u001b[0m     ndim \u001b[39m=\u001b[39m \u001b[39mself\u001b[39m\u001b[39m.\u001b[39m_get_result_dim()\n\u001b[1;32m--> 612\u001b[0m     \u001b[39mreturn\u001b[39;00m [\n\u001b[0;32m    613\u001b[0m         \u001b[39mself\u001b[39m\u001b[39m.\u001b[39m_get_concat_axis \u001b[39mif\u001b[39;00m i \u001b[39m==\u001b[39m \u001b[39mself\u001b[39m\u001b[39m.\u001b[39mbm_axis \u001b[39melse\u001b[39;00m \u001b[39mself\u001b[39m\u001b[39m.\u001b[39m_get_comb_axis(i)\n\u001b[0;32m    614\u001b[0m         \u001b[39mfor\u001b[39;00m i \u001b[39min\u001b[39;00m \u001b[39mrange\u001b[39m(ndim)\n\u001b[0;32m    615\u001b[0m     ]\n",
      "File \u001b[1;32mc:\\Users\\mabar\\anaconda3\\envs\\onnet\\lib\\site-packages\\pandas\\core\\reshape\\concat.py:613\u001b[0m, in \u001b[0;36m<listcomp>\u001b[1;34m(.0)\u001b[0m\n\u001b[0;32m    610\u001b[0m \u001b[39mdef\u001b[39;00m \u001b[39m_get_new_axes\u001b[39m(\u001b[39mself\u001b[39m) \u001b[39m-\u001b[39m\u001b[39m>\u001b[39m \u001b[39mlist\u001b[39m[Index]:\n\u001b[0;32m    611\u001b[0m     ndim \u001b[39m=\u001b[39m \u001b[39mself\u001b[39m\u001b[39m.\u001b[39m_get_result_dim()\n\u001b[0;32m    612\u001b[0m     \u001b[39mreturn\u001b[39;00m [\n\u001b[1;32m--> 613\u001b[0m         \u001b[39mself\u001b[39;49m\u001b[39m.\u001b[39;49m_get_concat_axis \u001b[39mif\u001b[39;00m i \u001b[39m==\u001b[39m \u001b[39mself\u001b[39m\u001b[39m.\u001b[39mbm_axis \u001b[39melse\u001b[39;00m \u001b[39mself\u001b[39m\u001b[39m.\u001b[39m_get_comb_axis(i)\n\u001b[0;32m    614\u001b[0m         \u001b[39mfor\u001b[39;00m i \u001b[39min\u001b[39;00m \u001b[39mrange\u001b[39m(ndim)\n\u001b[0;32m    615\u001b[0m     ]\n",
      "File \u001b[1;32mc:\\Users\\mabar\\anaconda3\\envs\\onnet\\lib\\site-packages\\pandas\\_libs\\properties.pyx:37\u001b[0m, in \u001b[0;36mpandas._libs.properties.CachedProperty.__get__\u001b[1;34m()\u001b[0m\n",
      "File \u001b[1;32mc:\\Users\\mabar\\anaconda3\\envs\\onnet\\lib\\site-packages\\pandas\\core\\reshape\\concat.py:663\u001b[0m, in \u001b[0;36m_Concatenator._get_concat_axis\u001b[1;34m(self)\u001b[0m\n\u001b[0;32m    660\u001b[0m \u001b[39melse\u001b[39;00m:\n\u001b[0;32m    661\u001b[0m     indexes \u001b[39m=\u001b[39m [x\u001b[39m.\u001b[39maxes[\u001b[39mself\u001b[39m\u001b[39m.\u001b[39maxis] \u001b[39mfor\u001b[39;00m x \u001b[39min\u001b[39;00m \u001b[39mself\u001b[39m\u001b[39m.\u001b[39mobjs]\n\u001b[1;32m--> 663\u001b[0m \u001b[39mif\u001b[39;00m \u001b[39mself\u001b[39m\u001b[39m.\u001b[39mignore_index:\n\u001b[0;32m    664\u001b[0m     idx \u001b[39m=\u001b[39m default_index(\u001b[39msum\u001b[39m(\u001b[39mlen\u001b[39m(i) \u001b[39mfor\u001b[39;00m i \u001b[39min\u001b[39;00m indexes))\n\u001b[0;32m    665\u001b[0m     \u001b[39mreturn\u001b[39;00m idx\n",
      "File \u001b[1;32mc:\\Users\\mabar\\anaconda3\\envs\\onnet\\lib\\site-packages\\pandas\\core\\generic.py:1527\u001b[0m, in \u001b[0;36mNDFrame.__nonzero__\u001b[1;34m(self)\u001b[0m\n\u001b[0;32m   1525\u001b[0m \u001b[39m@final\u001b[39m\n\u001b[0;32m   1526\u001b[0m \u001b[39mdef\u001b[39;00m \u001b[39m__nonzero__\u001b[39m(\u001b[39mself\u001b[39m):\n\u001b[1;32m-> 1527\u001b[0m     \u001b[39mraise\u001b[39;00m \u001b[39mValueError\u001b[39;00m(\n\u001b[0;32m   1528\u001b[0m         \u001b[39mf\u001b[39m\u001b[39m\"\u001b[39m\u001b[39mThe truth value of a \u001b[39m\u001b[39m{\u001b[39;00m\u001b[39mtype\u001b[39m(\u001b[39mself\u001b[39m)\u001b[39m.\u001b[39m\u001b[39m__name__\u001b[39m\u001b[39m}\u001b[39;00m\u001b[39m is ambiguous. \u001b[39m\u001b[39m\"\u001b[39m\n\u001b[0;32m   1529\u001b[0m         \u001b[39m\"\u001b[39m\u001b[39mUse a.empty, a.bool(), a.item(), a.any() or a.all().\u001b[39m\u001b[39m\"\u001b[39m\n\u001b[0;32m   1530\u001b[0m     )\n",
      "\u001b[1;31mValueError\u001b[0m: The truth value of a DataFrame is ambiguous. Use a.empty, a.bool(), a.item(), a.any() or a.all()."
     ]
    }
   ],
   "source": [
    "pivote = 100\n",
    "\n",
    "for i, sig in array_sig.iterrows():\n",
    "    print(\"for i = \", i)\n",
    "    if(i == 21):\n",
    "        break\n",
    "    for j, osp in array_osp.iterrows():\n",
    "        print(\"for j = \", j)\n",
    "        if(j == 21):\n",
    "            break\n",
    "        if(sig['FTTH'] == osp['FTTH']):\n",
    "            print('----------------------------------------------------------------------------------------------------------------------------------------------------')\n",
    "            print('Fila #', i)\n",
    "            print('SIG | FTTH: ', sig['FTTH'], ' ID: ', sig['ID'])\n",
    "            print('OSP | FTTH: ', osp['FTTH'], ' ID: ', osp['ID'])\n",
    "\n",
    "            if(sig['ID'] == osp['ID']):\n",
    "                valorIgual(array_sig, array_osp)\n",
    "                break\n",
    "\n",
    "            elif(sig['ID'] == '#N/A' or sig['ID'] == 'NaN' or sig['ID'] == '' or sig['ID'] == 'nan' or sig['ID'] == 0):\n",
    "                vc = valorVacio(array_sig, array_osp) \n",
    "                print(vc)\n",
    "                break\n",
    "\n",
    "            else:\n",
    "                valor_sig = sig['ID']\n",
    "                valor_osp = osp['ID']\n",
    "                ftth_sig = sig['FTTH']\n",
    "                ftth_osp = osp['FTTH']\n",
    "                buscarIDOSP = buscarID(valor_sig, array_osp)\n",
    "                \n",
    "                if(buscarIDOSP == False):\n",
    "                    x = valorReemplazo(ftth_osp, ftth_sig, valor_sig, valor_osp, dataLoader)\n",
    "                    dataLoader = pd.concat([dataLoader, x], ignore_index=True)\n",
    "                    break\n",
    "                elif(buscarIDOSP == True):\n",
    "                    y = valorPivoteo(ftth_osp, ftth_sig, valor_sig, valor_osp, pivote, dataLoader)\n",
    "                    dataLoader = pd.concat([dataLoader, y], ignore_index=True)\n",
    "                    pivote+=1\n",
    "                    break\n",
    "        # else: \n",
    "        #     break\n",
    "    \n",
    "\n",
    "pivotearSIG(ftth_osp, ftth_sig, valor_sig, valor_osp)"
   ]
  },
  {
   "cell_type": "code",
   "execution_count": 18,
   "metadata": {},
   "outputs": [
    {
     "data": {
      "text/html": [
       "<div>\n",
       "<style scoped>\n",
       "    .dataframe tbody tr th:only-of-type {\n",
       "        vertical-align: middle;\n",
       "    }\n",
       "\n",
       "    .dataframe tbody tr th {\n",
       "        vertical-align: top;\n",
       "    }\n",
       "\n",
       "    .dataframe thead th {\n",
       "        text-align: right;\n",
       "    }\n",
       "</style>\n",
       "<table border=\"1\" class=\"dataframe\">\n",
       "  <thead>\n",
       "    <tr style=\"text-align: right;\">\n",
       "      <th></th>\n",
       "      <th>FTTH</th>\n",
       "      <th>ID</th>\n",
       "    </tr>\n",
       "  </thead>\n",
       "  <tbody>\n",
       "    <tr>\n",
       "      <th>0</th>\n",
       "      <td>1000014406</td>\n",
       "      <td>100</td>\n",
       "    </tr>\n",
       "    <tr>\n",
       "      <th>1</th>\n",
       "      <td>1000014406</td>\n",
       "      <td>100</td>\n",
       "    </tr>\n",
       "    <tr>\n",
       "      <th>2</th>\n",
       "      <td>1000014150</td>\n",
       "      <td>40</td>\n",
       "    </tr>\n",
       "    <tr>\n",
       "      <th>3</th>\n",
       "      <td>1000014406</td>\n",
       "      <td>100</td>\n",
       "    </tr>\n",
       "    <tr>\n",
       "      <th>4</th>\n",
       "      <td>1000014406</td>\n",
       "      <td>100</td>\n",
       "    </tr>\n",
       "    <tr>\n",
       "      <th>...</th>\n",
       "      <td>...</td>\n",
       "      <td>...</td>\n",
       "    </tr>\n",
       "    <tr>\n",
       "      <th>262138</th>\n",
       "      <td>1000014257</td>\n",
       "      <td>20</td>\n",
       "    </tr>\n",
       "    <tr>\n",
       "      <th>262139</th>\n",
       "      <td>1000014264</td>\n",
       "      <td>25</td>\n",
       "    </tr>\n",
       "    <tr>\n",
       "      <th>262140</th>\n",
       "      <td>1000014306</td>\n",
       "      <td>23</td>\n",
       "    </tr>\n",
       "    <tr>\n",
       "      <th>262141</th>\n",
       "      <td>1000014407</td>\n",
       "      <td>105</td>\n",
       "    </tr>\n",
       "    <tr>\n",
       "      <th>262142</th>\n",
       "      <td>1000014431</td>\n",
       "      <td>31</td>\n",
       "    </tr>\n",
       "  </tbody>\n",
       "</table>\n",
       "<p>262143 rows × 2 columns</p>\n",
       "</div>"
      ],
      "text/plain": [
       "              FTTH   ID\n",
       "0       1000014406  100\n",
       "1       1000014406  100\n",
       "2       1000014150   40\n",
       "3       1000014406  100\n",
       "4       1000014406  100\n",
       "...            ...  ...\n",
       "262138  1000014257   20\n",
       "262139  1000014264   25\n",
       "262140  1000014306   23\n",
       "262141  1000014407  105\n",
       "262142  1000014431   31\n",
       "\n",
       "[262143 rows x 2 columns]"
      ]
     },
     "execution_count": 18,
     "metadata": {},
     "output_type": "execute_result"
    }
   ],
   "source": [
    "dataLoader"
   ]
  },
  {
   "cell_type": "code",
   "execution_count": null,
   "metadata": {},
   "outputs": [],
   "source": [
    "dataLoader.to_csv('dataloader.csv', sep=';', encoding='utf-8')"
   ]
  }
 ],
 "metadata": {
  "kernelspec": {
   "display_name": "Python 3.10.4 ('onnet')",
   "language": "python",
   "name": "python3"
  },
  "language_info": {
   "codemirror_mode": {
    "name": "ipython",
    "version": 3
   },
   "file_extension": ".py",
   "mimetype": "text/x-python",
   "name": "python",
   "nbconvert_exporter": "python",
   "pygments_lexer": "ipython3",
   "version": "3.10.4"
  },
  "orig_nbformat": 4,
  "vscode": {
   "interpreter": {
    "hash": "7197f6a0522c581cf88155eca1c8fa87f355da10acd94fa7b15d5ace4298ca63"
   }
  }
 },
 "nbformat": 4,
 "nbformat_minor": 2
}
