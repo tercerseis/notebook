{
 "cells": [
  {
   "cell_type": "code",
   "execution_count": null,
   "metadata": {},
   "outputs": [],
   "source": [
    "#probar dejar en archivo o lista\n",
    "#buscar mejor manera romper ciclo\n",
    "\n",
    "\n",
    "import pandas as pd\n",
    "import numpy as np\n",
    "from numpy import dtype\n"
   ]
  },
  {
   "cell_type": "code",
   "execution_count": null,
   "metadata": {},
   "outputs": [],
   "source": [
    "OSP_FILE = './CSVs/OSP 0211.csv'\n",
    "SIG_FILE = './CSVs/SIG 0211.csv'\n",
    "\n",
    "OSP_FILE_1a8 = './CSVs/OSPSIG 1a8.csv'\n",
    "SIG_FILE_1a8 = './CSVs/OSPSIG 1a8.csv'\n",
    "\n",
    "OSP_FILE_711 = './CSVs/OSPSIG 0711.csv'\n",
    "SIG_FILE_711 = './CSVs/OSPSIG 0711.csv'"
   ]
  },
  {
   "cell_type": "code",
   "execution_count": null,
   "metadata": {},
   "outputs": [],
   "source": [
    "file_osp = pd.read_csv(OSP_FILE, delimiter=';', encoding='UTF-8', low_memory=False)\n",
    "file_sig = pd.read_csv(SIG_FILE, delimiter=';', encoding='UTF-8', low_memory=False)\n",
    "\n",
    "file_osp_1a8 = pd.read_csv(OSP_FILE_1a8, delimiter=';', encoding='UTF-8', low_memory=False)\n",
    "file_sig_1a8 = pd.read_csv(SIG_FILE_1a8, delimiter=';', encoding='UTF-8', low_memory=False)\n",
    "\n",
    "file_osp_711 = pd.read_csv(OSP_FILE_711, delimiter=';', encoding='UTF-8', low_memory=False)\n",
    "file_sig_711 = pd.read_csv(SIG_FILE_711, delimiter=';', encoding='UTF-8', low_memory=False)"
   ]
  },
  {
   "cell_type": "code",
   "execution_count": null,
   "metadata": {},
   "outputs": [],
   "source": [
    "array_osp = file_osp[['FTTH', 'ID']]\n",
    "array_sig = file_sig[['FTTH', 'ID']]\n",
    "\n",
    "array_osp_1a8 = file_osp_1a8[['FTTH', 'OSP']]\n",
    "array_sig_1a8 = file_sig_1a8[['FTTH', 'SIG']]\n",
    "\n",
    "array_osp_711 = file_osp_711[['FTTH', 'OSP']]\n",
    "array_sig_711 = file_sig_711[['FTTH', 'SIG']]\n",
    "\n"
   ]
  },
  {
   "cell_type": "code",
   "execution_count": null,
   "metadata": {},
   "outputs": [],
   "source": [
    "#Cambiar NaN por 0\n",
    "array_sig = array_sig.fillna(0)\n",
    "array_osp = array_osp.fillna(0)\n",
    "\n",
    "#Cambiar floats a int\n",
    "array_sig['ID'] = array_sig['ID'].astype('int')\n",
    "array_osp['ID'] = array_osp['ID'].astype('int')"
   ]
  },
  {
   "cell_type": "code",
   "execution_count": null,
   "metadata": {},
   "outputs": [],
   "source": [
    "p = 0\n",
    "i = 0\n",
    "j = 0\n",
    "o = 0\n",
    "a = 0\n",
    "b = 0"
   ]
  },
  {
   "cell_type": "code",
   "execution_count": null,
   "metadata": {},
   "outputs": [],
   "source": [
    "listaPivote = np.arange(100, 200)"
   ]
  },
  {
   "cell_type": "code",
   "execution_count": null,
   "metadata": {},
   "outputs": [],
   "source": [
    "dataLoader = pd.DataFrame(columns=['FTTH', 'ID'])\n",
    "fila = pd.DataFrame()"
   ]
  },
  {
   "cell_type": "code",
   "execution_count": null,
   "metadata": {},
   "outputs": [],
   "source": [
    "dataLoader"
   ]
  },
  {
   "cell_type": "code",
   "execution_count": null,
   "metadata": {},
   "outputs": [],
   "source": [
    "def valorIgual(array_osp, array_sig):\n",
    "    if(sig['ID'] == osp['ID']):\n",
    "        print('Valores correctos entre OSP y SIGRES | FTTH: ', sig['FTTH'], '| ID: ', sig['ID'])"
   ]
  },
  {
   "cell_type": "code",
   "execution_count": null,
   "metadata": {},
   "outputs": [],
   "source": [
    "def valorVacio(array_osp, array_sig):\n",
    "    if(sig['ID'] == '#N/A' or sig['ID'] == 'NaN' or sig['ID'] == '' or sig['ID'] == 0):\n",
    "        return print('Valor ID vacio en FTTH: ', sig['FTTH'], '| ID #', osp['ID'],' se mantiene')"
   ]
  },
  {
   "cell_type": "code",
   "execution_count": null,
   "metadata": {},
   "outputs": [],
   "source": [
    "def valorReemplazo(ftth_osp, ftth_sig, valor_sig, valor_osp, dataLoader):\n",
    "    print('Estoy en valor blanco')\n",
    "    fila = pd.DataFrame({\"FTTH\":[ftth_osp], \"ID\":[valor_sig]})\n",
    "    dataLoader = pd.concat([dataLoader, fila])\n",
    "    print('Valor de dataloader = ', dataLoader)\n",
    "    print('Valor ID OSP ', valor_osp,  ' en FTTH: ', ftth_osp, 'cambiado por ID SIGRES ', valor_sig)\n",
    "    return dataLoader"
   ]
  },
  {
   "cell_type": "code",
   "execution_count": null,
   "metadata": {},
   "outputs": [],
   "source": [
    "def valorPivoteo(ftth_osp, ftth_sig, valor_sig, valor_osp, pivote, dataLoader):\n",
    "    print('Estoy en valor azul')\n",
    "    # for a, sig in array_sig.iterrows():\n",
    "    #     for b, sig in array_osp.iterrows():\n",
    "    fila = pd.DataFrame({\"FTTH\": [ftth_osp], \"ID\": pivote})\n",
    "    dataLoader = pd.concat([dataLoader, fila])\n",
    "    print('Valor de dataloader = ', dataLoader)\n",
    "    print('Valor ID OSP ', valor_osp,  ' en FTTH: ', ftth_osp, 'cambiado por valor ', pivote)\n",
    "    return dataLoader"
   ]
  },
  {
   "cell_type": "code",
   "execution_count": null,
   "metadata": {},
   "outputs": [],
   "source": [
    "def pivotearSIG(ftth_osp, ftth_sig, valor_sig, valor_osp):\n",
    "    if(valor_osp >= 100 and valor_osp <= 200):\n",
    "        fila = pd.DataFrame({'FTTH': [ftth_osp], 'ID': [valor_sig]})\n",
    "        dataLoader = pd.concat(dataLoader, fila)\n",
    "        print('Valor ID OSP ', valor_osp,  ' en FTTH: ', ftth_osp, ' pivoteado por valor ', valor_sig)\n",
    "        return dataLoader"
   ]
  },
  {
   "cell_type": "code",
   "execution_count": null,
   "metadata": {},
   "outputs": [],
   "source": [
    "#Version nueva\n",
    "\n",
    "def buscarID(valor_sig, array_osp):\n",
    "    if(valor_sig in array_osp['ID']):\n",
    "        return True\n",
    "    else:\n",
    "        return False"
   ]
  },
  {
   "cell_type": "code",
   "execution_count": null,
   "metadata": {},
   "outputs": [],
   "source": [
    "pivote = 100\n",
    "\n",
    "for i, sig in array_sig.iterrows():\n",
    "    print(\"for i = \", i)\n",
    "    if(i == 21):\n",
    "        break\n",
    "    for j, osp in array_osp.iterrows():\n",
    "        print(\"for j = \", j)\n",
    "        if(j == 21):\n",
    "            break\n",
    "        if(sig['FTTH'] == osp['FTTH']):\n",
    "            print('----------------------------------------------------------------------------------------------------------------------------------------------------')\n",
    "            print('Fila #', i)\n",
    "            print('SIG | FTTH: ', sig['FTTH'], ' ID: ', sig['ID'])\n",
    "            print('OSP | FTTH: ', osp['FTTH'], ' ID: ', osp['ID'])\n",
    "\n",
    "            if(sig['ID'] == osp['ID']):\n",
    "                valorIgual(array_sig, array_osp)\n",
    "                break\n",
    "\n",
    "            elif(sig['ID'] == '#N/A' or sig['ID'] == 'NaN' or sig['ID'] == '' or sig['ID'] == 'nan' or sig['ID'] == 0):\n",
    "                vc = valorVacio(array_sig, array_osp) \n",
    "                print(vc)\n",
    "                break\n",
    "\n",
    "            else:\n",
    "                valor_sig = sig['ID']\n",
    "                valor_osp = osp['ID']\n",
    "                ftth_sig = sig['FTTH']\n",
    "                ftth_osp = osp['FTTH']\n",
    "                buscarIDOSP = buscarID(valor_sig, array_osp)\n",
    "                \n",
    "                if(buscarIDOSP == False):\n",
    "                    x = valorReemplazo(ftth_osp, ftth_sig, valor_sig, valor_osp, dataLoader)\n",
    "                    dataLoader = pd.concat([dataLoader, x], ignore_index=True)\n",
    "                    break\n",
    "                elif(buscarIDOSP == True):\n",
    "                    y = valorPivoteo(ftth_osp, ftth_sig, valor_sig, valor_osp, pivote, dataLoader)\n",
    "                    dataLoader = pd.concat([dataLoader, y], ignore_index=True)\n",
    "                    pivote+=1\n",
    "                    break\n",
    "    else: \n",
    "        break\n",
    "    \n",
    "\n",
    "pivotearSIG(ftth_osp, ftth_sig, valor_sig, valor_osp)"
   ]
  },
  {
   "cell_type": "code",
   "execution_count": null,
   "metadata": {},
   "outputs": [],
   "source": [
    "dataLoader"
   ]
  },
  {
   "cell_type": "code",
   "execution_count": null,
   "metadata": {},
   "outputs": [],
   "source": [
    "dataLoader.to_csv('dataloader.csv', sep=';', encoding='utf-8')"
   ]
  }
 ],
 "metadata": {
  "kernelspec": {
   "display_name": "Python 3.10.4 ('onnet')",
   "language": "python",
   "name": "python3"
  },
  "language_info": {
   "codemirror_mode": {
    "name": "ipython",
    "version": 3
   },
   "file_extension": ".py",
   "mimetype": "text/x-python",
   "name": "python",
   "nbconvert_exporter": "python",
   "pygments_lexer": "ipython3",
   "version": "3.10.4"
  },
  "orig_nbformat": 4,
  "vscode": {
   "interpreter": {
    "hash": "7197f6a0522c581cf88155eca1c8fa87f355da10acd94fa7b15d5ace4298ca63"
   }
  }
 },
 "nbformat": 4,
 "nbformat_minor": 2
}
