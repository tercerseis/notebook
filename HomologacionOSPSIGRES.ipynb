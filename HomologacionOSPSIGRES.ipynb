{
 "cells": [
  {
   "cell_type": "code",
   "execution_count": 95,
   "metadata": {},
   "outputs": [],
   "source": [
    "import pandas as pd\n",
    "import numpy as np\n",
    "from numpy import dtype\n"
   ]
  },
  {
   "cell_type": "code",
   "execution_count": 96,
   "metadata": {},
   "outputs": [],
   "source": [
    "OSP_FILE = 'OSP 0211.csv'\n",
    "SIG_FILE = 'SIG 0211.csv'\n",
    "\n",
    "OSP_FILE_1a8 = 'OSPSIG 1a8.csv'\n",
    "SIG_FILE_1a8 = 'OSPSIG 1a8.csv'\n",
    "\n",
    "OSP_FILE_711 = 'OSPSIG 0711.csv'\n",
    "SIG_FILE_711 = 'OSPSIG 0711.csv'"
   ]
  },
  {
   "cell_type": "code",
   "execution_count": 97,
   "metadata": {},
   "outputs": [],
   "source": [
    "file_osp = pd.read_csv(OSP_FILE, delimiter=';', encoding='UTF-8', low_memory=False)\n",
    "file_sig = pd.read_csv(SIG_FILE, delimiter=';', encoding='UTF-8', low_memory=False)\n",
    "\n",
    "file_osp_1a8 = pd.read_csv(OSP_FILE_1a8, delimiter=';', encoding='UTF-8', low_memory=False)\n",
    "file_sig_1a8 = pd.read_csv(SIG_FILE_1a8, delimiter=';', encoding='UTF-8', low_memory=False)\n",
    "\n",
    "file_osp_711 = pd.read_csv(OSP_FILE_711, delimiter=';', encoding='UTF-8', low_memory=False)\n",
    "file_sig_711 = pd.read_csv(SIG_FILE_711, delimiter=';', encoding='UTF-8', low_memory=False)"
   ]
  },
  {
   "cell_type": "code",
   "execution_count": 98,
   "metadata": {},
   "outputs": [],
   "source": [
    "array_osp = file_osp[['FTTH', 'ID']]\n",
    "array_sig = file_sig[['FTTH', 'ID']]\n",
    "\n",
    "array_osp_1a8 = file_osp_1a8[['FTTH', 'OSP']]\n",
    "array_sig_1a8 = file_sig_1a8[['FTTH', 'SIG']]\n",
    "\n",
    "array_osp_711 = file_osp_711[['FTTH', 'OSP']]\n",
    "array_sig_711 = file_sig_711[['FTTH', 'SIG']]\n",
    "\n"
   ]
  },
  {
   "cell_type": "code",
   "execution_count": 99,
   "metadata": {},
   "outputs": [],
   "source": [
    "#Cambiar NaN por 0\n",
    "array_sig = array_sig.fillna(0)\n",
    "array_osp = array_osp.fillna(0)\n",
    "\n",
    "#Cambiar floats a int\n",
    "array_sig['ID'] = array_sig['ID'].astype('int')\n",
    "array_osp['ID'] = array_osp['ID'].astype('int')\n",
    "\n",
    "dataLoader = pd.DataFrame(columns=['FTTH', 'ID'])"
   ]
  },
  {
   "cell_type": "code",
   "execution_count": 100,
   "metadata": {},
   "outputs": [],
   "source": [
    "p = 0\n",
    "i = 0\n",
    "j = 0\n",
    "o = 0\n",
    "a = 0\n",
    "b = 0"
   ]
  },
  {
   "cell_type": "code",
   "execution_count": 101,
   "metadata": {},
   "outputs": [],
   "source": [
    "# listaPivote = np.arange(0, 65)\n",
    "listaPivote = np.arange(100, 200)\n",
    "#revisar pivoteo del 100 al 200 "
   ]
  },
  {
   "cell_type": "code",
   "execution_count": 102,
   "metadata": {},
   "outputs": [],
   "source": [
    "def buscarID(array_osp, array_sig):\n",
    "    for i, sig in array_sig['ID']:\n",
    "        for j, osp in array_osp['ID']:\n",
    "            if(sig['ID'] in osp['ID']):\n",
    "                print('tru')\n",
    "                return True\n",
    "            else:\n",
    "                print('fake')\n",
    "                return False"
   ]
  },
  {
   "cell_type": "code",
   "execution_count": 103,
   "metadata": {},
   "outputs": [],
   "source": [
    "def valorIgual(array_osp, array_sig):\n",
    "    if(sig['ID'] == osp['ID']):\n",
    "        print('Valores correctos entre OSP y SIGRES | FTTH: ', sig['FTTH'], '| ID: ', sig['ID'])"
   ]
  },
  {
   "cell_type": "code",
   "execution_count": 104,
   "metadata": {},
   "outputs": [],
   "source": [
    "def valorVacio(array_osp, array_sig):\n",
    "    if(sig['ID'] == '#N/A' or sig['ID'] == 'NaN' or sig['ID'] == '' or sig['ID'] == 0):\n",
    "        return print('Valor ID vacio en FTTH: ', sig['FTTH'], '| ID #', osp['ID'],' se mantiene')"
   ]
  },
  {
   "cell_type": "code",
   "execution_count": 105,
   "metadata": {},
   "outputs": [],
   "source": [
    "def valorBlanco(array_osp, array_sig):\n",
    "    fila = pd.DataFrame({'FTTH': [osp['FTTH']], 'ID': [sig['ID']]})\n",
    "    dataLoader = pd.concat(dataLoader, fila)\n",
    "    print('Valor ID OSP ', osp['ID'],  ' en FTTH: ', osp['FTTH'], 'cambiado por ID SIGRES ', sig['ID'])"
   ]
  },
  {
   "cell_type": "code",
   "execution_count": 106,
   "metadata": {},
   "outputs": [],
   "source": [
    "def valorAzul(array_osp, array_sig):\n",
    "    pivote = 100\n",
    "\n",
    "    for a, sig in array_sig.iterrows():\n",
    "        for b, sig in array_osp.iterrows():\n",
    "            fila = pd.DataFrame({'FTTH': [osp['FTTH']], 'ID': pivote})\n",
    "            dataLoader = pd.concat(dataLoader, fila)\n",
    "            print('Valor ID OSP ', osp['ID'],  ' en FTTH: ', osp['FTTH'], 'cambiado por valor ', pivote)\n",
    "            pivote+=1\n",
    "            "
   ]
  },
  {
   "cell_type": "code",
   "execution_count": 110,
   "metadata": {},
   "outputs": [],
   "source": [
    "def pivotearSIG(array_osp, array_sig):\n",
    "    if(osp['ID'] >= 100 and osp['ID']<= 200):\n",
    "        fila = pd.DataFrame({'FTTH': [osp['FTTH']], 'ID': [sig['ID']]})\n",
    "        dataLoader = pd.concat(dataLoader, fila)\n",
    "        return print('Valor ID OSP ', osp['ID'],  ' en FTTH: ', osp['FTTH'], ' pivoteado por valor ', sig['ID'])"
   ]
  },
  {
   "cell_type": "code",
   "execution_count": 108,
   "metadata": {},
   "outputs": [
    {
     "name": "stdout",
     "output_type": "stream",
     "text": [
      "----------------------------------------------------------------------------------------------------------------------------------------------------\n",
      "Fila # 0\n",
      "SIG | FTTH:  1000009228  ID:  0\n",
      "OSP | FTTH:  1000009228  ID:  1\n",
      "Valor ID vacio en FTTH:  1000009228 | ID # 1  se mantiene\n",
      "None\n",
      "----------------------------------------------------------------------------------------------------------------------------------------------------\n",
      "Fila # 1\n",
      "SIG | FTTH:  1000014406  ID:  2\n",
      "OSP | FTTH:  1000014406  ID:  2\n",
      "Valores correctos entre OSP y SIGRES | FTTH:  1000014406 | ID:  2\n",
      "----------------------------------------------------------------------------------------------------------------------------------------------------\n",
      "Fila # 2\n",
      "SIG | FTTH:  1000014150  ID:  40\n",
      "OSP | FTTH:  1000014150  ID:  3\n",
      "estoy en la 20\n"
     ]
    },
    {
     "ename": "TypeError",
     "evalue": "cannot unpack non-iterable int object",
     "output_type": "error",
     "traceback": [
      "\u001b[1;31m---------------------------------------------------------------------------\u001b[0m",
      "\u001b[1;31mTypeError\u001b[0m                                 Traceback (most recent call last)",
      "\u001b[1;32mc:\\Users\\mabar\\anaconda3\\envs\\comparadorcsv\\notebook\\HomologacionOSPSIGRES.ipynb Celda 14\u001b[0m in \u001b[0;36m<cell line: 1>\u001b[1;34m()\u001b[0m\n\u001b[0;32m     <a href='vscode-notebook-cell:/c%3A/Users/mabar/anaconda3/envs/comparadorcsv/notebook/HomologacionOSPSIGRES.ipynb#X15sZmlsZQ%3D%3D?line=17'>18</a>\u001b[0m \u001b[39melse\u001b[39;00m:\n\u001b[0;32m     <a href='vscode-notebook-cell:/c%3A/Users/mabar/anaconda3/envs/comparadorcsv/notebook/HomologacionOSPSIGRES.ipynb#X15sZmlsZQ%3D%3D?line=18'>19</a>\u001b[0m     \u001b[39mprint\u001b[39m(\u001b[39m'\u001b[39m\u001b[39mestoy en la 20\u001b[39m\u001b[39m'\u001b[39m)\n\u001b[1;32m---> <a href='vscode-notebook-cell:/c%3A/Users/mabar/anaconda3/envs/comparadorcsv/notebook/HomologacionOSPSIGRES.ipynb#X15sZmlsZQ%3D%3D?line=19'>20</a>\u001b[0m     buscarIDOSP \u001b[39m=\u001b[39m buscarID(array_osp, array_sig)\n\u001b[0;32m     <a href='vscode-notebook-cell:/c%3A/Users/mabar/anaconda3/envs/comparadorcsv/notebook/HomologacionOSPSIGRES.ipynb#X15sZmlsZQ%3D%3D?line=20'>21</a>\u001b[0m     \u001b[39mif\u001b[39;00m(buscarIDOSP \u001b[39m==\u001b[39m \u001b[39mFalse\u001b[39;00m):\n\u001b[0;32m     <a href='vscode-notebook-cell:/c%3A/Users/mabar/anaconda3/envs/comparadorcsv/notebook/HomologacionOSPSIGRES.ipynb#X15sZmlsZQ%3D%3D?line=21'>22</a>\u001b[0m         \u001b[39mprint\u001b[39m(\u001b[39m'\u001b[39m\u001b[39mestoy en la 23\u001b[39m\u001b[39m'\u001b[39m)\n",
      "\u001b[1;32mc:\\Users\\mabar\\anaconda3\\envs\\comparadorcsv\\notebook\\HomologacionOSPSIGRES.ipynb Celda 14\u001b[0m in \u001b[0;36mbuscarID\u001b[1;34m(array_osp, array_sig)\u001b[0m\n\u001b[0;32m      <a href='vscode-notebook-cell:/c%3A/Users/mabar/anaconda3/envs/comparadorcsv/notebook/HomologacionOSPSIGRES.ipynb#X15sZmlsZQ%3D%3D?line=0'>1</a>\u001b[0m \u001b[39mdef\u001b[39;00m \u001b[39mbuscarID\u001b[39m(array_osp, array_sig):\n\u001b[1;32m----> <a href='vscode-notebook-cell:/c%3A/Users/mabar/anaconda3/envs/comparadorcsv/notebook/HomologacionOSPSIGRES.ipynb#X15sZmlsZQ%3D%3D?line=1'>2</a>\u001b[0m     \u001b[39mfor\u001b[39;00m i, sig \u001b[39min\u001b[39;00m array_sig[\u001b[39m'\u001b[39m\u001b[39mID\u001b[39m\u001b[39m'\u001b[39m]:\n\u001b[0;32m      <a href='vscode-notebook-cell:/c%3A/Users/mabar/anaconda3/envs/comparadorcsv/notebook/HomologacionOSPSIGRES.ipynb#X15sZmlsZQ%3D%3D?line=2'>3</a>\u001b[0m         \u001b[39mfor\u001b[39;00m j, osp \u001b[39min\u001b[39;00m array_osp[\u001b[39m'\u001b[39m\u001b[39mID\u001b[39m\u001b[39m'\u001b[39m]:\n\u001b[0;32m      <a href='vscode-notebook-cell:/c%3A/Users/mabar/anaconda3/envs/comparadorcsv/notebook/HomologacionOSPSIGRES.ipynb#X15sZmlsZQ%3D%3D?line=3'>4</a>\u001b[0m             \u001b[39mif\u001b[39;00m(sig[\u001b[39m'\u001b[39m\u001b[39mID\u001b[39m\u001b[39m'\u001b[39m] \u001b[39min\u001b[39;00m osp[\u001b[39m'\u001b[39m\u001b[39mID\u001b[39m\u001b[39m'\u001b[39m]):\n",
      "\u001b[1;31mTypeError\u001b[0m: cannot unpack non-iterable int object"
     ]
    }
   ],
   "source": [
    "for i, sig in array_sig.iterrows():\n",
    "    for j, osp in array_osp.iterrows():\n",
    "        if(sig['FTTH'] == osp['FTTH']):\n",
    "            print('----------------------------------------------------------------------------------------------------------------------------------------------------')\n",
    "            print('Fila #', i)\n",
    "            print('SIG | FTTH: ', sig['FTTH'], ' ID: ', sig['ID'])\n",
    "            print('OSP | FTTH: ', osp['FTTH'], ' ID: ', osp['ID'])\n",
    "\n",
    "            if(sig['ID'] == osp['ID']):\n",
    "                valorIgual(array_sig, array_osp)\n",
    "                break\n",
    "\n",
    "            elif(sig['ID'] == '#N/A' or sig['ID'] == 'NaN' or sig['ID'] == '' or sig['ID'] == 'nan' or sig['ID'] == 0):\n",
    "                vc = valorVacio(array_sig, array_osp) \n",
    "                print(vc)\n",
    "                break\n",
    "\n",
    "            else:\n",
    "                print('estoy en la 20')\n",
    "                buscarIDOSP = buscarID(array_osp, array_sig)\n",
    "                if(buscarIDOSP == False):\n",
    "                    print('estoy en la 23')\n",
    "                    valorBlanco(array_osp, array_sig)\n",
    "                    break\n",
    "                elif(buscarIDOSP == True):\n",
    "                    print('estoy en la 27')\n",
    "                    valorAzul(array_osp, array_sig)\n",
    "                    break\n",
    "                else:\n",
    "                    if(osp['FTTH'] >= 100 and osp['FTTH'] <= 200):\n",
    "                        fila = pd.DataFrame({'FTTH': [osp['FTTH']], 'ID': [sig['ID']]})\n",
    "                        print('Valor ID OSP ', osp['ID'],  ' en FTTH: ', osp['FTTH'], ' pivoteado por valor ', sig['ID'])\n",
    "                        break\n",
    "\n",
    "pivotearSIG(array_osp, array_sig)"
   ]
  },
  {
   "cell_type": "code",
   "execution_count": 17,
   "metadata": {},
   "outputs": [
    {
     "ename": "NameError",
     "evalue": "name 'fila' is not defined",
     "output_type": "error",
     "traceback": [
      "\u001b[1;31m---------------------------------------------------------------------------\u001b[0m",
      "\u001b[1;31mNameError\u001b[0m                                 Traceback (most recent call last)",
      "\u001b[1;32mc:\\Users\\mabar\\anaconda3\\envs\\comparadorcsv\\notebook\\HomologacionOSPSIGRES.ipynb Celda 14\u001b[0m in \u001b[0;36m<cell line: 1>\u001b[1;34m()\u001b[0m\n\u001b[1;32m----> <a href='vscode-notebook-cell:/c%3A/Users/mabar/anaconda3/envs/comparadorcsv/notebook/HomologacionOSPSIGRES.ipynb#X16sZmlsZQ%3D%3D?line=0'>1</a>\u001b[0m dataLoader \u001b[39m=\u001b[39m pd\u001b[39m.\u001b[39mconcat(dataLoader, fila)\n",
      "\u001b[1;31mNameError\u001b[0m: name 'fila' is not defined"
     ]
    }
   ],
   "source": [
    "dataLoader = pd.concat(dataLoader, fila)"
   ]
  },
  {
   "cell_type": "code",
   "execution_count": null,
   "metadata": {},
   "outputs": [
    {
     "data": {
      "text/html": [
       "<div>\n",
       "<style scoped>\n",
       "    .dataframe tbody tr th:only-of-type {\n",
       "        vertical-align: middle;\n",
       "    }\n",
       "\n",
       "    .dataframe tbody tr th {\n",
       "        vertical-align: top;\n",
       "    }\n",
       "\n",
       "    .dataframe thead th {\n",
       "        text-align: right;\n",
       "    }\n",
       "</style>\n",
       "<table border=\"1\" class=\"dataframe\">\n",
       "  <thead>\n",
       "    <tr style=\"text-align: right;\">\n",
       "      <th></th>\n",
       "      <th>FTTH</th>\n",
       "      <th>ID</th>\n",
       "    </tr>\n",
       "  </thead>\n",
       "  <tbody>\n",
       "  </tbody>\n",
       "</table>\n",
       "</div>"
      ],
      "text/plain": [
       "Empty DataFrame\n",
       "Columns: [FTTH, ID]\n",
       "Index: []"
      ]
     },
     "execution_count": 93,
     "metadata": {},
     "output_type": "execute_result"
    }
   ],
   "source": [
    "dataLoader"
   ]
  },
  {
   "cell_type": "code",
   "execution_count": null,
   "metadata": {},
   "outputs": [],
   "source": [
    "#Crea archivo dataLoaderer\n",
    "dataLoader.to_csv('dataLoaderer.csv', index=False)"
   ]
  }
 ],
 "metadata": {
  "kernelspec": {
   "display_name": "Python 3.10.4 ('comparadorcsv')",
   "language": "python",
   "name": "python3"
  },
  "language_info": {
   "codemirror_mode": {
    "name": "ipython",
    "version": 3
   },
   "file_extension": ".py",
   "mimetype": "text/x-python",
   "name": "python",
   "nbconvert_exporter": "python",
   "pygments_lexer": "ipython3",
   "version": "3.10.4"
  },
  "orig_nbformat": 4,
  "vscode": {
   "interpreter": {
    "hash": "e461bc9983e01b70b01afa684451f9daf9ab533cbcbe89d14e5839e39e22ed7b"
   }
  }
 },
 "nbformat": 4,
 "nbformat_minor": 2
}
