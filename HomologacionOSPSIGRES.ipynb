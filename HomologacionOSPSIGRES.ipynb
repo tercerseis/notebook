{
 "cells": [
  {
   "cell_type": "code",
   "execution_count": 214,
   "metadata": {},
   "outputs": [],
   "source": [
    "import pandas as pd\n",
    "import numpy as np\n",
    "from numpy import dtype\n"
   ]
  },
  {
   "cell_type": "code",
   "execution_count": 215,
   "metadata": {},
   "outputs": [],
   "source": [
    "OSP_FILE = 'OSP 0211.csv'\n",
    "SIG_FILE = 'SIG 0211.csv'\n",
    "\n",
    "OSP_FILE_1a8 = 'OSPSIG 1a8.csv'\n",
    "SIG_FILE_1a8 = 'OSPSIG 1a8.csv'\n",
    "\n",
    "OSP_FILE_711 = 'OSPSIG 0711.csv'\n",
    "SIG_FILE_711 = 'OSPSIG 0711.csv'"
   ]
  },
  {
   "cell_type": "code",
   "execution_count": 216,
   "metadata": {},
   "outputs": [],
   "source": [
    "file_osp = pd.read_csv(OSP_FILE, delimiter=';', encoding='UTF-8', low_memory=False)\n",
    "file_sig = pd.read_csv(SIG_FILE, delimiter=';', encoding='UTF-8', low_memory=False)\n",
    "\n",
    "file_osp_1a8 = pd.read_csv(OSP_FILE_1a8, delimiter=';', encoding='UTF-8', low_memory=False)\n",
    "file_sig_1a8 = pd.read_csv(SIG_FILE_1a8, delimiter=';', encoding='UTF-8', low_memory=False)\n",
    "\n",
    "file_osp_711 = pd.read_csv(OSP_FILE_711, delimiter=';', encoding='UTF-8', low_memory=False)\n",
    "file_sig_711 = pd.read_csv(SIG_FILE_711, delimiter=';', encoding='UTF-8', low_memory=False)"
   ]
  },
  {
   "cell_type": "code",
   "execution_count": 217,
   "metadata": {},
   "outputs": [],
   "source": [
    "array_osp = file_osp[['FTTH', 'ID']]\n",
    "array_sig = file_sig[['FTTH', 'ID']]\n",
    "\n",
    "array_osp_1a8 = file_osp_1a8[['FTTH', 'OSP']]\n",
    "array_sig_1a8 = file_sig_1a8[['FTTH', 'SIG']]\n",
    "\n",
    "array_osp_711 = file_osp_711[['FTTH', 'OSP']]\n",
    "array_sig_711 = file_sig_711[['FTTH', 'SIG']]\n",
    "\n",
    "dataLoader = pd.DataFrame(columns=['FTTH', 'ID'])"
   ]
  },
  {
   "cell_type": "code",
   "execution_count": 218,
   "metadata": {},
   "outputs": [],
   "source": [
    "p = 0\n",
    "i = 0\n",
    "j = 0\n",
    "o = 0\n",
    "pivote = 100"
   ]
  },
  {
   "cell_type": "code",
   "execution_count": 219,
   "metadata": {},
   "outputs": [],
   "source": [
    "# listaPivote = np.arange(0, 65)\n",
    "listaPivote = np.arange(100, 200)\n",
    "#revisar pivoteo del 100 al 200 "
   ]
  },
  {
   "cell_type": "code",
   "execution_count": 220,
   "metadata": {},
   "outputs": [],
   "source": [
    "# Funcion igual\n",
    "\n",
    "def valorIgual(array_osp, array_sig):\n",
    "    if(sig['ID'] == osp['ID']):\n",
    "        print('Valores correctos entre OSP y SIGRES | FTTH: ', sig['FTTH'], '| ID: ', sig['ID'])"
   ]
  },
  {
   "cell_type": "code",
   "execution_count": 221,
   "metadata": {},
   "outputs": [],
   "source": [
    "# Función vacia\n",
    "\n",
    "def valorVacio(array_osp, array_sig):\n",
    "    if(sig['ID'] == '#N/A' or sig['ID'] == 'NaN' or sig['ID'] == ''):\n",
    "        print('Valor ID vacio en FTTH: ', sig['FTTH'], '| ID #', osp['ID'],' se mantiene')"
   ]
  },
  {
   "cell_type": "code",
   "execution_count": 222,
   "metadata": {},
   "outputs": [],
   "source": [
    "# Función blanca\n",
    "\n",
    "def valorBlanco(array_osp, array_sig):\n",
    "    fila = pd.DataFrame({'FTTH': [osp['FTTH']], 'ID': [sig['ID']]})\n",
    "    dataLoader = pd.concat(dataLoader, fila)\n",
    "    print('Valor ID OSP ', osp['ID'],  ' en FTTH: ', osp['FTTH'], 'cambiado por ID SIGRES ', sig['ID'])"
   ]
  },
  {
   "cell_type": "code",
   "execution_count": 228,
   "metadata": {},
   "outputs": [],
   "source": [
    "def valorAzul(array_osp, array_sig):\n",
    "\n",
    "    for i, sig in array_sig.iterrows():\n",
    "        for j, sig in array_osp.iterrows():\n",
    "            fila = pd.DataFrame({'FTTH': [osp['FTTH']], 'ID': pivote})\n",
    "            dataLoader = pd.concat(dataLoader, fila)\n",
    "            print('Valor ID OSP ', osp['ID'],  ' en FTTH: ', osp['FTTH'], 'cambiado por valor ', pivote)\n",
    "            pivote+=1\n",
    "\n",
    "            if(osp['FTTH'] >= 100 and osp['FTTH']<= 200):\n",
    "                fila = pd.DataFrame({'FTTH': [osp['FTTH']], 'ID': [sig['ID']]})\n",
    "                dataLoader = pd.concat(dataLoader, fila)\n",
    "                print('Valor ID OSP ', osp['ID'],  ' en FTTH: ', osp['FTTH'], ' pivoteado por valor ', sig['ID'])\n",
    "                break"
   ]
  },
  {
   "cell_type": "code",
   "execution_count": 224,
   "metadata": {},
   "outputs": [],
   "source": [
    "def buscarID(array_osp, array_sig):\n",
    "    for i, sig in array_sig.iterrows():\n",
    "        for j, osp in array_osp.iterrows():\n",
    "            if(sig['ID'] in osp['ID']):\n",
    "                print('tru')\n",
    "                return True\n",
    "            else:\n",
    "                print('fake')\n",
    "                return False"
   ]
  },
  {
   "cell_type": "code",
   "execution_count": 229,
   "metadata": {},
   "outputs": [
    {
     "name": "stdout",
     "output_type": "stream",
     "text": [
      "----------------------------------------------------------------------------------------------------------------------------------------------------\n",
      "Fila # 0\n",
      "SIG | FTTH:  1000009228.0  ID:  nan\n",
      "OSP | FTTH:  1000009228  ID:  1\n",
      "----------------------------------------------------------------------------------------------------------------------------------------------------\n",
      "Fila # 1\n",
      "SIG | FTTH:  1000014406.0  ID:  4.0\n",
      "OSP | FTTH:  1000014406  ID:  2\n",
      "----------------------------------------------------------------------------------------------------------------------------------------------------\n",
      "Fila # 2\n",
      "SIG | FTTH:  1000014150.0  ID:  11.0\n",
      "OSP | FTTH:  1000014150  ID:  3\n",
      "----------------------------------------------------------------------------------------------------------------------------------------------------\n",
      "Fila # 3\n",
      "SIG | FTTH:  1000014201.0  ID:  45.0\n",
      "OSP | FTTH:  1000014201  ID:  4\n",
      "----------------------------------------------------------------------------------------------------------------------------------------------------\n",
      "Fila # 4\n",
      "SIG | FTTH:  1000014195.0  ID:  36.0\n",
      "OSP | FTTH:  1000014195  ID:  5\n",
      "----------------------------------------------------------------------------------------------------------------------------------------------------\n",
      "Fila # 5\n",
      "SIG | FTTH:  1000014202.0  ID:  4.0\n",
      "OSP | FTTH:  1000014202  ID:  6\n",
      "----------------------------------------------------------------------------------------------------------------------------------------------------\n",
      "Fila # 6\n",
      "SIG | FTTH:  1000014203.0  ID:  44.0\n",
      "OSP | FTTH:  1000014203  ID:  7\n",
      "----------------------------------------------------------------------------------------------------------------------------------------------------\n",
      "Fila # 7\n",
      "SIG | FTTH:  1000009419.0  ID:  51.0\n",
      "OSP | FTTH:  1000009419  ID:  8\n",
      "----------------------------------------------------------------------------------------------------------------------------------------------------\n",
      "Fila # 8\n",
      "SIG | FTTH:  1000014205.0  ID:  59.0\n",
      "OSP | FTTH:  1000014205  ID:  9\n",
      "----------------------------------------------------------------------------------------------------------------------------------------------------\n",
      "Fila # 9\n",
      "SIG | FTTH:  1000014209.0  ID:  62.0\n",
      "OSP | FTTH:  1000014209  ID:  10\n",
      "----------------------------------------------------------------------------------------------------------------------------------------------------\n",
      "Fila # 10\n",
      "SIG | FTTH:  1000014211.0  ID:  7.0\n",
      "OSP | FTTH:  1000014211  ID:  11\n",
      "----------------------------------------------------------------------------------------------------------------------------------------------------\n",
      "Fila # 11\n",
      "SIG | FTTH:  1000014212.0  ID:  18.0\n",
      "OSP | FTTH:  1000014212  ID:  12\n",
      "----------------------------------------------------------------------------------------------------------------------------------------------------\n",
      "Fila # 12\n",
      "SIG | FTTH:  1000014213.0  ID:  49.0\n",
      "OSP | FTTH:  1000014213  ID:  13\n",
      "----------------------------------------------------------------------------------------------------------------------------------------------------\n",
      "Fila # 13\n",
      "SIG | FTTH:  1000014250.0  ID:  13.0\n",
      "OSP | FTTH:  1000014250  ID:  14\n",
      "----------------------------------------------------------------------------------------------------------------------------------------------------\n",
      "Fila # 14\n",
      "SIG | FTTH:  1000014257.0  ID:  20.0\n",
      "OSP | FTTH:  1000014257  ID:  15\n",
      "----------------------------------------------------------------------------------------------------------------------------------------------------\n",
      "Fila # 15\n",
      "SIG | FTTH:  1000014264.0  ID:  25.0\n",
      "OSP | FTTH:  1000014264  ID:  16\n",
      "----------------------------------------------------------------------------------------------------------------------------------------------------\n",
      "Fila # 16\n",
      "SIG | FTTH:  1000014306.0  ID:  23.0\n",
      "OSP | FTTH:  1000014306  ID:  17\n",
      "----------------------------------------------------------------------------------------------------------------------------------------------------\n",
      "Fila # 17\n",
      "SIG | FTTH:  1000014407.0  ID:  12.0\n",
      "OSP | FTTH:  1000014407  ID:  18\n",
      "----------------------------------------------------------------------------------------------------------------------------------------------------\n",
      "Fila # 18\n",
      "SIG | FTTH:  1000014431.0  ID:  31.0\n",
      "OSP | FTTH:  1000014431  ID:  19\n",
      "----------------------------------------------------------------------------------------------------------------------------------------------------\n",
      "Fila # 19\n",
      "SIG | FTTH:  1000014007.0  ID:  55.0\n",
      "OSP | FTTH:  1000014007  ID:  55\n",
      "Valores correctos entre OSP y SIGRES | FTTH:  1000014007.0 | ID:  55.0\n"
     ]
    }
   ],
   "source": [
    "for i, sig in array_sig.iterrows():\n",
    "    for j, osp in array_osp.iterrows():\n",
    "        \n",
    "\n",
    "        if(sig['FTTH'] == osp['FTTH']):\n",
    "\n",
    "            print('----------------------------------------------------------------------------------------------------------------------------------------------------')\n",
    "            print('Fila #', i)\n",
    "            print('SIG | FTTH: ', sig['FTTH'], ' ID: ', sig['ID'])\n",
    "            print('OSP | FTTH: ', osp['FTTH'], ' ID: ', osp['ID'])\n",
    "\n",
    "            if(sig['ID'] == osp['ID'] or sig['ID']):\n",
    "                valorIgual(array_sig, array_osp)\n",
    "                break\n",
    "\n",
    "            elif(sig['ID'] == '#N/A' or sig['ID'] == 'NaN' or sig['ID'] == '' or sig['ID'] == 'nan'):\n",
    "                valorVacio(array_sig, array_osp)\n",
    "                print('estoy en la 19')\n",
    "                print('Valor ID vacio en FTTH: ', sig['FTTH'], '| ID #', osp['ID'],' se mantiene')\n",
    "                break\n",
    "\n",
    "            else:\n",
    "                print('estoy en la 24')\n",
    "                buscarIDOSP = buscarID(array_osp, array_sig)\n",
    "\n",
    "                if(buscarIDOSP == False):\n",
    "                    print('estoy en la 27')\n",
    "                    valorBlanco(array_osp, array_sig)\n",
    "                    break\n",
    "                elif(buscarIDOSP == True):\n",
    "                    print('estoy en la 31')\n",
    "                    valorAzul(array_osp, array_sig)\n",
    "                    break\n",
    "                else:\n",
    "                    if(osp['FTTH'] >= 100 and osp['FTTH'] <= 200):\n",
    "                        fila = pd.DataFrame({'FTTH': [osp['FTTH']], 'ID': [sig['ID']]})\n",
    "                        print('Valor ID OSP ', osp['ID'],  ' en FTTH: ', osp['FTTH'], ' pivoteado por valor ', sig['ID'])\n",
    "                        break"
   ]
  },
  {
   "cell_type": "code",
   "execution_count": 226,
   "metadata": {},
   "outputs": [],
   "source": [
    "# def buscarPivote(array_osp, pivote):\n",
    "#     for indice in range(len(array_osp)):\n",
    "#         if(pivote in listaPivote):\n",
    "#             if(pivote in array_osp):\n",
    "#                 print('True')\n",
    "#         else: \n",
    "#             print('False')\n",
    "#             pivote+=1"
   ]
  },
  {
   "cell_type": "code",
   "execution_count": 227,
   "metadata": {},
   "outputs": [
    {
     "ename": "IndentationError",
     "evalue": "expected an indented block after 'for' statement on line 2 (3219811850.py, line 20)",
     "output_type": "error",
     "traceback": [
      "\u001b[1;36m  Input \u001b[1;32mIn [227]\u001b[1;36m\u001b[0m\n\u001b[1;33m    valor1 = 0\u001b[0m\n\u001b[1;37m    ^\u001b[0m\n\u001b[1;31mIndentationError\u001b[0m\u001b[1;31m:\u001b[0m expected an indented block after 'for' statement on line 2\n"
     ]
    }
   ],
   "source": [
    "def buscarLibre(array_osp, id_osp):\n",
    "    for id_osp in array_osp:\n",
    "\n",
    "    # en caso de no estar libre asignamos como ID un numero del 100 al 200\n",
    "    # una vez limpiados todos los valores que no se encontraban libre\n",
    "    # asignamos los valores correctos\n",
    "\n",
    "\n",
    "    # Idea: funcion para cambiar datos en azul y funcion para cambiar blancos\n",
    "\n",
    "    # funcion blanca solo copia y pega valores correctos\n",
    "    # fila = pd.DataFrame({'FTTH': [osp['FTTH']], 'ID': [sig['ID']]})\n",
    "    \n",
    "    # funcion azul asigna numero de 100 a 200 hasta limpiar valores azules, tabla intermedia\n",
    "        # fila = pd.DataFrame({'FTTH': [osp['FTTH']], 'ID': valor X]})\n",
    "        # luego de limpiar todos, asigna valores correctos\n",
    "            # fila = pd.DataFrame({'FTTH': [osp['FTTH']], 'ID': [sig['ID']]})\n",
    "\n",
    "\n",
    "    valor1 = 0\n",
    "\n",
    "    # Buscar el ID de array_sig[ID ] en array_osp\n",
    "    # Si esta libre se lo asignamos a array_osp[ID]\n",
    "    # Si no esta libre le asignamos un valor auxiliar entre 100 y 200, hasta que liberemos el valor anterior\n",
    "\n",
    "    # Lo primero es buscar el ID = 28 en array_osp, \n",
    "    # Buscar si el 28 se encuentra libre\n",
    "    # Si el 28 se encuentra libre entonces el valor 2 de array_osp[ID] lo asignamos a un valor auxiliar\n",
    "    # Luego asignamos el 28 a array_osp[ID]\n",
    "    return valor1\n"
   ]
  },
  {
   "cell_type": "code",
   "execution_count": null,
   "metadata": {},
   "outputs": [],
   "source": [
    "# # Codigo blanco\n",
    "\n",
    "# for i, sig in array_sig.iterrows():\n",
    "#     for j, osp in array_osp.iterrows():\n",
    "\n",
    "#         if(sig['FTTH'] == osp['FTTH']):\n",
    "\n",
    "#             print('----------------------------------------------------------------------------------------------------------------------------------------------------')\n",
    "#             print('SIG | FTTH: ', sig['FTTH'], ' ID: ', sig['ID'])\n",
    "#             print('OSP | FTTH: ', osp['FTTH'], ' ID: ', osp['ID'])\n",
    "#             print('----------------------------------------------------------------------------------------------------------------------------------------------------')\n",
    "\n",
    "#             #Caso 1: Ambas tablas coinciden\n",
    "#             if(sig['ID'] == osp['ID']):\n",
    "#                 print('Valores correctos en FTTH: ', sig['FTTH'], '| ID: ', sig['ID'],'| Valor de i: ', i)\n",
    "#                 break"
   ]
  },
  {
   "cell_type": "code",
   "execution_count": null,
   "metadata": {},
   "outputs": [],
   "source": [
    "# Codigo azul\n",
    "for i, sig in array_sig.iterrows():\n",
    "    for j, osp in array_osp.iterrows():\n",
    "\n",
    "        if(sig['FTTH'] == osp['FTTH']):\n",
    "\n",
    "            print('----------------------------------------------------------------------------------------------------------------------------------------------------')\n",
    "            print('SIG | FTTH: ', sig['FTTH'], ' ID: ', sig['ID'])\n",
    "            print('OSP | FTTH: ', osp['FTTH'], ' ID: ', osp['ID'])\n",
    "            print('----------------------------------------------------------------------------------------------------------------------------------------------------')\n",
    "\n",
    "\n",
    "            if('hola' == True):\n",
    "                busqueda = buscarPivote([array_osp, pivote])\n",
    "                print (busqueda)\n",
    "\n",
    "                #Caso 2: Hay un pivote libre para pivotear con OSP\n",
    "                if(busqueda == True):\n",
    "                    tIntermedia = pd.DataFrame({'FTTH': [osp['FTTH']], 'ID': [osp['ID']]})\n",
    "                    fila = pd.DataFrame({'FTTH': [osp['FTTH']], 'ID': [pivote]})\n",
    "                    dataLoader = pd.concat(dataLoader, fila)\n",
    "                    print('Se realiza pivoteo en: ', osp['FTTH'], '| Valor liberado: ', tIntermedia['ID'], ' | Valor actual de ID: ', pivote , '| Valor de i: ', i)\n",
    "                    break"
   ]
  },
  {
   "cell_type": "code",
   "execution_count": null,
   "metadata": {},
   "outputs": [
    {
     "ename": "NameError",
     "evalue": "name 'fila' is not defined",
     "output_type": "error",
     "traceback": [
      "\u001b[1;31m---------------------------------------------------------------------------\u001b[0m",
      "\u001b[1;31mNameError\u001b[0m                                 Traceback (most recent call last)",
      "\u001b[1;32mc:\\Users\\mabar\\anaconda3\\envs\\comparadorcsv\\notebook\\HomologacionOSPSIGRES.ipynb Celda 13\u001b[0m in \u001b[0;36m<cell line: 1>\u001b[1;34m()\u001b[0m\n\u001b[1;32m----> <a href='vscode-notebook-cell:/c%3A/Users/mabar/anaconda3/envs/comparadorcsv/notebook/HomologacionOSPSIGRES.ipynb#X13sZmlsZQ%3D%3D?line=0'>1</a>\u001b[0m dataLoader \u001b[39m=\u001b[39m pd\u001b[39m.\u001b[39mconcat(dataLoader, fila)\n",
      "\u001b[1;31mNameError\u001b[0m: name 'fila' is not defined"
     ]
    }
   ],
   "source": [
    "dataLoader = pd.concat(dataLoader, fila)"
   ]
  },
  {
   "cell_type": "code",
   "execution_count": null,
   "metadata": {},
   "outputs": [
    {
     "data": {
      "text/html": [
       "<div>\n",
       "<style scoped>\n",
       "    .dataframe tbody tr th:only-of-type {\n",
       "        vertical-align: middle;\n",
       "    }\n",
       "\n",
       "    .dataframe tbody tr th {\n",
       "        vertical-align: top;\n",
       "    }\n",
       "\n",
       "    .dataframe thead th {\n",
       "        text-align: right;\n",
       "    }\n",
       "</style>\n",
       "<table border=\"1\" class=\"dataframe\">\n",
       "  <thead>\n",
       "    <tr style=\"text-align: right;\">\n",
       "      <th></th>\n",
       "      <th>FTTH</th>\n",
       "      <th>ID</th>\n",
       "    </tr>\n",
       "  </thead>\n",
       "  <tbody>\n",
       "  </tbody>\n",
       "</table>\n",
       "</div>"
      ],
      "text/plain": [
       "Empty DataFrame\n",
       "Columns: [FTTH, ID]\n",
       "Index: []"
      ]
     },
     "execution_count": 168,
     "metadata": {},
     "output_type": "execute_result"
    }
   ],
   "source": [
    "dataLoader"
   ]
  },
  {
   "cell_type": "code",
   "execution_count": null,
   "metadata": {},
   "outputs": [],
   "source": [
    "#Crea archivo dataLoaderer\n",
    "dataLoader.to_csv('dataLoaderer.csv', index=False)"
   ]
  }
 ],
 "metadata": {
  "kernelspec": {
   "display_name": "Python 3.10.4 ('comparadorcsv')",
   "language": "python",
   "name": "python3"
  },
  "language_info": {
   "codemirror_mode": {
    "name": "ipython",
    "version": 3
   },
   "file_extension": ".py",
   "mimetype": "text/x-python",
   "name": "python",
   "nbconvert_exporter": "python",
   "pygments_lexer": "ipython3",
   "version": "3.10.4"
  },
  "orig_nbformat": 4,
  "vscode": {
   "interpreter": {
    "hash": "e461bc9983e01b70b01afa684451f9daf9ab533cbcbe89d14e5839e39e22ed7b"
   }
  }
 },
 "nbformat": 4,
 "nbformat_minor": 2
}
