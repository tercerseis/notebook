{
 "cells": [
  {
   "cell_type": "code",
   "execution_count": null,
   "metadata": {},
   "outputs": [],
   "source": [
    "import pandas as pd"
   ]
  },
  {
   "cell_type": "code",
   "execution_count": null,
   "metadata": {},
   "outputs": [],
   "source": [
    "OSP_FILE = 'osp_3.csv'\n",
    "SIG_FILE = 'sig_3.csv'\n",
    "\n",
    "#Dataframes para DataLoader y tablas auxiliares\n",
    "dataLoader = pd.DataFrame()\n",
    "osp_aux = pd.DataFrame()\n",
    "sig_aux = pd.DataFrame()"
   ]
  },
  {
   "cell_type": "code",
   "execution_count": null,
   "metadata": {},
   "outputs": [],
   "source": [
    "file_osp = pd.read_csv(OSP_FILE, delimiter=';', encoding='UTF-8', low_memory=False)\n",
    "file_sig = pd.read_csv(SIG_FILE, delimiter=';', encoding='UTF-8', low_memory=False)\n",
    "\n",
    "#Tablas auxiliares\n",
    "file_osp_aux = pd.read_csv(OSP_FILE, delimiter=';', encoding='UTF-8', low_memory=False, on_bad_lines='skip')\n",
    "file_sig_aux = pd.read_csv(SIG_FILE, delimiter=';', encoding='UTF-8', low_memory=False, on_bad_lines='skip')"
   ]
  },
  {
   "cell_type": "code",
   "execution_count": null,
   "metadata": {},
   "outputs": [],
   "source": [
    "array_osp = file_osp[['FTTH', 'ID']]\n",
    "array_sig = file_sig[['FTTH', 'ID']]\n",
    "dataLoader = pd.DataFrame(columns=['NS_FTTH', 'ID'])\n",
    "\n",
    "#Seleccion de puertos \n",
    "#array_osp = file_osp[['FTTH', 'PUERTO', 'ID']]\n",
    "#array_sig = file_osp[['FTTH', 'PUERTO', 'ID']]"
   ]
  },
  {
   "cell_type": "code",
   "execution_count": null,
   "metadata": {},
   "outputs": [],
   "source": [
    "p = 0\n",
    "i = 0\n",
    "j = 0\n",
    "o = 0\n",
    "pivote = 0\n",
    "\n",
    "for i, sig in array_sig.iterrows():\n",
    "    for j, osp in array_osp.iterrows():\n",
    "\n",
    "        #Caso 1: Ambas tablas coinciden\n",
    "        if(sig['FTTH'] == osp['FTTH'] and sig['ID'] == osp['ID']):\n",
    "            #fila = pd.DataFrame({'FTTH': [sig['FTTH']], 'ID': [sig['ID']]})\n",
    "            #dataLoader = pd.concat(dataLoader, fila)\n",
    "            \n",
    "            print('Verdadero => {} = {}'.format(sig[\"ID\"], osp[\"ID\"]), 'valor de i: ', i)\n",
    "            break\n",
    "        else:\n",
    "            \n",
    "        \n",
    "        #Caso 2: El valor de SIGRES no está libre en OSP4\n",
    "        elif sig['ID'] in array_osp:\n",
    "            for o, file_osp in array_osp.iterrows():\n",
    "                if(pivote in array_osp):\n",
    "                    pivote = file_osp[o]\n",
    "\n",
    "                    # fila = pd.DataFrame({'FTTH': [sig['FTTH']], 'ID': [sig['ID']]})\n",
    "                    # dataLoader = pd.concat(dataLoader, fila)\n",
    "\n",
    "                    print('NO LIBRE => {} = {}'.format(sig[\"ID\"], osp[\"ID\"]), 'valor de i: ', i)\n",
    "                    \n",
    "                    if(pivote > 64 or pivote < 0):\n",
    "                        pivote = 0\n",
    "                    break\n",
    "                else:\n",
    "                    print('El archivo no cuenta con filas pivoteables')\n",
    "                    break\n",
    "\n",
    "        #Caso 3: El valor de SIGRES está libre en OSP\n",
    "        else:\n",
    "            print('FALSO => {} != {}'.format(sig[\"ID\"], osp[\"ID\"]), 'valor de i: ', i)\n",
    "\n",
    "            # fila = pd.DataFrame({'FTTH': [sig['FTTH']], 'ID': [sig['ID']]})\n",
    "            #dataLoader = pd.concat(dataLoader, fila)\n",
    "            \n",
    "            break\n",
    "        \n",
    "        "
   ]
  }
 ],
 "metadata": {
  "kernelspec": {
   "display_name": "Python 3.9.12 ('base')",
   "language": "python",
   "name": "python3"
  },
  "language_info": {
   "name": "python",
   "version": "3.9.12"
  },
  "orig_nbformat": 4,
  "vscode": {
   "interpreter": {
    "hash": "d928c9380d2d7535665705a50d87447ecd761547b2065cc2c2098903ea6fa649"
   }
  }
 },
 "nbformat": 4,
 "nbformat_minor": 2
}
