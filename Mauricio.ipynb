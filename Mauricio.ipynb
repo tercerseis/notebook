{
 "cells": [
  {
   "cell_type": "code",
   "execution_count": null,
   "metadata": {},
   "outputs": [],
   "source": [
    "for i:\n",
    "    for j:\n",
    "        if(FTHH = fthh):\n",
    "            hace algo\n",
    "\n",
    "            if (id =  Id):\n",
    "                otra cosa 1\n",
    "                break\n",
    "            else:\n",
    "                pivote --> pescada\n",
    "                buscar_pivote(array_osp, pivote)\n",
    "\n",
    "                if (buscar_pivote(array_osp, pivote) == True):\n",
    "                    pass hace algo\n",
    "                else:\n",
    "                    break (no hay pivote)\n",
    "\n",
    "                if (hay pivote libre)\n",
    "                else:\n",
    "                    no hay pivote libre\n",
    "                    break\n",
    "        else:\n",
    "            hace otra cosa"
   ]
  },
  {
   "cell_type": "markdown",
   "metadata": {},
   "source": [
    "array_osp = [ 1,3,5,6]\n",
    "pivote = 2"
   ]
  },
  {
   "cell_type": "code",
   "execution_count": 1,
   "metadata": {},
   "outputs": [],
   "source": [
    "array_osp = [ 1,3,5,6]\n",
    "pivote = 2"
   ]
  },
  {
   "cell_type": "code",
   "execution_count": 2,
   "metadata": {},
   "outputs": [],
   "source": [
    "def buscar_pivote(array_osp, pivote):\n",
    "    if (pivote in array_osp):\n",
    "        return True\n",
    "    else: \n",
    "        return False"
   ]
  },
  {
   "cell_type": "code",
   "execution_count": 3,
   "metadata": {},
   "outputs": [
    {
     "data": {
      "text/plain": [
       "False"
      ]
     },
     "execution_count": 3,
     "metadata": {},
     "output_type": "execute_result"
    }
   ],
   "source": [
    "buscar_pivote(array_osp, pivote)"
   ]
  }
 ],
 "metadata": {
  "kernelspec": {
   "display_name": "Python 3.9.12 ('base')",
   "language": "python",
   "name": "python3"
  },
  "language_info": {
   "codemirror_mode": {
    "name": "ipython",
    "version": 3
   },
   "file_extension": ".py",
   "mimetype": "text/x-python",
   "name": "python",
   "nbconvert_exporter": "python",
   "pygments_lexer": "ipython3",
   "version": "3.9.12"
  },
  "orig_nbformat": 4,
  "vscode": {
   "interpreter": {
    "hash": "d928c9380d2d7535665705a50d87447ecd761547b2065cc2c2098903ea6fa649"
   }
  }
 },
 "nbformat": 4,
 "nbformat_minor": 2
}
